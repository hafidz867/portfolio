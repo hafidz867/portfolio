{
  "nbformat": 4,
  "nbformat_minor": 0,
  "metadata": {
    "colab": {
      "name": "Copy of 444033_444052_Malware Classification.ipynb",
      "provenance": [],
      "collapsed_sections": []
    },
    "kernelspec": {
      "name": "python3",
      "display_name": "Python 3"
    },
    "language_info": {
      "name": "python"
    }
  },
  "cells": [
    {
      "cell_type": "markdown",
      "metadata": {
        "id": "yKab9uboh3v9"
      },
      "source": [
        "#####Pemrosesan Bahasa Alami\n",
        "#Malware Classification\n",
        "##Nama Anggota:\n",
        "- Adhitya Primandhika\t\n",
        "  (19/444033/TK/49229)\n",
        "- Hafidz Arifudin\t\t  \n",
        "  (19/444052/TK/49248)"
      ]
    },
    {
      "cell_type": "markdown",
      "metadata": {
        "id": "iwlqrULYWZ1m"
      },
      "source": [
        "##Import library"
      ]
    },
    {
      "cell_type": "code",
      "metadata": {
        "id": "byD-xp4PM0qJ"
      },
      "source": [
        "import os\n",
        "import pandas as pd\n",
        "import numpy as np\n",
        "import matplotlib.pyplot as plt\n",
        "%matplotlib inline\n",
        "import seaborn as sns\n",
        "from sklearn.metrics import f1_score, accuracy_score\n",
        "from sklearn.pipeline import Pipeline\n",
        "from zipfile import ZipFile\n",
        "import re\n",
        "from sklearn.feature_extraction.text import CountVectorizer\n",
        "from sklearn.feature_extraction.text import TfidfTransformer\n",
        "from sklearn.linear_model import LogisticRegression, Perceptron, RidgeClassifier, SGDClassifier\n",
        "from sklearn.svm import SVC, LinearSVC\n",
        "from sklearn.ensemble import RandomForestClassifier\n",
        "from sklearn.neighbors import KNeighborsClassifier\n",
        "from sklearn.naive_bayes import GaussianNB\n",
        "from sklearn.tree import DecisionTreeClassifier\n",
        "from sklearn.model_selection import train_test_split"
      ],
      "execution_count": null,
      "outputs": []
    },
    {
      "cell_type": "markdown",
      "metadata": {
        "id": "rrp2EkYKZupx"
      },
      "source": [
        "Untuk mengetahui model mana yang akan digunakan, terlebih dahulu mengidentifikasi masing-masing algoritma sehingga akan didapatkan algoritma yang paling cocok untuk kasus ini. Maka dari itu, banyak algoritma yang harus diimport librarynya menggunakan library sklearn."
      ]
    },
    {
      "cell_type": "markdown",
      "metadata": {
        "id": "vJX-SSLWWkgi"
      },
      "source": [
        "Dokumen yang diperlukan untuk melakukan Malware Classification adalah Train.csv, Test.csv, dan LOGS.zip. Untuk menjalankannya kita perlu memasukkan/mengunggah ketiga file tersebut."
      ]
    },
    {
      "cell_type": "markdown",
      "metadata": {
        "id": "8DIkG2KYXLX3"
      },
      "source": [
        "##Membuat dataframe untuk data train dan data test menggunakan library pandas"
      ]
    },
    {
      "cell_type": "code",
      "metadata": {
        "id": "kZLeDLMygIYz",
        "colab": {
          "base_uri": "https://localhost:8080/",
          "height": 206
        },
        "outputId": "bd7ba92a-9b5e-4567-987a-ea74a53775a3"
      },
      "source": [
        "train_df = pd.read_csv(\"Train.csv\", names=[\"Sample\",\"Class\"])\n",
        "train_df.head()"
      ],
      "execution_count": null,
      "outputs": [
        {
          "output_type": "execute_result",
          "data": {
            "text/html": [
              "<div>\n",
              "<style scoped>\n",
              "    .dataframe tbody tr th:only-of-type {\n",
              "        vertical-align: middle;\n",
              "    }\n",
              "\n",
              "    .dataframe tbody tr th {\n",
              "        vertical-align: top;\n",
              "    }\n",
              "\n",
              "    .dataframe thead th {\n",
              "        text-align: right;\n",
              "    }\n",
              "</style>\n",
              "<table border=\"1\" class=\"dataframe\">\n",
              "  <thead>\n",
              "    <tr style=\"text-align: right;\">\n",
              "      <th></th>\n",
              "      <th>Sample</th>\n",
              "      <th>Class</th>\n",
              "    </tr>\n",
              "  </thead>\n",
              "  <tbody>\n",
              "    <tr>\n",
              "      <th>0</th>\n",
              "      <td>3533</td>\n",
              "      <td>2</td>\n",
              "    </tr>\n",
              "    <tr>\n",
              "      <th>1</th>\n",
              "      <td>1270</td>\n",
              "      <td>5</td>\n",
              "    </tr>\n",
              "    <tr>\n",
              "      <th>2</th>\n",
              "      <td>3270</td>\n",
              "      <td>1</td>\n",
              "    </tr>\n",
              "    <tr>\n",
              "      <th>3</th>\n",
              "      <td>1323</td>\n",
              "      <td>2</td>\n",
              "    </tr>\n",
              "    <tr>\n",
              "      <th>4</th>\n",
              "      <td>1064</td>\n",
              "      <td>2</td>\n",
              "    </tr>\n",
              "  </tbody>\n",
              "</table>\n",
              "</div>"
            ],
            "text/plain": [
              "   Sample  Class\n",
              "0    3533      2\n",
              "1    1270      5\n",
              "2    3270      1\n",
              "3    1323      2\n",
              "4    1064      2"
            ]
          },
          "metadata": {},
          "execution_count": 128
        }
      ]
    },
    {
      "cell_type": "code",
      "metadata": {
        "id": "R5iasFGAgS_D",
        "colab": {
          "base_uri": "https://localhost:8080/",
          "height": 206
        },
        "outputId": "4cccf70d-af71-4eb9-b852-b508890119b6"
      },
      "source": [
        "test_df = pd.read_csv(\"Test.csv\", names=[\"Sample\"])\n",
        "test_df.head()"
      ],
      "execution_count": null,
      "outputs": [
        {
          "output_type": "execute_result",
          "data": {
            "text/html": [
              "<div>\n",
              "<style scoped>\n",
              "    .dataframe tbody tr th:only-of-type {\n",
              "        vertical-align: middle;\n",
              "    }\n",
              "\n",
              "    .dataframe tbody tr th {\n",
              "        vertical-align: top;\n",
              "    }\n",
              "\n",
              "    .dataframe thead th {\n",
              "        text-align: right;\n",
              "    }\n",
              "</style>\n",
              "<table border=\"1\" class=\"dataframe\">\n",
              "  <thead>\n",
              "    <tr style=\"text-align: right;\">\n",
              "      <th></th>\n",
              "      <th>Sample</th>\n",
              "    </tr>\n",
              "  </thead>\n",
              "  <tbody>\n",
              "    <tr>\n",
              "      <th>0</th>\n",
              "      <td>54</td>\n",
              "    </tr>\n",
              "    <tr>\n",
              "      <th>1</th>\n",
              "      <td>1460</td>\n",
              "    </tr>\n",
              "    <tr>\n",
              "      <th>2</th>\n",
              "      <td>1312</td>\n",
              "    </tr>\n",
              "    <tr>\n",
              "      <th>3</th>\n",
              "      <td>1230</td>\n",
              "    </tr>\n",
              "    <tr>\n",
              "      <th>4</th>\n",
              "      <td>3077</td>\n",
              "    </tr>\n",
              "  </tbody>\n",
              "</table>\n",
              "</div>"
            ],
            "text/plain": [
              "   Sample\n",
              "0      54\n",
              "1    1460\n",
              "2    1312\n",
              "3    1230\n",
              "4    3077"
            ]
          },
          "metadata": {},
          "execution_count": 129
        }
      ]
    },
    {
      "cell_type": "code",
      "metadata": {
        "colab": {
          "base_uri": "https://localhost:8080/",
          "height": 206
        },
        "id": "uuJmzKcol9_0",
        "outputId": "5d12494c-0348-4da6-89b8-118cc0aabb34"
      },
      "source": [
        "labeled_df = pd.read_csv(\"test_labeled.csv\", names=[\"Sample\", \"Class\"])\n",
        "labeled_df.head()"
      ],
      "execution_count": null,
      "outputs": [
        {
          "output_type": "execute_result",
          "data": {
            "text/html": [
              "<div>\n",
              "<style scoped>\n",
              "    .dataframe tbody tr th:only-of-type {\n",
              "        vertical-align: middle;\n",
              "    }\n",
              "\n",
              "    .dataframe tbody tr th {\n",
              "        vertical-align: top;\n",
              "    }\n",
              "\n",
              "    .dataframe thead th {\n",
              "        text-align: right;\n",
              "    }\n",
              "</style>\n",
              "<table border=\"1\" class=\"dataframe\">\n",
              "  <thead>\n",
              "    <tr style=\"text-align: right;\">\n",
              "      <th></th>\n",
              "      <th>Sample</th>\n",
              "      <th>Class</th>\n",
              "    </tr>\n",
              "  </thead>\n",
              "  <tbody>\n",
              "    <tr>\n",
              "      <th>0</th>\n",
              "      <td>54</td>\n",
              "      <td>2</td>\n",
              "    </tr>\n",
              "    <tr>\n",
              "      <th>1</th>\n",
              "      <td>1460</td>\n",
              "      <td>1</td>\n",
              "    </tr>\n",
              "    <tr>\n",
              "      <th>2</th>\n",
              "      <td>1312</td>\n",
              "      <td>2</td>\n",
              "    </tr>\n",
              "    <tr>\n",
              "      <th>3</th>\n",
              "      <td>1230</td>\n",
              "      <td>1</td>\n",
              "    </tr>\n",
              "    <tr>\n",
              "      <th>4</th>\n",
              "      <td>3077</td>\n",
              "      <td>2</td>\n",
              "    </tr>\n",
              "  </tbody>\n",
              "</table>\n",
              "</div>"
            ],
            "text/plain": [
              "   Sample  Class\n",
              "0      54      2\n",
              "1    1460      1\n",
              "2    1312      2\n",
              "3    1230      1\n",
              "4    3077      2"
            ]
          },
          "metadata": {},
          "execution_count": 130
        }
      ]
    },
    {
      "cell_type": "markdown",
      "metadata": {
        "id": "4-qx8YWNXV_u"
      },
      "source": [
        "##Melihat sebaran feature class yang ada pada data train"
      ]
    },
    {
      "cell_type": "code",
      "metadata": {
        "colab": {
          "base_uri": "https://localhost:8080/",
          "height": 383
        },
        "id": "F4l7kQYndAx9",
        "outputId": "d6fe9946-b34e-4327-b9b7-8cf88692e86a"
      },
      "source": [
        "def labels(x,y):\n",
        "    for i in range(len(x)):\n",
        "        plt.text(i+1, y[i]+15, y[i], ha = 'center')\n",
        "plt.figure(figsize=(5,5), dpi=80)\n",
        "plt.bar(train_df[\"Class\"].value_counts().sort_index().index.tolist(), train_df.groupby('Class')[\"Sample\"].nunique().tolist())\n",
        "labels(train_df[\"Class\"].value_counts().sort_index().index.tolist(), train_df.groupby('Class')[\"Sample\"].nunique().tolist())\n",
        "plt.title('Sebaran class pada data train')\n",
        "plt.xlabel('Class')\n",
        "plt.ylabel('Count')\n",
        "plt.show()"
      ],
      "execution_count": null,
      "outputs": [
        {
          "output_type": "display_data",
          "data": {
            "image/png": "[encoded data removed]",
            "text/plain": [
              "<Figure size 400x400 with 1 Axes>"
            ]
          },
          "metadata": {
            "needs_background": "light"
          }
        }
      ]
    },
    {
      "cell_type": "markdown",
      "metadata": {
        "id": "Rkot3ijhgV3d"
      },
      "source": [
        "Terlihat bahwa Class 2 merupakan yang terbanyak dengan jumlah 1359, sedangkan Class 3 merupakan yang paling sedikit dengan jumlah 20."
      ]
    },
    {
      "cell_type": "markdown",
      "metadata": {
        "id": "zoa8urd0XgbG"
      },
      "source": [
        "##Membuat list dari nama file yang nantinya akan dibaca untuk data train dan test"
      ]
    },
    {
      "cell_type": "code",
      "metadata": {
        "colab": {
          "base_uri": "https://localhost:8080/"
        },
        "id": "Oqm4nFTcgu5b",
        "outputId": "e8831dd6-188d-4d26-acb2-3a8c4ae5aa6d"
      },
      "source": [
        "train_list = []\n",
        "for sample in train_df[\"Sample\"]:\n",
        "  temp = str(sample).zfill(4) + \".seq\"\n",
        "  train_list.append(temp)\n",
        "print(train_list)"
      ],
      "execution_count": null,
      "outputs": [
        {
          "output_type": "stream",
          "name": "stdout",
          "text": [
            "['3533.seq', '1270.seq', '3270.seq', '1323.seq', '1064.seq', '3015.seq', '3985.seq', '0032.seq', '3419.seq', '0223.seq', '2664.seq', '3678.seq', '1861.seq', '2419.seq', '2443.seq', '3063.seq', '0842.seq', '1028.seq', '2886.seq', '1223.seq', '1636.seq', '0112.seq', '3394.seq', '3965.seq', '2021.seq', '1873.seq', '2509.seq', '3517.seq', '0633.seq', '1104.seq', '1959.seq', '4107.seq', '1927.seq', '4138.seq', '2170.seq', '3068.seq', '4031.seq', '1809.seq', '1582.seq', '1130.seq', '3682.seq', '1889.seq', '1740.seq', '1328.seq', '0987.seq', '0094.seq', '0400.seq', '0527.seq', '0818.seq', '3643.seq', '1757.seq', '0116.seq', '2273.seq', '2942.seq', '1267.seq', '0291.seq', '0549.seq', '3103.seq', '1394.seq', '1424.seq', '2230.seq', '3406.seq', '0809.seq', '0466.seq', '3511.seq', '0401.seq', '2354.seq', '3286.seq', '4096.seq', '1152.seq', '1874.seq', '0516.seq', '0962.seq', '2207.seq', '2762.seq', '1660.seq', '2456.seq', '1392.seq', '3368.seq', '2941.seq', '1711.seq', '0121.seq', '3120.seq', '3408.seq', '2552.seq', '3034.seq', '1024.seq', '2909.seq', '3535.seq', '1068.seq', '1975.seq', '0477.seq', '0967.seq', '2002.seq', '2259.seq', '2913.seq', '3487.seq', '1648.seq', '3845.seq', '1903.seq', '1179.seq', '0426.seq', '3054.seq', '3366.seq', '1018.seq', '3633.seq', '4085.seq', '2209.seq', '4150.seq', '1922.seq', '2061.seq', '4029.seq', '2484.seq', '3453.seq', '1979.seq', '3836.seq', '1787.seq', '2786.seq', '0369.seq', '3972.seq', '0671.seq', '3488.seq', '1515.seq', '1182.seq', '1047.seq', '2052.seq', '2932.seq', '1649.seq', '4092.seq', '1443.seq', '1919.seq', '1902.seq', '0562.seq', '1551.seq', '3967.seq', '3790.seq', '3276.seq', '0830.seq', '2733.seq', '2488.seq', '0451.seq', '1406.seq', '2194.seq', '0214.seq', '3835.seq', '1588.seq', '1682.seq', '1963.seq', '0133.seq', '0307.seq', '4163.seq', '2123.seq', '3810.seq', '4070.seq', '1681.seq', '0105.seq', '0800.seq', '2304.seq', '1396.seq', '1226.seq', '0816.seq', '1511.seq', '1446.seq', '0690.seq', '2933.seq', '0832.seq', '1806.seq', '1475.seq', '1155.seq', '0361.seq', '3878.seq', '2525.seq', '0844.seq', '3242.seq', '1725.seq', '4094.seq', '2897.seq', '0823.seq', '0158.seq', '1627.seq', '0731.seq', '2831.seq', '4060.seq', '2146.seq', '4017.seq', '1459.seq', '2781.seq', '3216.seq', '3755.seq', '1947.seq', '3387.seq', '1117.seq', '0912.seq', '3717.seq', '3246.seq', '0813.seq', '0172.seq', '2495.seq', '2168.seq', '0438.seq', '1698.seq', '1142.seq', '1038.seq', '1271.seq', '1344.seq', '4014.seq', '0128.seq', '1670.seq', '3606.seq', '2498.seq', '0322.seq', '2636.seq', '3390.seq', '1036.seq', '2318.seq', '1313.seq', '0665.seq', '1342.seq', '1000.seq', '0973.seq', '2606.seq', '2462.seq', '0693.seq', '0831.seq', '0876.seq', '3815.seq', '3507.seq', '3867.seq', '0456.seq', '1115.seq', '3031.seq', '3520.seq', '1547.seq', '3292.seq', '2680.seq', '2544.seq', '3747.seq', '0603.seq', '0517.seq', '0157.seq', '0859.seq', '3848.seq', '2098.seq', '0378.seq', '3855.seq', '3280.seq', '0572.seq', '0360.seq', '1925.seq', '2617.seq', '2578.seq', '1086.seq', '2069.seq', '2752.seq', '0154.seq', '3059.seq', '0606.seq', '2331.seq', '3687.seq', '3613.seq', '0997.seq', '1372.seq', '2027.seq', '0269.seq', '1397.seq', '1545.seq', '1004.seq', '2602.seq', '0509.seq', '2054.seq', '4045.seq', '4050.seq', '3273.seq', '1166.seq', '1514.seq', '3343.seq', '1505.seq', '2899.seq', '2922.seq', '2156.seq', '1743.seq', '2106.seq', '2208.seq', '2513.seq', '0983.seq', '1452.seq', '2341.seq', '1981.seq', '2627.seq', '2165.seq', '3000.seq', '3111.seq', '1911.seq', '3754.seq', '0069.seq', '0872.seq', '1702.seq', '2090.seq', '3209.seq', '1982.seq', '0289.seq', '2373.seq', '0793.seq', '1790.seq', '3877.seq', '0036.seq', '1052.seq', '3304.seq', '3257.seq', '2592.seq', '2397.seq', '0347.seq', '1222.seq', '0222.seq', '0053.seq', '2048.seq', '3506.seq', '2418.seq', '1661.seq', '0653.seq', '2852.seq', '1109.seq', '1371.seq', '2204.seq', '0691.seq', '3662.seq', '0771.seq', '0468.seq', '1855.seq', '2968.seq', '2755.seq', '2849.seq', '2357.seq', '0534.seq', '3234.seq', '3898.seq', '2323.seq', '3490.seq', '0476.seq', '0770.seq', '3173.seq', '1838.seq', '1831.seq', '3222.seq', '3481.seq', '3424.seq', '0111.seq', '1218.seq', '2159.seq', '2916.seq', '0751.seq', '3268.seq', '4101.seq', '0591.seq', '2773.seq', '1779.seq', '0428.seq', '0957.seq', '1002.seq', '1376.seq', '0177.seq', '3045.seq', '1331.seq', '3742.seq', '2659.seq', '1601.seq', '1841.seq', '1170.seq', '0840.seq', '2333.seq', '2865.seq', '2594.seq', '0491.seq', '1833.seq', '0425.seq', '2007.seq', '2589.seq', '2643.seq', '2562.seq', '0589.seq', '3074.seq', '0294.seq', '2675.seq', '3537.seq', '0352.seq', '1156.seq', '0677.seq', '1015.seq', '0058.seq', '2430.seq', '3143.seq', '2930.seq', '1473.seq', '2894.seq', '3693.seq', '2555.seq', '4144.seq', '3392.seq', '2305.seq', '3491.seq', '0298.seq', '3521.seq', '0410.seq', '1528.seq', '3325.seq', '1465.seq', '1476.seq', '3611.seq', '2031.seq', '0526.seq', '0004.seq', '1625.seq', '2880.seq', '2597.seq', '4140.seq', '1296.seq', '1502.seq', '3465.seq', '4040.seq', '3660.seq', '0406.seq', '2564.seq', '2806.seq', '3278.seq', '2455.seq', '4071.seq', '4141.seq', '3703.seq', '2505.seq', '2809.seq', '3857.seq', '0342.seq', '1558.seq', '3330.seq', '3119.seq', '0480.seq', '2776.seq', '0321.seq', '4059.seq', '0981.seq', '1480.seq', '2075.seq', '3072.seq', '1718.seq', '3263.seq', '4149.seq', '2728.seq', '0676.seq', '3719.seq', '2042.seq', '0588.seq', '2649.seq', '0335.seq', '2063.seq', '3499.seq', '3568.seq', '2907.seq', '3264.seq', '3921.seq', '1284.seq', '1289.seq', '2753.seq', '3076.seq', '3383.seq', '4007.seq', '1258.seq', '2887.seq', '3800.seq', '0160.seq', '2724.seq', '3554.seq', '2228.seq', '1731.seq', '2654.seq', '3371.seq', '1225.seq', '1928.seq', '1968.seq', '2917.seq', '3720.seq', '0145.seq', '0479.seq', '2480.seq', '2407.seq', '1854.seq', '0450.seq', '1067.seq', '2026.seq', '0758.seq', '0728.seq', '2712.seq', '4121.seq', '1736.seq', '1869.seq', '3610.seq', '2639.seq', '1878.seq', '3483.seq', '1200.seq', '1530.seq', '0649.seq', '3121.seq', '0439.seq', '4057.seq', '3569.seq', '1322.seq', '3812.seq', '3274.seq', '2858.seq', '3206.seq', '0675.seq', '2427.seq', '2514.seq', '0233.seq', '3697.seq', '1550.seq', '1969.seq', '3080.seq', '0741.seq', '3640.seq', '3496.seq', '1671.seq', '0364.seq', '2240.seq', '2380.seq', '0854.seq', '2661.seq', '2660.seq', '2898.seq', '0583.seq', '0131.seq', '2351.seq', '2164.seq', '3495.seq', '3578.seq', '0192.seq', '2465.seq', '0628.seq', '0769.seq', '3460.seq', '2287.seq', '0917.seq', '4091.seq', '3317.seq', '4095.seq', '1027.seq', '3101.seq', '0159.seq', '0381.seq', '3661.seq', '1952.seq', '2015.seq', '2094.seq', '3066.seq', '0060.seq', '1818.seq', '3977.seq', '1092.seq', '2477.seq', '0383.seq', '3113.seq', '1669.seq', '4123.seq', '4079.seq', '0431.seq', '0023.seq', '0825.seq', '3802.seq', '2548.seq', '1629.seq', '2744.seq', '2342.seq', '2748.seq', '3199.seq', '2237.seq', '0231.seq', '1491.seq', '1148.seq', '2588.seq', '2255.seq', '0015.seq', '2437.seq', '3695.seq', '1472.seq', '1544.seq', '1466.seq', '0887.seq', '1346.seq', '2697.seq', '1441.seq', '0042.seq', '2474.seq', '1196.seq', '0432.seq', '0302.seq', '1470.seq', '2100.seq', '2853.seq', '1368.seq', '3830.seq', '0569.seq', '3656.seq', '0195.seq', '3567.seq', '0657.seq', '0576.seq', '3159.seq', '3669.seq', '1618.seq', '3213.seq', '1944.seq', '1566.seq', '3709.seq', '0229.seq', '2791.seq', '0199.seq', '3737.seq', '1252.seq', '1011.seq', '2219.seq', '3244.seq', '3355.seq', '0183.seq', '2603.seq', '0173.seq', '4110.seq', '1857.seq', '2641.seq', '0444.seq', '2045.seq', '4159.seq', '3052.seq', '3267.seq', '3680.seq', '0442.seq', '3816.seq', '2879.seq', '3349.seq', '2415.seq', '2628.seq', '3653.seq', '3540.seq', '3288.seq', '0654.seq', '1713.seq', '0254.seq', '3062.seq', '1401.seq', '2175.seq', '2496.seq', '0213.seq', '3691.seq', '3029.seq', '0798.seq', '1243.seq', '0772.seq', '2502.seq', '3988.seq', '1522.seq', '2856.seq', '0995.seq', '3922.seq', '4023.seq', '0224.seq', '3658.seq', '1526.seq', '3378.seq', '1298.seq', '4147.seq', '3801.seq', '2299.seq', '2154.seq', '1646.seq', '1263.seq', '0750.seq', '3226.seq', '3910.seq', '1184.seq', '2340.seq', '2404.seq', '2769.seq', '0415.seq', '0435.seq', '3863.seq', '1815.seq', '2792.seq', '0339.seq', '1999.seq', '2233.seq', '1054.seq', '1487.seq', '0246.seq', '3907.seq', '0538.seq', '2296.seq', '1860.seq', '2265.seq', '1370.seq', '1536.seq', '0005.seq', '1570.seq', '1575.seq', '1367.seq', '3237.seq', '3566.seq', '2421.seq', '0810.seq', '3285.seq', '3944.seq', '1782.seq', '3357.seq', '1310.seq', '3169.seq', '2035.seq', '0447.seq', '3893.seq', '0496.seq', '0163.seq', '4048.seq', '1100.seq', '3760.seq', '2284.seq', '0669.seq', '3412.seq', '2041.seq', '1534.seq', '3641.seq', '2257.seq', '1785.seq', '1147.seq', '0283.seq', '0717.seq', '3326.seq', '3869.seq', '0871.seq', '1463.seq', '1233.seq', '1381.seq', '1012.seq', '2174.seq', '0212.seq', '3108.seq', '2870.seq', '0805.seq', '1729.seq', '0323.seq', '1640.seq', '3359.seq', '2451.seq', '3165.seq', '3321.seq', '0168.seq', '0334.seq', '1609.seq', '3115.seq', '3403.seq', '1103.seq', '2272.seq', '0765.seq', '0407.seq', '0916.seq', '2743.seq', '0597.seq', '3870.seq', '3462.seq', '3308.seq', '3968.seq', '2681.seq', '3911.seq', '2141.seq', '1269.seq', '2918.seq', '0261.seq', '3471.seq', '0806.seq', '0405.seq', '2382.seq', '0049.seq', '1756.seq', '2218.seq', '3955.seq', '0523.seq', '0775.seq', '0236.seq', '1090.seq', '2653.seq', '1120.seq', '4046.seq', '2757.seq', '2815.seq', '1003.seq', '0757.seq', '1542.seq', '2352.seq', '1434.seq', '1419.seq', '1431.seq', '3377.seq', '3258.seq', '2097.seq', '3003.seq', '1886.seq', '2595.seq', '0375.seq', '3788.seq', '3862.seq', '0467.seq', '1351.seq', '1141.seq', '3016.seq', '1985.seq', '0615.seq', '1208.seq', '0932.seq', '2533.seq', '2599.seq', '0903.seq', '1069.seq', '4154.seq', '2709.seq', '1907.seq', '1808.seq', '0461.seq', '1260.seq', '1605.seq', '2014.seq', '0336.seq', '2808.seq', '0796.seq', '1937.seq', '2761.seq', '1836.seq', '0672.seq', '3779.seq', '2147.seq', '0453.seq', '1107.seq', '0354.seq', '2967.seq', '0281.seq', '2339.seq', '0858.seq', '3942.seq', '0851.seq', '3102.seq', '2172.seq', '0710.seq', '2673.seq', '2215.seq', '3748.seq', '3908.seq', '3752.seq', '3369.seq', '0304.seq', '2859.seq', '2640.seq', '2285.seq', '2396.seq', '2503.seq', '3841.seq', '0849.seq', '1215.seq', '3230.seq', '1172.seq', '3935.seq', '2687.seq', '2615.seq', '2885.seq', '1462.seq', '1750.seq', '1883.seq', '0421.seq', '1026.seq', '3761.seq', '2458.seq', '1667.seq', '2266.seq', '1444.seq', '2433.seq', '2489.seq', '3546.seq', '3563.seq', '0668.seq', '1111.seq', '3881.seq', '4125.seq', '3997.seq', '0761.seq', '1960.seq', '1065.seq', '2888.seq', '2869.seq', '3769.seq', '1810.seq', '1519.seq', '2778.seq', '1894.seq', '0522.seq', '0748.seq', '2083.seq', '0780.seq', '3197.seq', '3551.seq', '3414.seq', '0773.seq', '2271.seq', '2975.seq', '0714.seq', '3849.seq', '0343.seq', '2956.seq', '2366.seq', '1129.seq', '0190.seq', '1123.seq', '3771.seq', '3884.seq', '3636.seq', '3515.seq', '0587.seq', '2844.seq', '3210.seq', '1622.seq', '0705.seq', '2493.seq', '2322.seq', '3574.seq', '2179.seq', '3282.seq', '1926.seq', '0619.seq', '0747.seq', '0188.seq', '1034.seq', '0098.seq', '0559.seq', '4156.seq', '2690.seq', '2034.seq', '1457.seq', '2471.seq', '3474.seq', '1008.seq', '3561.seq', '3795.seq', '1023.seq', '1334.seq', '1479.seq', '0260.seq', '2921.seq', '2584.seq', '0778.seq', '2609.seq', '3545.seq', '3459.seq', '2004.seq', '3778.seq', '0174.seq', '4082.seq', '3651.seq', '0194.seq', '0655.seq', '2412.seq', '0700.seq', '2196.seq', '3626.seq', '2981.seq', '0416.seq', '2020.seq', '0546.seq', '2876.seq', '3614.seq', '3336.seq', '2671.seq', '3393.seq', '1066.seq', '3187.seq', '3436.seq', '3307.seq', '0746.seq', '0950.seq', '3085.seq', '2246.seq', '2674.seq', '4005.seq', '0545.seq', '2276.seq', '0390.seq', '0970.seq', '4083.seq', '2950.seq', '1843.seq', '2243.seq', '3993.seq', '0221.seq', '1586.seq', '2549.seq', '0330.seq', '3078.seq', '1741.seq', '3751.seq', '2766.seq', '0678.seq', '0103.seq', '2670.seq', '0897.seq', '0790.seq', '3198.seq', '1477.seq', '2685.seq', '3500.seq', '3648.seq', '0314.seq', '0161.seq', '0070.seq', '2038.seq', '1916.seq', '1072.seq', '0922.seq', '3186.seq', '4165.seq', '1350.seq', '3196.seq', '1056.seq', '1956.seq', '0445.seq', '2866.seq', '3996.seq', '0880.seq', '3095.seq', '0130.seq', '3011.seq', '4090.seq', '1083.seq', '1241.seq', '3438.seq', '1781.seq', '2600.seq', '2919.seq', '1497.seq', '2249.seq', '3372.seq', '3804.seq', '1043.seq', '0614.seq', '0102.seq', '2901.seq', '1933.seq', '2140.seq', '0097.seq', '2429.seq', '1977.seq', '2459.seq', '0079.seq', '3010.seq', '1964.seq', '2835.seq', '3627.seq', '0115.seq', '3727.seq', '0067.seq', '2682.seq', '3291.seq', '0965.seq', '1634.seq', '0333.seq', '3821.seq', '2325.seq', '1849.seq', '2872.seq', '2964.seq', '3797.seq', '0056.seq', '2814.seq', '1770.seq', '2074.seq', '1606.seq', '3422.seq', '3245.seq', '1275.seq', '1261.seq', '0077.seq', '2914.seq', '1868.seq', '3463.seq', '2983.seq', '1600.seq', '1335.seq', '0317.seq', '2910.seq', '2205.seq', '0902.seq', '2107.seq', '0850.seq', '3773.seq', '0580.seq', '0068.seq', '2667.seq', '1114.seq', '1581.seq', '1333.seq', '0457.seq', '2192.seq', '2384.seq', '2610.seq', '2336.seq', '3846.seq', '0875.seq', '0329.seq', '0928.seq', '3715.seq', '0429.seq', '0162.seq', '3583.seq', '2637.seq', '2672.seq', '0620.seq', '1946.seq', '3255.seq', '1112.seq', '4056.seq', '3958.seq', '3634.seq', '1935.seq', '2604.seq', '0009.seq', '2072.seq', '3599.seq', '3723.seq', '3153.seq', '1733.seq', '2896.seq', '0890.seq', '0867.seq', '3444.seq', '2758.seq', '0215.seq', '2500.seq', '2028.seq', '2125.seq', '2182.seq', '0533.seq', '0211.seq', '0855.seq', '0047.seq', '1262.seq', '3716.seq', '0936.seq', '3151.seq', '2120.seq', '3026.seq', '3926.seq', '3022.seq', '1209.seq', '2453.seq', '2441.seq', '3179.seq', '1427.seq', '1139.seq', '2377.seq', '2361.seq', '3941.seq', '0230.seq', '4003.seq', '2494.seq', '0972.seq', '0286.seq', '2347.seq', '3992.seq', '1708.seq', '1901.seq', '3200.seq', '0148.seq', '2882.seq', '3550.seq', '1022.seq', '1308.seq', '0985.seq', '1087.seq', '4118.seq', '3597.seq', '3973.seq', '1259.seq', '1204.seq', '1664.seq', '1050.seq', '2005.seq', '0470.seq', '3542.seq', '2528.seq', '3897.seq', '1885.seq', '2053.seq', '0255.seq', '0870.seq', '3228.seq', '3859.seq', '1688.seq', '2056.seq', '3138.seq', '3860.seq', '3429.seq', '3580.seq', '3949.seq', '0927.seq', '4106.seq', '1876.seq', '2775.seq', '3051.seq', '3711.seq', '2317.seq', '2731.seq', '0494.seq', '1266.seq', '3995.seq', '0640.seq', '2542.seq', '3319.seq', '0217.seq', '0528.seq', '1195.seq', '0822.seq', '2650.seq', '1405.seq', '3731.seq', '1467.seq', '2738.seq', '1132.seq', '1274.seq', '3014.seq', '3323.seq', '3012.seq', '1257.seq', '1546.seq', '1872.seq', '2741.seq', '3342.seq', '4042.seq', '2767.seq', '1662.seq', '2501.seq', '1106.seq', '1803.seq', '0398.seq', '2924.seq', '0722.seq', '2996.seq', '1272.seq', '1489.seq', '2912.seq', '3038.seq', '1574.seq', '0208.seq', '1630.seq', '2980.seq', '3969.seq', '2256.seq', '1976.seq', '4105.seq', '3435.seq', '2891.seq', '3733.seq', '0178.seq', '1687.seq', '0699.seq', '0733.seq', '3974.seq', '1924.seq', '0293.seq', '2563.seq', '2306.seq', '2928.seq', '0184.seq', '3061.seq', '1822.seq', '2312.seq', '1805.seq', '2279.seq', '0018.seq', '0662.seq', '3454.seq', '1966.seq', '0417.seq', '3589.seq', '2820.seq', '0602.seq', '1631.seq', '1734.seq', '2965.seq', '4120.seq', '0548.seq', '0625.seq', '2550.seq', '1080.seq', '0249.seq', '3086.seq', '3431.seq', '2693.seq', '3028.seq', '3557.seq', '2254.seq', '1364.seq', '2721.seq', '1984.seq', '3294.seq', '3839.seq', '3858.seq', '0826.seq', '1983.seq', '2008.seq', '1231.seq', '2536.seq', '0465.seq', '3753.seq', '1232.seq', '1458.seq', '0878.seq', '4160.seq', '1532.seq', '2479.seq', '0679.seq', '0938.seq', '2093.seq', '0483.seq', '1078.seq', '0348.seq', '0449.seq', '3293.seq', '3806.seq', '3502.seq', '1537.seq', '1081.seq', '3736.seq', '1585.seq', '0698.seq', '2669.seq', '2327.seq', '2832.seq', '0138.seq', '3593.seq', '0071.seq', '1488.seq', '1714.seq', '1598.seq', '3099.seq', '3617.seq', '2739.seq', '1288.seq', '1844.seq', '2264.seq', '1912.seq', '1607.seq', '3284.seq', '2634.seq', '0311.seq', '3774.seq', '3047.seq', '3706.seq', '0645.seq', '3396.seq', '1053.seq', '2821.seq', '0524.seq', '2176.seq', '0550.seq', '1254.seq', '0205.seq', '3834.seq', '4009.seq', '0244.seq', '3623.seq', '1576.seq', '1393.seq', '1299.seq', '1967.seq', '1772.seq', '2324.seq', '2394.seq', '0189.seq', '0634.seq', '2148.seq', '0744.seq', '3559.seq', '3202.seq', '2658.seq', '2242.seq', '0944.seq', '2169.seq', '1847.seq', '1503.seq', '3208.seq', '2857.seq', '0971.seq', '4088.seq', '1737.seq', '1044.seq', '3092.seq', '2763.seq', '1119.seq', '2335.seq', '3006.seq', '0276.seq', '2567.seq', '3346.seq', '0251.seq', '0241.seq', '1213.seq', '3484.seq', '3315.seq', '0501.seq', '4049.seq', '3513.seq', '3768.seq', '1811.seq', '1620.seq', '3356.seq', '0025.seq', '0616.seq', '2678.seq', '0295.seq', '4051.seq', '3142.seq', '4068.seq', '0278.seq', '3920.seq', '1357.seq', '2409.seq', '3975.seq', '1061.seq', '3404.seq', '0904.seq', '2129.seq', '1685.seq', '1037.seq', '2751.seq', '3673.seq', '0228.seq', '0782.seq', '0939.seq', '2796.seq', '2683.seq', '0715.seq', '3118.seq', '3254.seq', '0485.seq', '4132.seq', '2367.seq', '3539.seq', '0366.seq', '3587.seq', '0263.seq', '0492.seq', '2401.seq', '0632.seq', '2657.seq', '0387.seq', '3347.seq', '0975.seq', '0132.seq', '3823.seq', '1500.seq', '1989.seq', '3397.seq', '0003.seq', '3375.seq', '1041.seq', '1645.seq', '4015.seq', '2009.seq', '1093.seq', '3328.seq', '2135.seq', '3948.seq', '0661.seq', '3915.seq', '1672.seq', '2121.seq', '1942.seq', '3541.seq', '3685.seq', '2359.seq', '2799.seq', '2807.seq', '2612.seq', '1624.seq', '3547.seq', '3269.seq', '3622.seq', '1852.seq', '1891.seq', '2581.seq', '1701.seq', '2029.seq', '1712.seq', '2997.seq', '1666.seq', '3275.seq', '3616.seq', '3241.seq', '3088.seq', '0702.seq', '1599.seq', '3895.seq', '1850.seq', '0914.seq', '1206.seq', '2268.seq', '3290.seq', '1563.seq', '1389.seq', '1390.seq', '1795.seq', '2431.seq', '1422.seq', '2126.seq', '4034.seq', '0680.seq', '0828.seq', '2736.seq', '1347.seq', '0242.seq', '1697.seq', '2623.seq', '0821.seq', '3570.seq', '1523.seq', '0689.seq', '4102.seq', '3672.seq', '2469.seq', '3645.seq', '2188.seq', '2800.seq', '0386.seq', '1527.seq', '2150.seq', '1429.seq', '3492.seq', '2510.seq', '3560.seq', '1615.seq', '1915.seq', '1203.seq', '3195.seq', '2210.seq', '2293.seq', '4055.seq', '2904.seq', '0499.seq', '2432.seq', '3367.seq', '0893.seq', '1461.seq', '3311.seq', '3707.seq', '0755.seq', '0171.seq', '0843.seq', '2003.seq', '0963.seq', '0721.seq', '2908.seq', '2601.seq', '1870.seq', '2944.seq', '1783.seq', '3175.seq', '1512.seq', '0539.seq', '3728.seq', '1379.seq', '3668.seq', '3296.seq', '3764.seq', '3970.seq', '3572.seq', '3177.seq', '0656.seq', '2577.seq', '2161.seq', '0493.seq', '2573.seq', '0096.seq', '0881.seq', '3951.seq', '0785.seq', '0220.seq', '3817.seq', '3674.seq', '2729.seq', '0109.seq', '3327.seq', '2666.seq', '0837.seq', '2118.seq', '0340.seq', '3744.seq', '1814.seq', '3825.seq', '0866.seq', '3805.seq', '2676.seq', '3279.seq', '4162.seq', '0857.seq', '0119.seq', '1482.seq', '1176.seq', '3249.seq', '2625.seq', '2817.seq', '0862.seq', '1478.seq', '3353.seq', '2630.seq', '2686.seq', '2478.seq', '1035.seq', '2614.seq', '3950.seq', '2298.seq', '1450.seq', '2847.seq', '2760.seq', '3666.seq', '1032.seq', '3407.seq', '0531.seq', '0891.seq', '3331.seq', '3767.seq', '0877.seq', '0535.seq', '3861.seq', '2959.seq', '1939.seq', '3796.seq', '2903.seq', '3917.seq', '3735.seq', '0571.seq', '1496.seq', '4136.seq', '0337.seq', '2389.seq', '0257.seq', '0353.seq', '3894.seq', '0646.seq', '0297.seq', '0384.seq', '3927.seq', '3886.seq', '1710.seq', '4128.seq', '1402.seq', '2722.seq', '2813.seq', '1752.seq', '0992.seq', '0270.seq', '3489.seq', '1754.seq', '3418.seq', '1315.seq', '0804.seq', '3146.seq', '2656.seq', '0305.seq', '1207.seq', '0139.seq', '1016.seq', '0028.seq', '4099.seq', '0443.seq', '1623.seq', '3829.seq', '0567.seq', '1245.seq', '0396.seq', '3238.seq', '0996.seq', '2337.seq', '4038.seq', '3556.seq', '4135.seq', '1647.seq', '1728.seq', '3223.seq', '2915.seq', '1391.seq', '2900.seq', '1699.seq', '1291.seq', '1365.seq', '3457.seq', '0868.seq', '2708.seq', '1665.seq', '3665.seq', '0827.seq', '0113.seq', '1031.seq', '2282.seq', '0140.seq', '2224.seq', '3374.seq', '0935.seq', '0552.seq', '1540.seq', '1759.seq', '2522.seq', '1165.seq', '2440.seq', '1587.seq', '2642.seq', '1273.seq', '2247.seq', '2395.seq', '1780.seq', '2750.seq', '0708.seq', '0482.seq', '3536.seq', '2789.seq', '2490.seq', '0542.seq', '1127.seq', '0874.seq', '2618.seq', '4093.seq', '1375.seq', '1414.seq', '1656.seq', '0135.seq', '1327.seq', '3306.seq', '3338.seq', '1668.seq', '0359.seq', '0126.seq', '1706.seq', '2080.seq', '1608.seq', '3413.seq', '1572.seq', '3586.seq', '2616.seq', '4041.seq', '3155.seq', '0066.seq', '1955.seq', '2707.seq', '2651.seq', '2574.seq', '3227.seq', '2214.seq', '1639.seq', '0599.seq', '4166.seq', '3152.seq', '0090.seq', '1897.seq', '0434.seq', '3467.seq', '0581.seq', '1813.seq', '0086.seq', '1384.seq', '3853.seq', '2703.seq', '3524.seq', '1097.seq', '3639.seq', '3956.seq', '4052.seq', '2768.seq', '3522.seq', '2878.seq', '3553.seq', '1481.seq', '1973.seq', '0575.seq', '0440.seq', '2235.seq', '3994.seq', '0910.seq', '1483.seq', '1553.seq', '3792.seq', '0803.seq', '3485.seq', '2483.seq', '2795.seq', '2388.seq', '0920.seq', '2624.seq', '0196.seq', '1753.seq', '2837.seq', '0630.seq', '2191.seq', '0723.seq', '0544.seq', '0968.seq', '1643.seq', '1030.seq', '2466.seq', '3986.seq', '4027.seq', '0514.seq', '4025.seq', '1848.seq', '2790.seq', '3295.seq', '2785.seq', '0763.seq', '0486.seq', '1914.seq', '0543.seq', '3952.seq', '1077.seq', '0120.seq', '1692.seq', '2406.seq', '0961.seq', '0436.seq', '3671.seq', '1858.seq', '2818.seq', '1073.seq', '2553.seq', '2506.seq', '0839.seq', '0376.seq', '2088.seq', '2334.seq', '3191.seq', '0248.seq', '1169.seq', '0774.seq', '2985.seq', '0232.seq', '2873.seq', '3193.seq', '1990.seq', '1565.seq', '1943.seq', '1613.seq', '2696.seq', '0473.seq', '0590.seq', '2110.seq', '0413.seq', '2032.seq', '4026.seq', '0613.seq', '0019.seq', '3883.seq', '3937.seq', '1158.seq', '3497.seq', '3425.seq', '2262.seq', '1517.seq', '0502.seq', '3305.seq', '0176.seq', '2622.seq', '1362.seq', '3998.seq', '0610.seq', '2220.seq', '2294.seq', '3056.seq', '1485.seq', '3931.seq', '2283.seq', '1151.seq', '1936.seq', '0913.seq', '3473.seq', '0934.seq', '1951.seq', '2523.seq', '0478.seq', '0631.seq', '4100.seq', '2911.seq', '3775.seq', '3154.seq', '2184.seq', '3904.seq', '3360.seq', '1177.seq', '1577.seq', '0446.seq', '4044.seq', '1659.seq', '1033.seq', '3725.seq', '2289.seq', '0595.seq', '0644.seq', '1055.seq', '0578.seq', '1251.seq', '2811.seq', '2043.seq', '0518.seq', '0511.seq', '2587.seq', '2620.seq', '3510.seq', '0409.seq', '1909.seq', '1719.seq', '0525.seq', '0767.seq', '2570.seq', '1768.seq', '1102.seq', '0664.seq', '4020.seq', '1798.seq', '4075.seq', '2783.seq', '3885.seq', '1455.seq', '0577.seq', '3925.seq', '2301.seq', '0034.seq', '0167.seq', '4117.seq', '0627.seq', '1628.seq', '1337.seq', '0547.seq', '0150.seq', '0651.seq', '2507.seq', '1082.seq', '4134.seq', '3381.seq', '0327.seq', '0424.seq', '2058.seq', '1794.seq', '3576.seq', '0937.seq', '0686.seq', '3129.seq', '0065.seq', '1010.seq', '1652.seq', '2375.seq', '3398.seq', '3844.seq', '1816.seq', '2782.seq', '3534.seq', '0200.seq', '3171.seq', '0729.seq', '4006.seq', '1533.seq', '3591.seq', '1175.seq', '2381.seq', '0374.seq', '2591.seq', '1280.seq', '2057.seq', '3358.seq', '2239.seq', '1076.seq', '0240.seq', '0621.seq', '2803.seq', '1789.seq', '3283.seq', '0292.seq', '2309.seq', '0503.seq', '2486.seq', '3117.seq', '3508.seq', '3943.seq', '2153.seq', '2720.seq', '0234.seq', '1568.seq', '2286.seq', '3250.seq', '1614.seq', '2313.seq', '3232.seq', '2804.seq', '0573.seq', '3936.seq', '3140.seq', '4104.seq', '2070.seq', '4086.seq', '1202.seq', '3070.seq', '2369.seq', '1513.seq', '1863.seq', '3847.seq', '2793.seq', '1589.seq', '1974.seq', '2398.seq', '1516.seq', '3670.seq', '3271.seq', '3123.seq', '3892.seq', '2332.seq', '3365.seq', '3872.seq', '1567.seq', '0170.seq', '1400.seq', '3838.seq', '0749.seq', '3603.seq', '2132.seq', '1149.seq', '3420.seq', '3882.seq', '2765.seq', '0900.seq', '1205.seq', '0452.seq', '0762.seq', '2829.seq', '3903.seq', '2308.seq', '0227.seq', '2260.seq', '0279.seq', '0724.seq', '3699.seq', '0635.seq', '3093.seq', '1153.seq', '1134.seq', '3042.seq', '0812.seq', '0756.seq', '3105.seq', '0029.seq', '2399.seq', '1326.seq', '2840.seq', '2350.seq', '2963.seq', '2976.seq', '2368.seq', '0978.seq', '0123.seq', '0617.seq', '0284.seq', '3964.seq', '3466.seq', '0563.seq', '1633.seq', '3125.seq', '0901.seq', '0395.seq', '1717.seq', '2883.seq', '2261.seq', '2006.seq', '3160.seq', '2222.seq', '0869.seq', '1164.seq', '1046.seq', '1592.seq', '2834.seq', '2183.seq', '2893.seq', '2178.seq', '0136.seq', '2668.seq', '2558.seq', '3957.seq', '0697.seq', '1703.seq', '1249.seq', '3259.seq', '1578.seq', '3178.seq', '0430.seq', '2517.seq', '0411.seq', '3480.seq', '1543.seq', '3448.seq', '1163.seq', '3220.seq', '2420.seq', '3139.seq', '1143.seq', '0570.seq', '4080.seq', '0392.seq', '3786.seq', '2315.seq', '0437.seq', '1559.seq', '1306.seq', '3130.seq', '3933.seq', '2390.seq', '3913.seq', '1824.seq', '2971.seq', '3630.seq', '0737.seq', '1290.seq', '2108.seq', '0100.seq', '2892.seq', '0608.seq', '2326.seq', '1110.seq', '2248.seq', '0106.seq', '0358.seq', '3794.seq', '1635.seq', '0605.seq', '2798.seq', '2111.seq', '3157.seq', '1449.seq', '1453.seq', '2062.seq', '3842.seq', '3594.seq', '1827.seq', '4072.seq', '1642.seq', '0924.seq', '4098.seq', '0711.seq', '3385.seq', '1604.seq', '0481.seq', '1680.seq', '3470.seq', '0216.seq', '1504.seq', '3710.seq', '3702.seq', '2274.seq', '1440.seq', '0207.seq', '0083.seq', '1329.seq', '3629.seq', '1161.seq', '0490.seq', '0129.seq', '1653.seq', '3713.seq', '0010.seq', '0040.seq', '3509.seq', '0262.seq', '1561.seq', '1735.seq', '1468.seq', '2338.seq', '0994.seq', '1425.seq', '1941.seq', '2861.seq', '0238.seq', '0052.seq', '2463.seq', '1019.seq', '2508.seq', '2321.seq', '0243.seq', '0247.seq', '2457.seq', '1302.seq', '0753.seq', '0709.seq', '2931.seq', '3345.seq', '2995.seq', '1908.seq', '0815.seq', '0186.seq', '2960.seq', '2543.seq', '3652.seq', '2560.seq', '1715.seq', '1059.seq', '0031.seq', '3098.seq', '1993.seq', '2267.seq', '1088.seq', '1250.seq', '0754.seq', '1707.seq', '2631.seq', '0084.seq', '1769.seq', '3030.seq', '3185.seq', '0947.seq', '2771.seq', '0706.seq', '3081.seq', '0873.seq', '2050.seq', '1304.seq', '4161.seq', '0819.seq', '3644.seq', '0795.seq', '3433.seq', '3598.seq', '1745.seq', '0420.seq', '1063.seq', '2692.seq', '3721.seq', '0926.seq', '2095.seq', '2947.seq', '0326.seq', '1767.seq', '2966.seq', '3158.seq', '3472.seq', '4113.seq', '4112.seq', '0363.seq', '1591.seq', '0325.seq', '2475.seq', '1469.seq', '2362.seq', '0073.seq', '1953.seq', '4039.seq', '1412.seq', '2202.seq', '3654.seq', '2839.seq', '2113.seq', '1821.seq', '0362.seq', '0093.seq', '0841.seq', '0256.seq', '2828.seq', '3194.seq', '1415.seq', '1278.seq', '0585.seq', '3150.seq', '0510.seq', '0636.seq', '3811.seq', '2102.seq', '3384.seq', '1494.seq', '2655.seq', '1211.seq', '3787.seq', '1695.seq', '3919.seq', '3112.seq', '2238.seq', '3402.seq', '0259.seq', '0561.seq', '2049.seq', '2363.seq', '3184.seq', '0035.seq', '4013.seq', '0687.seq', '0166.seq', '3739.seq', '1524.seq', '3581.seq', '1190.seq', '3351.seq', '0954.seq', '0288.seq', '1930.seq', '2472.seq', '1317.seq', '1006.seq', '1236.seq', '1173.seq', '2400.seq', '4067.seq', '1991.seq', '4126.seq', '2705.seq', '1244.seq', '2662.seq', '0455.seq', '0998.seq', '3164.seq', '0786.seq', '2561.seq', '2084.seq', '1349.seq', '3441.seq', '3923.seq', '3023.seq', '3005.seq', '1387.seq', '2177.seq', '0991.seq', '2142.seq', '0584.seq', '0853.seq', '0218.seq', '2104.seq', '3918.seq', '2355.seq', '2393.seq', '2557.seq', '3183.seq', '3256.seq', '1198.seq', '0146.seq', '3679.seq', '0013.seq', '3809.seq', '1961.seq', '3379.seq', '0458.seq', '1793.seq', '1108.seq', '1800.seq', '0147.seq', '3854.seq', '3632.seq', '2575.seq', '0894.seq', '2197.seq', '2946.seq', '0540.seq', '1398.seq', '0685.seq', '2520.seq', '2122.seq', '0864.seq', '1871.seq', '1817.seq', '1248.seq', '2019.seq', '3971.seq', '1673.seq', '2770.seq', '1447.seq', '2385.seq', '3002.seq', '0861.seq', '3939.seq', '3205.seq', '0787.seq', '3724.seq', '0989.seq', '2446.seq', '1842.seq', '0187.seq', '1126.seq', '1840.seq', '2018.seq', '3704.seq', '2330.seq', '2099.seq', '3452.seq', '2590.seq', '3409.seq', '3082.seq', '2576.seq', '1724.seq', '1180.seq', '0884.seq', '2934.seq', '3399.seq', '3370.seq', '2115.seq', '0151.seq', '2158.seq', '2515.seq', '1074.seq', '3477.seq', '2387.seq', '0716.seq', '1157.seq', '2538.seq', '1404.seq', '0346.seq', '3231.seq', '1187.seq', '3837.seq', '4109.seq', '2992.seq', '1796.seq', '3107.seq', '3828.seq', '0203.seq', '2984.seq', '3503.seq', '0206.seq', '0152.seq', '2545.seq', '1552.seq', '3009.seq', '1113.seq', '0953.seq', '3784.seq', '0250.seq', '2144.seq', '4016.seq', '3504.seq', '1738.seq', '2596.seq', '2145.seq', '2716.seq', '1693.seq', '3104.seq', '3053.seq', '4142.seq', '0002.seq', '3475.seq', '1237.seq', '0834.seq', '0977.seq', '3075.seq', '3573.seq', '3512.seq', '0315.seq', '0592.seq', '3780.seq', '1826.seq', '3018.seq', '0085.seq', '2838.seq', '3527.seq', '1529.seq', '1128.seq', '1580.seq', '3621.seq', '2700.seq', '3410.seq', '2988.seq', '1675.seq', '2704.seq', '3069.seq', '2023.seq', '2065.seq', '1300.seq', '1283.seq', '0949.seq', '1548.seq', '0952.seq', '3362.seq', '1303.seq', '1361.seq', '2710.seq', '0370.seq', '2391.seq', '2621.seq', '1674.seq', '2017.seq', '2801.seq', '1760.seq', '1683.seq', '3247.seq', '1621.seq', '1314.seq', '2413.seq', '2593.seq', '0475.seq', '1058.seq', '0379.seq', '1484.seq', '3439.seq', '2855.seq']\n"
          ]
        }
      ]
    },
    {
      "cell_type": "code",
      "metadata": {
        "colab": {
          "base_uri": "https://localhost:8080/"
        },
        "id": "TxUSnGhujNLE",
        "outputId": "1068dc89-edb1-4fc3-f9d4-a8790156aeed"
      },
      "source": [
        "test_list = []\n",
        "for sample in test_df[\"Sample\"]:\n",
        "  temp = str(sample).zfill(4) + \".seq\"\n",
        "  test_list.append(temp)\n",
        "print(test_list)"
      ],
      "execution_count": null,
      "outputs": [
        {
          "output_type": "stream",
          "name": "stdout",
          "text": [
            "['0054.seq', '1460.seq', '1312.seq', '1230.seq', '3077.seq', '1133.seq', '4111.seq', '2173.seq', '1690.seq', '0274.seq', '2232.seq', '1720.seq', '3493.seq', '2644.seq', '2473.seq', '1923.seq', '1297.seq', '4115.seq', '2068.seq', '2638.seq', '1490.seq', '4021.seq', '2193.seq', '0046.seq', '1751.seq', '1017.seq', '3262.seq', '0601.seq', '1610.seq', '3025.seq', '3791.seq', '3738.seq', '0345.seq', '0441.seq', '2877.seq', '4129.seq', '1341.seq', '2291.seq', '1122.seq', '3743.seq', '2124.seq', '1380.seq', '1493.seq', '3389.seq', '0268.seq', '0807.seq', '0959.seq', '0768.seq', '0306.seq', '2187.seq', '2109.seq', '3144.seq', '1366.seq', '1980.seq', '2730.seq', '0017.seq', '0541.seq', '2826.seq', '3663.seq', '0505.seq', '3449.seq', '2127.seq', '3339.seq', '2310.seq', '0414.seq', '1309.seq', '2163.seq', '2166.seq', '0799.seq', '0905.seq', '1962.seq', '0647.seq', '3649.seq', '1986.seq', '3215.seq', '1369.seq', '3688.seq', '1520.seq', '1761.seq', '3987.seq', '1421.seq', '0964.seq', '0355.seq', '2529.seq', '3607.seq', '1877.seq', '0801.seq', '3297.seq', '3127.seq', '2626.seq', '2535.seq', '4000.seq', '2189.seq', '3565.seq', '0082.seq', '2460.seq', '3128.seq', '0367.seq', '0820.seq', '3868.seq', '3041.seq', '1474.seq', '3544.seq', '2526.seq', '0175.seq', '0974.seq', '3818.seq', '3819.seq', '1099.seq', '3303.seq', '1240.seq', '1089.seq', '0373.seq', '2252.seq', '0488.seq', '0038.seq', '0817.seq', '3548.seq', '3914.seq', '3657.seq', '0779.seq', '2250.seq', '3543.seq', '1998.seq', '0137.seq', '0811.seq', '3318.seq', '1307.seq', '0089.seq', '3310.seq', '2417.seq', '2699.seq', '1965.seq', '3777.seq', '3235.seq', '3239.seq', '2060.seq', '2645.seq', '0586.seq', '2906.seq', '1276.seq', '3659.seq', '3900.seq', '3182.seq', '1325.seq', '3229.seq', '1905.seq', '3592.seq', '0331.seq', '2151.seq', '2516.seq', '4074.seq', '2013.seq', '2940.seq', '3135.seq', '4018.seq', '4002.seq', '1929.seq', '0088.seq', '2372.seq', '3426.seq', '3750.seq', '3020.seq', '1900.seq', '3091.seq', '0808.seq', '3417.seq', '1539.seq', '1882.seq', '3590.seq', '0898.seq', '1229.seq', '0929.seq', '1777.seq', '0472.seq', '1105.seq', '3638.seq', '3224.seq', '3577.seq', '3981.seq', '4054.seq', '0385.seq', '2374.seq', '0629.seq', '1887.seq', '2497.seq', '3147.seq', '0008.seq', '4158.seq', '1904.seq', '2935.seq', '3386.seq', '3416.seq', '2402.seq', '2082.seq', '2269.seq', '0658.seq', '1888.seq', '3046.seq', '1411.seq', '3145.seq', '3236.seq', '0908.seq', '3132.seq', '3628.seq', '3856.seq', '3219.seq', '3730.seq', '3071.seq', '0142.seq', '0059.seq', '2491.seq', '2064.seq', '0792.seq', '1021.seq', '3405.seq', '3722.seq', '2348.seq', '0074.seq', '0652.seq', '0802.seq', '0391.seq', '1316.seq', '2723.seq', '0310.seq', '0210.seq', '2579.seq', '2756.seq', '2112.seq', '1828.seq', '1265.seq', '2117.seq', '3464.seq', '2511.seq', '1549.seq', '0185.seq', '1867.seq', '3523.seq', '2846.seq', '3514.seq', '2871.seq', '1893.seq', '3498.seq', '0648.seq', '0513.seq', '0885.seq', '3266.seq', '0484.seq', '0626.seq', '1418.seq', '4032.seq', '4019.seq', '2044.seq', '0156.seq', '1508.seq', '1162.seq', '1138.seq', '3166.seq', '1970.seq', '3605.seq', '1171.seq', '3757.seq', '2961.seq', '1637.seq', '3265.seq', '3530.seq', '4151.seq', '2854.seq', '0852.seq', '1282.seq', '2487.seq', '2519.seq', '3316.seq', '0907.seq', '4103.seq', '2414.seq', '0986.seq', '0324.seq', '3832.seq', '0091.seq', '0736.seq', '2725.seq', '3469.seq', '2962.seq', '2162.seq', '0399.seq', '4036.seq', '2371.seq', '3612.seq', '1988.seq', '0016.seq', '0001.seq', '1471.seq', '0225.seq', '1684.seq', '4008.seq', '1495.seq', '3126.seq', '1286.seq', '3212.seq', '1277.seq', '3579.seq', '3476.seq', '1686.seq', '2565.seq', '3073.seq', '2706.seq', '0726.seq', '1216.seq', '0320.seq', '0344.seq', '2481.seq', '2036.seq', '3240.seq', '2435.seq', '3686.seq', '0193.seq', '0117.seq', '3348.seq', '3990.seq', '3024.seq', '1348.seq', '3035.seq', '3395.seq', '1602.seq', '0338.seq', '3901.seq', '3814.seq', '1510.seq', '3434.seq', '3094.seq', '3100.seq', '0674.seq', '0235.seq', '1950.seq', '2087.seq', '0471.seq', '2556.seq', '2512.seq', '2802.seq', '0766.seq', '3048.seq', '2715.seq', '2449.seq', '3055.seq', '1784.seq', '3953.seq', '0993.seq', '2468.seq', '0946.seq', '0380.seq', '0883.seq', '1996.seq', '3044.seq', '2055.seq', '2149.seq', '2747.seq', '2105.seq', '2410.seq', '2987.seq', '3961.seq', '1360.seq', '3696.seq', '1121.seq', '0537.seq', '3963.seq', '2810.seq', '2258.seq', '1448.seq', '3141.seq', '1626.seq', '1292.seq', '1865.seq', '2116.seq', '3984.seq', '0888.seq', '3478.seq', '0237.seq', '2270.seq', '3758.seq', '2073.seq', '3445.seq', '2201.seq', '2216.seq', '1723.seq', '1884.seq', '2531.seq', '1807.seq', '2319.seq', '2632.seq', '3170.seq', '1383.seq', '0408.seq', '1320.seq', '3376.seq', '1651.seq', '2086.seq', '3555.seq', '1408.seq', '1363.seq', '2648.seq', '1507.seq', '3188.seq', '0521.seq', '1194.seq', '0623.seq', '2812.seq', '0045.seq', '1934.seq', '4047.seq', '1788.seq', '1352.seq', '3989.seq', '3519.seq', '0980.seq', '2845.seq', '0316.seq', '0960.seq', '2794.seq', '0532.seq', '0909.seq', '1862.seq', '0039.seq', '0313.seq', '1428.seq', '2320.seq', '3040.seq', '3008.seq', '1603.seq', '3562.seq', '2213.seq', '2688.seq', '3851.seq', '2119.seq', '2998.seq', '1938.seq', '1971.seq', '2714.seq', '1498.seq', '2867.seq', '0732.seq', '1221.seq', '1125.seq', '0794.seq', '1994.seq', '0530.seq', '1295.seq', '0114.seq', '0300.seq', '3458.seq', '2868.seq', '2096.seq', '2442.seq', '2989.seq', '1085.seq', '2923.seq', '2547.seq', '1131.seq', '3700.seq', '1439.seq', '2937.seq', '1098.seq', '2091.seq', '2241.seq', '3207.seq', '3251.seq', '2138.seq', '1168.seq', '0529.seq', '1594.seq', '3604.seq', '2040.seq', '0557.seq', '2203.seq', '3300.seq', '2139.seq', '2726.seq', '3741.seq', '2275.seq', '4053.seq', '4124.seq', '1864.seq', '0006.seq', '3494.seq', '3017.seq', '3260.seq', '1423.seq', '1281.seq', '1432.seq', '0598.seq', '2251.seq', '1426.seq', '3718.seq', '0643.seq', '2823.seq', '3772.seq', '1189.seq', '3564.seq', '2949.seq', '0600.seq', '3032.seq', '0848.seq', '3609.seq', '2403.seq', '1238.seq', '0863.seq', '4146.seq', '1433.seq', '1557.seq', '0718.seq', '3532.seq', '1040.seq', '3813.seq', '0182.seq', '1995.seq', '1845.seq', '3875.seq', '3608.seq', '2972.seq', '3909.seq', '3827.seq', '0508.seq', '3335.seq', '2646.seq', '2797.seq', '1792.seq', '1579.seq', '4011.seq', '3168.seq', '0673.seq', '1948.seq', '2982.seq', '0915.seq', '0707.seq', '2137.seq', '1154.seq', '0273.seq', '3039.seq', '3350.seq', '2067.seq', '0349.seq', '3057.seq', '1007.seq', '3526.seq', '2936.seq', '3430.seq', '1890.seq', '3876.seq', '0350.seq', '0382.seq', '3248.seq', '3595.seq', '1562.seq', '1896.seq', '2635.seq', '0318.seq', '2416.seq', '1856.seq', '2300.seq', '1247.seq', '3214.seq', '3027.seq', '0464.seq', '3043.seq', '3243.seq', '2991.seq', '2568.seq', '2927.seq', '3137.seq', '1420.seq', '2585.seq', '0565.seq', '3364.seq', '0594.seq', '2378.seq', '0955.seq', '2945.seq', '3505.seq', '0835.seq', '3865.seq', '1704.seq', '0642.seq', '3712.seq', '2695.seq', '3664.seq', '2788.seq', '1677.seq', '3401.seq', '1253.seq', '0107.seq', '2079.seq', '0319.seq', '1739.seq', '3192.seq', '1797.seq', '1776.seq', '0388.seq', '0179.seq', '1071.seq', '0660.seq', '0134.seq', '1301.seq', '3683.seq', '2554.seq', '2152.seq', '4133.seq', '3999.seq', '3799.seq', '3932.seq', '0979.seq', '1694.seq', '0026.seq', '3437.seq', '0252.seq', '1837.seq', '2434.seq', '0044.seq', '2764.seq', '0982.seq', '3698.seq', '0500.seq', '1220.seq', '3468.seq', '2551.seq', '0919.seq', '2066.seq', '2030.seq', '0357.seq', '3124.seq', '3729.seq', '2701.seq', '1663.seq', '3531.seq', '3036.seq', '2461.seq', '0075.seq', '0512.seq', '1197.seq', '0389.seq', '3529.seq', '2530.seq', '2425.seq', '0497.seq', '3013.seq', '1185.seq', '2365.seq', '0371.seq', '2039.seq', '3456.seq', '0489.seq', '2925.seq', '2181.seq', '3879.seq', '0191.seq', '2943.seq', '3905.seq', '1898.seq', '1654.seq', '2155.seq', '1758.seq', '0560.seq', '3888.seq', '0847.seq', '0789.seq', '0911.seq', '0558.seq', '1747.seq', '1224.seq', '4084.seq', '3218.seq', '2805.seq', '1070.seq', '1217.seq', '1650.seq', '0945.seq', '3423.seq', '3322.seq', '3033.seq', '2360.seq', '3928.seq', '0041.seq', '2532.seq', '3156.seq', '3880.seq', '1079.seq', '4122.seq', '0940.seq', '2895.seq', '1159.seq', '1554.seq', '0301.seq', '2411.seq', '1009.seq', '2236.seq', '0055.seq', '2860.seq', '2206.seq', '2608.seq', '1001.seq', '0879.seq', '4155.seq', '1791.seq', '1921.seq', '1124.seq', '2759.seq', '2244.seq', '2329.seq', '2863.seq', '3765.seq', '2000.seq', '3518.seq', '1920.seq', '3600.seq', '0948.seq', '1057.seq', '0836.seq', '3619.seq', '2234.seq', '2740.seq', '0682.seq', '2719.seq', '3615.seq', '0725.seq', '0427.seq', '0683.seq', '1227.seq', '1709.seq', '3635.seq', '2263.seq', '0941.seq', '0419.seq', '3552.seq', '2889.seq', '2426.seq', '1799.seq', '0899.seq', '0556.seq', '3571.seq', '0127.seq', '3432.seq', '0277.seq', '1049.seq', '3344.seq', '1584.seq', '1445.seq', '1042.seq', '1451.seq', '1501.seq', '2171.seq', '2780.seq', '2439.seq', '0696.seq', '3899.seq', '1219.seq', '1611.seq', '4164.seq', '2652.seq', '1819.seq', '1521.seq', '2841.seq', '2343.seq', '3415.seq', '1895.seq', '1188.seq', '2816.seq', '4078.seq', '3516.seq', '3979.seq', '1619.seq', '0454.seq', '0021.seq', '3373.seq', '3770.seq', '2024.seq', '2629.seq', '0007.seq', '1595.seq', '0579.seq', '0984.seq', '3726.seq', '2278.seq', '1765.seq', '1617.seq', '1918.seq', '3361.seq', '3538.seq', '2428.seq', '1771.seq', '1345.seq', '2025.seq', '2979.seq', '1285.seq', '1762.seq', '1246.seq', '3277.seq', '0341.seq', '2679.seq', '0099.seq', '2346.seq', '0886.seq', '3058.seq', '3714.seq', '0856.seq', '3694.seq', '1386.seq', '3756.seq', '2212.seq', '1228.seq', '1721.seq', '3451.seq', '3354.seq', '2986.seq', '3320.seq', '2864.seq', '3946.seq', '3037.seq', '3631.seq', '0845.seq', '2633.seq', '0418.seq', '2784.seq', '2448.seq', '2993.seq', '0101.seq', '1820.seq', '1430.seq', '3007.seq', '0365.seq', '3929.seq', '4033.seq', '2358.seq', '1338.seq', '1596.seq', '1992.seq', '3916.seq', '0253.seq', '1892.seq', '0290.seq', '2445.seq', '0057.seq', '4116.seq', '2698.seq', '3180.seq', '0144.seq', '2076.seq', '3732.seq', '3106.seq', '2277.seq', '2476.seq', '3906.seq', '0504.seq', '0759.seq', '2281.seq', '0312.seq', '2349.seq', '0788.seq', '1835.seq', '1146.seq', '2851.seq', '0433.seq', '1268.seq', '0062.seq', '1464.seq', '3021.seq', '0895.seq', '1340.seq', '1492.seq', '1525.seq', '0688.seq', '0703.seq', '1319.seq', '3873.seq', '1749.seq', '2718.seq', '0574.seq', '1454.seq', '0180.seq', '1336.seq', '1696.seq', '2777.seq', '1851.seq', '0564.seq', '3618.seq', '3766.seq', '2541.seq', '3558.seq', '0155.seq', '3299.seq', '0299.seq', '2953.seq', '1727.seq', '3982.seq', '0368.seq', '2969.seq', '1051.seq', '2713.seq', '4066.seq', '3272.seq', '1101.seq', '0275.seq', '3822.seq', '2827.seq', '4010.seq', '1899.seq', '4058.seq', '0704.seq', '1879.seq', '1597.seq', '3479.seq', '3050.seq', '1486.seq', '4152.seq', '2749.seq', '0727.seq', '0087.seq', '1880.seq', '1385.seq', '0081.seq', '3782.seq', '0743.seq', '0730.seq', '1906.seq', '3637.seq', '3647.seq', '3625.seq', '4073.seq', '2356.seq', '2103.seq', '1632.seq', '1730.seq', '3382.seq', '4157.seq', '2598.seq', '3584.seq', '2875.seq', '2990.seq', '1538.seq', '3864.seq', '2999.seq', '2742.seq', '0958.seq', '1987.seq', '1839.seq', '1413.seq', '3201.seq', '1569.seq', '1048.seq', '3442.seq', '2711.seq', '3172.seq', '3461.seq', '0925.seq', '2787.seq', '0204.seq', '0245.seq', '3333.seq', '4143.seq', '2077.seq', '2611.seq', '0742.seq', '3959.seq', '0285.seq', '3329.seq', '0403.seq', '3217.seq', '3252.seq', '1410.seq', '1438.seq', '3163.seq', '4119.seq', '0889.seq', '1436.seq', '2689.seq', '1825.seq', '4037.seq', '3889.seq', '0474.seq', '2353.seq', '2862.seq', '1210.seq', '3891.seq', '3289.seq', '0462.seq', '0892.seq', '0999.seq', '0394.seq', '2559.seq', '0650.seq', '1060.seq', '1358.seq', '0198.seq', '3887.seq', '1778.seq', '2569.seq', '2376.seq', '3896.seq', '0670.seq', '1499.seq', '0110.seq', '2454.seq', '2221.seq', '4001.seq', '1178.seq', '2580.seq', '3684.seq', '0555.seq', '2702.seq', '0637.seq', '4022.seq', '2833.seq', '0377.seq', '2328.seq', '3211.seq', '2101.seq', '1353.seq', '2905.seq', '1382.seq', '3947.seq', '1716.seq', '0865.seq', '2071.seq', '2571.seq', '0942.seq', '2424.seq', '2485.seq', '3427.seq', '1801.seq', '1339.seq', '0165.seq', '0030.seq', '2292.seq', '1705.seq', '1293.seq', '3486.seq', '2978.seq', '3161.seq', '2521.seq', '2774.seq', '2128.seq', '0328.seq', '2047.seq', '1378.seq', '0459.seq', '0296.seq', '1095.seq', '3798.seq', '3642.seq', '1167.seq', '0882.seq', '2665.seq', '2586.seq', '3763.seq', '0536.seq', '3097.seq', '1135.seq', '3783.seq', '3309.seq', '0701.seq', '0011.seq', '3781.seq', '3991.seq', '1377.seq', '0422.seq', '1144.seq', '2167.seq', '3525.seq', '1234.seq', '0125.seq', '3090.seq', '0921.seq', '1136.seq', '2447.seq', '2527.seq', '0356.seq', '1732.seq', '1409.seq', '1013.seq', '2948.seq', '0554.seq', '3776.seq', '4131.seq', '1321.seq', '1118.seq', '3189.seq', '2226.seq', '0495.seq', '3324.seq', '2954.seq', '1958.seq', '1658.seq', '4062.seq', '3831.seq', '2572.seq', '1957.seq', '1212.seq', '0568.seq', '2345.seq', '1332.seq', '0692.seq', '1616.seq', '0829.seq', '3528.seq', '2186.seq', '1742.seq', '1763.seq', '2482.seq', '3874.seq', '0264.seq', '3122.seq', '3980.seq', '3261.seq', '2467.seq', '2016.seq', '3313.seq', '0014.seq', '2386.seq', '2613.seq', '2938.seq', '3134.seq', '0149.seq', '0713.seq', '3388.seq', '3162.seq', '2926.seq', '0033.seq', '1972.seq', '2307.seq', '0776.seq', '2619.seq', '1330.seq', '3109.seq', '1804.seq', '4064.seq', '1199.seq', '2727.seq', '0092.seq', '1593.seq', '3596.seq', '1279.seq', '0860.seq', '0923.seq', '1407.seq', '1829.seq', '3253.seq', '2842.seq', '3233.seq', '2303.seq', '1039.seq', '0659.seq', '2190.seq', '0566.seq', '4043.seq', '0048.seq', '0282.seq', '0181.seq', '1242.seq', '3450.seq', '1802.seq', '3954.seq', '0520.seq', '2037.seq', '2089.seq', '3116.seq', '1388.seq', '1084.seq', '0271.seq', '1766.seq', '3588.seq', '2085.seq', '1612.seq', '3149.seq', '3843.seq', '0639.seq', '1700.seq', '0604.seq', '2518.seq', '0667.seq', '2092.seq', '3912.seq', '0280.seq', '2010.seq', '2302.seq', '0783.seq', '2314.seq', '0624.seq', '1192.seq', '0265.seq', '0943.seq', '3826.seq', '0712.seq', '3749.seq', '0024.seq', '2288.seq', '2078.seq', '1641.seq', '3808.seq', '2691.seq', '3705.seq', '0423.seq', '0209.seq', '1945.seq', '0272.seq', '2022.seq', '0153.seq', '2920.seq', '3976.seq', '3096.seq', '3447.seq', '1910.seq', '3337.seq', '1191.seq', '3575.seq', '2423.seq', '0519.seq', '1773.seq', '3740.seq', '2001.seq', '3312.seq', '0308.seq', '2605.seq', '1541.seq', '3646.seq', '3084.seq', '1442.seq', '1435.seq', '1954.seq', '1913.seq', '0076.seq', '0777.seq', '1062.seq', '3675.seq', '3689.seq', '0641.seq', '2081.seq', '0969.seq', '2295.seq', '2130.seq', '0303.seq', '3334.seq', '2470.seq', '3585.seq', '3225.seq', '0267.seq', '3089.seq', '0930.seq', '2850.seq', '3455.seq', '0397.seq', '3174.seq', '0226.seq', '3930.seq', '0201.seq', '0043.seq', '2534.seq', '0469.seq', '0752.seq', '3549.seq', '4148.seq', '2890.seq', '3890.seq', '1726.seq', '0931.seq', '3734.seq', '3190.seq', '1437.seq', '2824.seq', '3004.seq', '0745.seq', '1531.seq', '3833.seq', '3131.seq', '2848.seq', '1764.seq', '3924.seq', '3019.seq', '0027.seq', '1403.seq', '2464.seq', '1775.seq', '1005.seq', '2131.seq', '1689.seq', '1193.seq', '1137.seq', '2524.seq', '0219.seq', '3601.seq', '1201.seq', '2051.seq', '1823.seq', '0681.seq', '0498.seq', '1359.seq', '2311.seq', '4139.seq', '3966.seq', '3352.seq', '0463.seq', '0791.seq', '2136.seq', '4012.seq', '3363.seq', '1160.seq', '0622.seq', '3746.seq', '0448.seq', '2819.seq', '3902.seq', '3064.seq', '1355.seq', '1417.seq', '3203.seq', '2492.seq', '3204.seq', '3340.seq', '2974.seq', '2231.seq', '1774.seq', '3978.seq', '3676.seq', '1590.seq', '3221.seq', '4028.seq', '2951.seq', '1029.seq', '2977.seq', '4024.seq', '2033.seq', '0838.seq', '1518.seq', '2245.seq', '1094.seq', '3176.seq', '0287.seq', '0814.seq', '0372.seq', '3677.seq', '2297.seq', '1655.seq', '2217.seq', '0124.seq', '2438.seq', '1183.seq', '2185.seq', '0078.seq', '1416.seq', '0719.seq', '4130.seq', '2735.seq', '3136.seq', '2012.seq', '2211.seq', '2200.seq', '0784.seq', '3667.seq', '3701.seq', '1287.seq', '1091.seq', '2647.seq', '0596.seq', '0684.seq', '4153.seq', '3759.seq', '2198.seq', '1949.seq', '1571.seq', '1506.seq', '0663.seq', '0593.seq', '3824.seq', '2732.seq', '2970.seq', '1555.seq', '3421.seq', '3940.seq', '3852.seq', '2607.seq', '2199.seq', '2444.seq', '1373.seq', '0020.seq', '2537.seq', '0309.seq', '0760.seq', '3079.seq', '1395.seq', '2734.seq', '0638.seq', '1294.seq', '2504.seq', '2180.seq', '0988.seq', '3446.seq', '0037.seq', '3060.seq', '1399.seq', '3745.seq', '1676.seq', '3428.seq', '2499.seq', '1744.seq', '1846.seq', '3301.seq', '0108.seq', '1679.seq', '2952.seq', '0609.seq', '1116.seq', '2225.seq', '1096.seq', '2452.seq', '0896.seq', '0582.seq', '4030.seq', '0764.seq', '2344.seq', '1150.seq', '3302.seq', '1748.seq', '1657.seq', '1830.seq', '2737.seq', '2422.seq', '0258.seq', '0050.seq', '3083.seq', '3708.seq', '1678.seq', '3298.seq', '0695.seq', '3820.seq', '2663.seq', '3114.seq', '1917.seq', '1638.seq', '1866.seq', '0976.seq', '0720.seq', '1644.seq', '1535.seq', '3110.seq', '1140.seq', '0738.seq', '0607.seq', '3960.seq', '0064.seq', '0012.seq', '4069.seq', '2408.seq', '1239.seq', '4114.seq', '2902.seq', '2392.seq', '3067.seq', '0951.seq', '4004.seq', '1075.seq', '0197.seq', '2133.seq', '4035.seq', '3582.seq', '1014.seq', '2290.seq', '4087.seq', '0507.seq', '0506.seq', '4127.seq', '2157.seq', '0739.seq', '0781.seq', '3624.seq', '1174.seq', '3341.seq', '2684.seq', '3501.seq', '0906.seq', '0612.seq', '1722.seq', '0239.seq', '3785.seq', '2370.seq', '0618.seq', '2280.seq', '1256.seq', '1556.seq', '4061.seq', '2450.seq', '4137.seq', '0933.seq', '1560.seq', '2957.seq', '3314.seq', '3650.seq', '2973.seq', '0022.seq', '2160.seq', '3167.seq', '1755.seq', '2754.seq', '0332.seq', '2223.seq', '0918.seq', '0412.seq', '0694.seq', '1324.seq', '0080.seq', '3692.seq', '2717.seq', '1374.seq', '0966.seq', '1691.seq', '3803.seq', '1573.seq', '3793.seq', '2745.seq', '2539.seq', '2836.seq', '1564.seq', '1456.seq', '0846.seq', '3620.seq', '3807.seq', '0553.seq', '3681.seq', '4063.seq', '0072.seq', '1343.seq', '0956.seq', '1812.seq', '2677.seq', '1356.seq', '0061.seq', '1145.seq', '0351.seq', '2958.seq', '0611.seq', '3866.seq', '1235.seq', '1181.seq', '2779.seq', '0051.seq', '4065.seq', '0797.seq', '1978.seq', '2884.seq', '4097.seq', '1853.seq', '2227.seq', '1859.seq', '2195.seq', '1881.seq', '2583.seq', '0402.seq', '0169.seq', '3938.seq', '2143.seq', '0460.seq', '3983.seq', '0164.seq', '0122.seq', '2046.seq', '2364.seq', '0141.seq', '0266.seq', '0143.seq', '3440.seq', '2134.seq', '1264.seq', '2830.seq', '1025.seq', '3443.seq', '0515.seq', '0740.seq', '0063.seq', '0666.seq', '1214.seq', '3332.seq', '2405.seq', '3133.seq', '2822.seq', '4167.seq', '1931.seq', '0202.seq', '2566.seq', '2059.seq', '3762.seq', '0990.seq', '4089.seq', '1746.seq', '2843.seq', '2253.seq', '2582.seq', '3391.seq', '3840.seq', '2694.seq', '1509.seq', '2939.seq', '2929.seq', '4108.seq', '3065.seq', '2546.seq', '0104.seq', '0095.seq', '2881.seq', '3049.seq', '2316.seq', '0551.seq', '3411.seq', '3602.seq', '1583.seq', '2540.seq', '1045.seq', '1832.seq', '2772.seq', '3400.seq', '0393.seq', '2011.seq', '3001.seq', '2383.seq', '3962.seq', '4076.seq', '4145.seq', '3789.seq', '1318.seq', '1020.seq', '3482.seq', '2994.seq', '3287.seq', '3690.seq', '3945.seq', '2114.seq', '3871.seq', '2436.seq', '3181.seq', '2379.seq', '1186.seq', '1786.seq', '3655.seq', '3850.seq', '1834.seq', '2746.seq', '0118.seq', '0404.seq', '2229.seq', '2825.seq', '3934.seq', '3087.seq', '4077.seq', '1354.seq', '0734.seq', '4081.seq', '3148.seq', '1940.seq', '0833.seq', '1997.seq', '2955.seq', '1932.seq', '2874.seq', '1305.seq', '1875.seq', '0735.seq', '1255.seq', '3281.seq', '0824.seq', '3380.seq', '1311.seq', '0487.seq']\n"
          ]
        }
      ]
    },
    {
      "cell_type": "markdown",
      "metadata": {
        "id": "X7deJeQyXwBc"
      },
      "source": [
        "##Unzip file LOGS.zip dan membaca data pada file .seq di dalamnya untuk data train dan test"
      ]
    },
    {
      "cell_type": "code",
      "metadata": {
        "id": "qNUEeDXKgySA",
        "colab": {
          "base_uri": "https://localhost:8080/"
        },
        "outputId": "4337d8aa-4226-478b-ff71-c8e18438e5c4"
      },
      "source": [
        "# Folder Path\n",
        "file_path = \"/content/LOGS.zip\"\n",
        "\n",
        "zf = ZipFile(file_path, 'r')\n",
        "zf.extractall('/content/')\n",
        "zf.close()\n",
        "\n",
        "path = r\"/content/LOGS\"\n",
        "  \n",
        "def read_text_file(file_path):\n",
        "    with open(file_path, 'r') as f:\n",
        "        log = f.read()\n",
        "    return log\n",
        "\n",
        "log_train_list = []\n",
        "log_test_list = []\n",
        "        \n",
        "# iterate through all file in train and test list\n",
        "for file in train_list:\n",
        "    # Check whether file is in text format or not\n",
        "    if file.endswith(\".seq\"):\n",
        "        file_path = f\"{path}/{file}\"\n",
        "  \n",
        "        # call read text file function\n",
        "        log_train_list.append(re.sub(\"\\n\", \" \", str(read_text_file(file_path))))\n",
        "        \n",
        "for file in test_list:\n",
        "    # Check whether file is in text format or not\n",
        "    if file.endswith(\".seq\"):\n",
        "        file_path = f\"{path}/{file}\"\n",
        "  \n",
        "        # call read text file function\n",
        "        log_test_list.append(re.sub(\"\\n\", \" \", str(read_text_file(file_path))))\n",
        "\n",
        "print(log_train_list)\n",
        "print(log_test_list)"
      ],
      "execution_count": null,
      "outputs": [
        {
          "output_type": "stream",
          "name": "stderr",
          "text": [
            "IOPub data rate exceeded.\n",
            "The notebook server will temporarily stop sending output\n",
            "to the client in order to avoid crashing it.\n",
            "To change this limit, set the config variable\n",
            "`--NotebookApp.iopub_data_rate_limit`.\n",
            "\n",
            "Current values:\n",
            "NotebookApp.iopub_data_rate_limit=1000000.0 (bytes/sec)\n",
            "NotebookApp.rate_limit_window=3.0 (secs)\n",
            "\n"
          ]
        }
      ]
    },
    {
      "cell_type": "markdown",
      "metadata": {
        "id": "JyG-1OvVYAZJ"
      },
      "source": [
        "##Melakukan preprocessing pada data yang dibaca"
      ]
    },
    {
      "cell_type": "markdown",
      "metadata": {
        "id": "zdl6t55Gbnzc"
      },
      "source": [
        "Perlu dilakukan untuk memastikan data logs yang didapat sudah bersih dari \"\\n\" yang didapat saat pembacaan file .seq pada LOGS.zip"
      ]
    },
    {
      "cell_type": "code",
      "metadata": {
        "id": "g4s1qzTXg0mr",
        "colab": {
          "base_uri": "https://localhost:8080/"
        },
        "outputId": "b38256d8-2394-4f6e-9a7e-c3548838e683"
      },
      "source": [
        "new_log_train_list = []\n",
        "new_log_test_list = []\n",
        "\n",
        "for log_train in log_train_list:\n",
        "    new_log_train_list.append(re.sub(\"\\n\",\" \", log_train))\n",
        "    \n",
        "for log_test in log_test_list:\n",
        "    new_log_test_list.append(re.sub(\"\\n\",\" \", log_test))\n",
        "\n",
        "print(new_log_train_list)\n",
        "print(new_log_test_list)"
      ],
      "execution_count": null,
      "outputs": [
        {
          "output_type": "stream",
          "name": "stderr",
          "text": [
            "IOPub data rate exceeded.\n",
            "The notebook server will temporarily stop sending output\n",
            "to the client in order to avoid crashing it.\n",
            "To change this limit, set the config variable\n",
            "`--NotebookApp.iopub_data_rate_limit`.\n",
            "\n",
            "Current values:\n",
            "NotebookApp.iopub_data_rate_limit=1000000.0 (bytes/sec)\n",
            "NotebookApp.rate_limit_window=3.0 (secs)\n",
            "\n"
          ]
        }
      ]
    },
    {
      "cell_type": "markdown",
      "metadata": {
        "id": "XzZus3UGYLWQ"
      },
      "source": [
        "##Membuat kolom baru untuk Logs yang telah dibaca ke dalam train_df dan test_df"
      ]
    },
    {
      "cell_type": "code",
      "metadata": {
        "id": "9_tnRo2qg3At",
        "colab": {
          "base_uri": "https://localhost:8080/",
          "height": 206
        },
        "outputId": "7cf018ad-22b2-48da-afef-052bdc766a3d"
      },
      "source": [
        "train_df[\"Logs\"] = new_log_train_list\n",
        "train_df.head()"
      ],
      "execution_count": null,
      "outputs": [
        {
          "output_type": "execute_result",
          "data": {
            "text/html": [
              "<div>\n",
              "<style scoped>\n",
              "    .dataframe tbody tr th:only-of-type {\n",
              "        vertical-align: middle;\n",
              "    }\n",
              "\n",
              "    .dataframe tbody tr th {\n",
              "        vertical-align: top;\n",
              "    }\n",
              "\n",
              "    .dataframe thead th {\n",
              "        text-align: right;\n",
              "    }\n",
              "</style>\n",
              "<table border=\"1\" class=\"dataframe\">\n",
              "  <thead>\n",
              "    <tr style=\"text-align: right;\">\n",
              "      <th></th>\n",
              "      <th>Sample</th>\n",
              "      <th>Class</th>\n",
              "      <th>Logs</th>\n",
              "    </tr>\n",
              "  </thead>\n",
              "  <tbody>\n",
              "    <tr>\n",
              "      <th>0</th>\n",
              "      <td>3533</td>\n",
              "      <td>2</td>\n",
              "      <td>execve ioctl ioctl prctl time getpid time getp...</td>\n",
              "    </tr>\n",
              "    <tr>\n",
              "      <th>1</th>\n",
              "      <td>1270</td>\n",
              "      <td>5</td>\n",
              "      <td>execve uname brk brk set_tls set_tid_address s...</td>\n",
              "    </tr>\n",
              "    <tr>\n",
              "      <th>2</th>\n",
              "      <td>3270</td>\n",
              "      <td>1</td>\n",
              "      <td>execve brk brk set_tls ioctl ioctl access gete...</td>\n",
              "    </tr>\n",
              "    <tr>\n",
              "      <th>3</th>\n",
              "      <td>1323</td>\n",
              "      <td>2</td>\n",
              "      <td>execve ioctl ioctl unlink time getpid getppid ...</td>\n",
              "    </tr>\n",
              "    <tr>\n",
              "      <th>4</th>\n",
              "      <td>1064</td>\n",
              "      <td>2</td>\n",
              "      <td>execve ioctl ioctl time getpid time getpid soc...</td>\n",
              "    </tr>\n",
              "  </tbody>\n",
              "</table>\n",
              "</div>"
            ],
            "text/plain": [
              "   Sample  Class                                               Logs\n",
              "0    3533      2  execve ioctl ioctl prctl time getpid time getp...\n",
              "1    1270      5  execve uname brk brk set_tls set_tid_address s...\n",
              "2    3270      1  execve brk brk set_tls ioctl ioctl access gete...\n",
              "3    1323      2  execve ioctl ioctl unlink time getpid getppid ...\n",
              "4    1064      2  execve ioctl ioctl time getpid time getpid soc..."
            ]
          },
          "metadata": {},
          "execution_count": 136
        }
      ]
    },
    {
      "cell_type": "code",
      "metadata": {
        "id": "sGq7cBHXg5-A",
        "colab": {
          "base_uri": "https://localhost:8080/",
          "height": 206
        },
        "outputId": "6fd35e92-ea2b-4827-fcaa-8be97c5be108"
      },
      "source": [
        "test_df[\"Logs\"] = new_log_test_list\n",
        "test_df.head()"
      ],
      "execution_count": null,
      "outputs": [
        {
          "output_type": "execute_result",
          "data": {
            "text/html": [
              "<div>\n",
              "<style scoped>\n",
              "    .dataframe tbody tr th:only-of-type {\n",
              "        vertical-align: middle;\n",
              "    }\n",
              "\n",
              "    .dataframe tbody tr th {\n",
              "        vertical-align: top;\n",
              "    }\n",
              "\n",
              "    .dataframe thead th {\n",
              "        text-align: right;\n",
              "    }\n",
              "</style>\n",
              "<table border=\"1\" class=\"dataframe\">\n",
              "  <thead>\n",
              "    <tr style=\"text-align: right;\">\n",
              "      <th></th>\n",
              "      <th>Sample</th>\n",
              "      <th>Logs</th>\n",
              "    </tr>\n",
              "  </thead>\n",
              "  <tbody>\n",
              "    <tr>\n",
              "      <th>0</th>\n",
              "      <td>54</td>\n",
              "      <td>execve mmap2 cacheflush cacheflush readlink ca...</td>\n",
              "    </tr>\n",
              "    <tr>\n",
              "      <th>1</th>\n",
              "      <td>1460</td>\n",
              "      <td>execve brk brk set_tls ioctl ioctl rt_sigprocm...</td>\n",
              "    </tr>\n",
              "    <tr>\n",
              "      <th>2</th>\n",
              "      <td>1312</td>\n",
              "      <td>execve ioctl ioctl time getpid time getpid soc...</td>\n",
              "    </tr>\n",
              "    <tr>\n",
              "      <th>3</th>\n",
              "      <td>1230</td>\n",
              "      <td>execve ioctl ioctl time getpid time getpid soc...</td>\n",
              "    </tr>\n",
              "    <tr>\n",
              "      <th>4</th>\n",
              "      <td>3077</td>\n",
              "      <td>execve brk brk set_tls ioctl ioctl gettimeofda...</td>\n",
              "    </tr>\n",
              "  </tbody>\n",
              "</table>\n",
              "</div>"
            ],
            "text/plain": [
              "   Sample                                               Logs\n",
              "0      54  execve mmap2 cacheflush cacheflush readlink ca...\n",
              "1    1460  execve brk brk set_tls ioctl ioctl rt_sigprocm...\n",
              "2    1312  execve ioctl ioctl time getpid time getpid soc...\n",
              "3    1230  execve ioctl ioctl time getpid time getpid soc...\n",
              "4    3077  execve brk brk set_tls ioctl ioctl gettimeofda..."
            ]
          },
          "metadata": {},
          "execution_count": 137
        }
      ]
    },
    {
      "cell_type": "markdown",
      "metadata": {
        "id": "FUqx7DsbYbqF"
      },
      "source": [
        "##Melihat jumlah nilai unique dari masing-masing kolom Logs\n",
        "\n"
      ]
    },
    {
      "cell_type": "code",
      "metadata": {
        "id": "uMa8o0nf_KwE",
        "colab": {
          "base_uri": "https://localhost:8080/"
        },
        "outputId": "2fcbacad-afe0-4b61-bf37-8b25c92305ef"
      },
      "source": [
        "len(train_df[\"Logs\"].unique()), len(test_df[\"Logs\"].unique())"
      ],
      "execution_count": null,
      "outputs": [
        {
          "output_type": "execute_result",
          "data": {
            "text/plain": [
              "(1404, 1009)"
            ]
          },
          "metadata": {},
          "execution_count": 138
        }
      ]
    },
    {
      "cell_type": "markdown",
      "metadata": {
        "id": "lXYE6--SYmzM"
      },
      "source": [
        "##Mengubah data logs yang berbentuk dokumen teks menjadi vektor dengan menggunakan library CountVectorizer\n",
        "\n"
      ]
    },
    {
      "cell_type": "code",
      "metadata": {
        "id": "ixlGKZMC_Lve"
      },
      "source": [
        "vectorizer = CountVectorizer(max_features=1500, min_df=1000, max_df = 0.7)\n",
        "new_log_train_list_v = vectorizer.fit_transform(new_log_train_list).toarray()\n",
        "new_log_test_list_v = vectorizer.fit_transform(new_log_test_list).toarray()"
      ],
      "execution_count": null,
      "outputs": []
    },
    {
      "cell_type": "markdown",
      "metadata": {
        "id": "RGhi2J3QEfSq"
      },
      "source": [
        "Keterangan:\n",
        "*   max_features = Jumlah kata terbanyak yang digunakan sebagai feature.\n",
        "*   min_df = Jumlah minimal banyaknya document di mana suatu feature harus ada untuk menjadi feature. Misal kata \"exit\" harus ada di minimal 100 document agar bisa menjadi sebuah feature.\n",
        "*   max_df = Persentase terbesar dari adanya suatu kata pada seluruh document. Ini dibatasi karena jika terlalu sering muncul di seluruh document, maka kata tersebut tidak unique lagi."
      ]
    },
    {
      "cell_type": "code",
      "metadata": {
        "id": "EMSuCVPj_TRF",
        "colab": {
          "base_uri": "https://localhost:8080/"
        },
        "outputId": "0b5cd489-5035-4d5c-acbc-c3d79caaf560"
      },
      "source": [
        "new_log_train_list_v[0]"
      ],
      "execution_count": null,
      "outputs": [
        {
          "output_type": "execute_result",
          "data": {
            "text/plain": [
              "array([0, 1, 0, 1, 0, 2, 0])"
            ]
          },
          "metadata": {},
          "execution_count": 140
        }
      ]
    },
    {
      "cell_type": "code",
      "metadata": {
        "id": "NGqc3vuO_W_6",
        "colab": {
          "base_uri": "https://localhost:8080/"
        },
        "outputId": "61f23ac9-0765-40ae-8b3d-d753a44a7d8b"
      },
      "source": [
        "new_log_test_list_v[0]"
      ],
      "execution_count": null,
      "outputs": [
        {
          "output_type": "execute_result",
          "data": {
            "text/plain": [
              "array([1, 1])"
            ]
          },
          "metadata": {},
          "execution_count": 141
        }
      ]
    },
    {
      "cell_type": "markdown",
      "metadata": {
        "id": "Sann5rleaOf7"
      },
      "source": [
        "##Membuat kolom baru pada dataframe train dan test dari data logs yang telah menjadi vektor"
      ]
    },
    {
      "cell_type": "code",
      "metadata": {
        "colab": {
          "base_uri": "https://localhost:8080/",
          "height": 423
        },
        "id": "2szERPIimNqE",
        "outputId": "78429653-0292-45ea-e9ac-7b4aae570250"
      },
      "source": [
        "train_df_v = pd.read_csv(\"Train.csv\", names=[\"Sample\",\"Class\"])\n",
        "for i in np.arange(7):\n",
        "  if i == 0:\n",
        "    train_df_v[\"Logs 1\"] = new_log_train_list_v[:, i]\n",
        "  if i == 1:\n",
        "    train_df_v[\"Logs 2\"] = new_log_train_list_v[:, i]\n",
        "train_df_v"
      ],
      "execution_count": null,
      "outputs": [
        {
          "output_type": "execute_result",
          "data": {
            "text/html": [
              "<div>\n",
              "<style scoped>\n",
              "    .dataframe tbody tr th:only-of-type {\n",
              "        vertical-align: middle;\n",
              "    }\n",
              "\n",
              "    .dataframe tbody tr th {\n",
              "        vertical-align: top;\n",
              "    }\n",
              "\n",
              "    .dataframe thead th {\n",
              "        text-align: right;\n",
              "    }\n",
              "</style>\n",
              "<table border=\"1\" class=\"dataframe\">\n",
              "  <thead>\n",
              "    <tr style=\"text-align: right;\">\n",
              "      <th></th>\n",
              "      <th>Sample</th>\n",
              "      <th>Class</th>\n",
              "      <th>Logs 1</th>\n",
              "      <th>Logs 2</th>\n",
              "    </tr>\n",
              "  </thead>\n",
              "  <tbody>\n",
              "    <tr>\n",
              "      <th>0</th>\n",
              "      <td>3533</td>\n",
              "      <td>2</td>\n",
              "      <td>0</td>\n",
              "      <td>1</td>\n",
              "    </tr>\n",
              "    <tr>\n",
              "      <th>1</th>\n",
              "      <td>1270</td>\n",
              "      <td>5</td>\n",
              "      <td>9</td>\n",
              "      <td>0</td>\n",
              "    </tr>\n",
              "    <tr>\n",
              "      <th>2</th>\n",
              "      <td>3270</td>\n",
              "      <td>1</td>\n",
              "      <td>8</td>\n",
              "      <td>0</td>\n",
              "    </tr>\n",
              "    <tr>\n",
              "      <th>3</th>\n",
              "      <td>1323</td>\n",
              "      <td>2</td>\n",
              "      <td>0</td>\n",
              "      <td>1</td>\n",
              "    </tr>\n",
              "    <tr>\n",
              "      <th>4</th>\n",
              "      <td>1064</td>\n",
              "      <td>2</td>\n",
              "      <td>0</td>\n",
              "      <td>1</td>\n",
              "    </tr>\n",
              "    <tr>\n",
              "      <th>...</th>\n",
              "      <td>...</td>\n",
              "      <td>...</td>\n",
              "      <td>...</td>\n",
              "      <td>...</td>\n",
              "    </tr>\n",
              "    <tr>\n",
              "      <th>2495</th>\n",
              "      <td>1058</td>\n",
              "      <td>5</td>\n",
              "      <td>9</td>\n",
              "      <td>0</td>\n",
              "    </tr>\n",
              "    <tr>\n",
              "      <th>2496</th>\n",
              "      <td>379</td>\n",
              "      <td>2</td>\n",
              "      <td>0</td>\n",
              "      <td>1</td>\n",
              "    </tr>\n",
              "    <tr>\n",
              "      <th>2497</th>\n",
              "      <td>1484</td>\n",
              "      <td>2</td>\n",
              "      <td>0</td>\n",
              "      <td>1</td>\n",
              "    </tr>\n",
              "    <tr>\n",
              "      <th>2498</th>\n",
              "      <td>3439</td>\n",
              "      <td>2</td>\n",
              "      <td>0</td>\n",
              "      <td>1</td>\n",
              "    </tr>\n",
              "    <tr>\n",
              "      <th>2499</th>\n",
              "      <td>2855</td>\n",
              "      <td>2</td>\n",
              "      <td>0</td>\n",
              "      <td>1</td>\n",
              "    </tr>\n",
              "  </tbody>\n",
              "</table>\n",
              "<p>2500 rows × 4 columns</p>\n",
              "</div>"
            ],
            "text/plain": [
              "      Sample  Class  Logs 1  Logs 2\n",
              "0       3533      2       0       1\n",
              "1       1270      5       9       0\n",
              "2       3270      1       8       0\n",
              "3       1323      2       0       1\n",
              "4       1064      2       0       1\n",
              "...      ...    ...     ...     ...\n",
              "2495    1058      5       9       0\n",
              "2496     379      2       0       1\n",
              "2497    1484      2       0       1\n",
              "2498    3439      2       0       1\n",
              "2499    2855      2       0       1\n",
              "\n",
              "[2500 rows x 4 columns]"
            ]
          },
          "metadata": {},
          "execution_count": 142
        }
      ]
    },
    {
      "cell_type": "code",
      "metadata": {
        "id": "x6AEou09_bEU",
        "colab": {
          "base_uri": "https://localhost:8080/"
        },
        "outputId": "fdbb765e-01b7-4b80-e917-67883224066d"
      },
      "source": [
        "train_df_v[\"Logs 2\"].unique()"
      ],
      "execution_count": null,
      "outputs": [
        {
          "output_type": "execute_result",
          "data": {
            "text/plain": [
              "array([ 1,  0, 15,  6, 11, 16,  2])"
            ]
          },
          "metadata": {},
          "execution_count": 143
        }
      ]
    },
    {
      "cell_type": "code",
      "metadata": {
        "id": "7RPO6AYf_rci",
        "colab": {
          "base_uri": "https://localhost:8080/",
          "height": 423
        },
        "outputId": "1accfeea-20c7-496c-eeb1-254d582af488"
      },
      "source": [
        "test_df_v = pd.read_csv(\"Test.csv\", names=[\"Sample\"])\n",
        "for i in np.arange(7):\n",
        "  if i == 0:\n",
        "    test_df_v[\"Logs 1\"] = new_log_test_list_v[:, i]\n",
        "  if i == 1:\n",
        "    test_df_v[\"Logs 2\"] = new_log_test_list_v[:, i]\n",
        "test_df_v"
      ],
      "execution_count": null,
      "outputs": [
        {
          "output_type": "execute_result",
          "data": {
            "text/html": [
              "<div>\n",
              "<style scoped>\n",
              "    .dataframe tbody tr th:only-of-type {\n",
              "        vertical-align: middle;\n",
              "    }\n",
              "\n",
              "    .dataframe tbody tr th {\n",
              "        vertical-align: top;\n",
              "    }\n",
              "\n",
              "    .dataframe thead th {\n",
              "        text-align: right;\n",
              "    }\n",
              "</style>\n",
              "<table border=\"1\" class=\"dataframe\">\n",
              "  <thead>\n",
              "    <tr style=\"text-align: right;\">\n",
              "      <th></th>\n",
              "      <th>Sample</th>\n",
              "      <th>Logs 1</th>\n",
              "      <th>Logs 2</th>\n",
              "    </tr>\n",
              "  </thead>\n",
              "  <tbody>\n",
              "    <tr>\n",
              "      <th>0</th>\n",
              "      <td>54</td>\n",
              "      <td>1</td>\n",
              "      <td>1</td>\n",
              "    </tr>\n",
              "    <tr>\n",
              "      <th>1</th>\n",
              "      <td>1460</td>\n",
              "      <td>0</td>\n",
              "      <td>0</td>\n",
              "    </tr>\n",
              "    <tr>\n",
              "      <th>2</th>\n",
              "      <td>1312</td>\n",
              "      <td>0</td>\n",
              "      <td>1</td>\n",
              "    </tr>\n",
              "    <tr>\n",
              "      <th>3</th>\n",
              "      <td>1230</td>\n",
              "      <td>0</td>\n",
              "      <td>1</td>\n",
              "    </tr>\n",
              "    <tr>\n",
              "      <th>4</th>\n",
              "      <td>3077</td>\n",
              "      <td>0</td>\n",
              "      <td>1</td>\n",
              "    </tr>\n",
              "    <tr>\n",
              "      <th>...</th>\n",
              "      <td>...</td>\n",
              "      <td>...</td>\n",
              "      <td>...</td>\n",
              "    </tr>\n",
              "    <tr>\n",
              "      <th>1662</th>\n",
              "      <td>3281</td>\n",
              "      <td>1</td>\n",
              "      <td>1</td>\n",
              "    </tr>\n",
              "    <tr>\n",
              "      <th>1663</th>\n",
              "      <td>824</td>\n",
              "      <td>0</td>\n",
              "      <td>1</td>\n",
              "    </tr>\n",
              "    <tr>\n",
              "      <th>1664</th>\n",
              "      <td>3380</td>\n",
              "      <td>0</td>\n",
              "      <td>1</td>\n",
              "    </tr>\n",
              "    <tr>\n",
              "      <th>1665</th>\n",
              "      <td>1311</td>\n",
              "      <td>8</td>\n",
              "      <td>1</td>\n",
              "    </tr>\n",
              "    <tr>\n",
              "      <th>1666</th>\n",
              "      <td>487</td>\n",
              "      <td>1</td>\n",
              "      <td>1</td>\n",
              "    </tr>\n",
              "  </tbody>\n",
              "</table>\n",
              "<p>1667 rows × 3 columns</p>\n",
              "</div>"
            ],
            "text/plain": [
              "      Sample  Logs 1  Logs 2\n",
              "0         54       1       1\n",
              "1       1460       0       0\n",
              "2       1312       0       1\n",
              "3       1230       0       1\n",
              "4       3077       0       1\n",
              "...      ...     ...     ...\n",
              "1662    3281       1       1\n",
              "1663     824       0       1\n",
              "1664    3380       0       1\n",
              "1665    1311       8       1\n",
              "1666     487       1       1\n",
              "\n",
              "[1667 rows x 3 columns]"
            ]
          },
          "metadata": {},
          "execution_count": 144
        }
      ]
    },
    {
      "cell_type": "code",
      "metadata": {
        "id": "w9dYGZLJ_vgz",
        "colab": {
          "base_uri": "https://localhost:8080/"
        },
        "outputId": "7d75a710-ae31-43c7-c904-52f8f1ef01a9"
      },
      "source": [
        "test_df_v[\"Logs 2\"].unique()"
      ],
      "execution_count": null,
      "outputs": [
        {
          "output_type": "execute_result",
          "data": {
            "text/plain": [
              "array([1, 0, 2])"
            ]
          },
          "metadata": {},
          "execution_count": 145
        }
      ]
    },
    {
      "cell_type": "markdown",
      "metadata": {
        "id": "o_rpaOVeah-q"
      },
      "source": [
        "##Mengatur urutan dari kolom-kolom pada dataframe"
      ]
    },
    {
      "cell_type": "code",
      "metadata": {
        "id": "Wd5WRF23_xSZ",
        "colab": {
          "base_uri": "https://localhost:8080/",
          "height": 206
        },
        "outputId": "6142bbeb-953a-40ff-adf7-805622ab6a55"
      },
      "source": [
        "train_df_v = train_df_v[[\"Sample\", \"Logs 1\", \"Logs 2\", \"Class\"]]\n",
        "train_df_v.head()"
      ],
      "execution_count": null,
      "outputs": [
        {
          "output_type": "execute_result",
          "data": {
            "text/html": [
              "<div>\n",
              "<style scoped>\n",
              "    .dataframe tbody tr th:only-of-type {\n",
              "        vertical-align: middle;\n",
              "    }\n",
              "\n",
              "    .dataframe tbody tr th {\n",
              "        vertical-align: top;\n",
              "    }\n",
              "\n",
              "    .dataframe thead th {\n",
              "        text-align: right;\n",
              "    }\n",
              "</style>\n",
              "<table border=\"1\" class=\"dataframe\">\n",
              "  <thead>\n",
              "    <tr style=\"text-align: right;\">\n",
              "      <th></th>\n",
              "      <th>Sample</th>\n",
              "      <th>Logs 1</th>\n",
              "      <th>Logs 2</th>\n",
              "      <th>Class</th>\n",
              "    </tr>\n",
              "  </thead>\n",
              "  <tbody>\n",
              "    <tr>\n",
              "      <th>0</th>\n",
              "      <td>3533</td>\n",
              "      <td>0</td>\n",
              "      <td>1</td>\n",
              "      <td>2</td>\n",
              "    </tr>\n",
              "    <tr>\n",
              "      <th>1</th>\n",
              "      <td>1270</td>\n",
              "      <td>9</td>\n",
              "      <td>0</td>\n",
              "      <td>5</td>\n",
              "    </tr>\n",
              "    <tr>\n",
              "      <th>2</th>\n",
              "      <td>3270</td>\n",
              "      <td>8</td>\n",
              "      <td>0</td>\n",
              "      <td>1</td>\n",
              "    </tr>\n",
              "    <tr>\n",
              "      <th>3</th>\n",
              "      <td>1323</td>\n",
              "      <td>0</td>\n",
              "      <td>1</td>\n",
              "      <td>2</td>\n",
              "    </tr>\n",
              "    <tr>\n",
              "      <th>4</th>\n",
              "      <td>1064</td>\n",
              "      <td>0</td>\n",
              "      <td>1</td>\n",
              "      <td>2</td>\n",
              "    </tr>\n",
              "  </tbody>\n",
              "</table>\n",
              "</div>"
            ],
            "text/plain": [
              "   Sample  Logs 1  Logs 2  Class\n",
              "0    3533       0       1      2\n",
              "1    1270       9       0      5\n",
              "2    3270       8       0      1\n",
              "3    1323       0       1      2\n",
              "4    1064       0       1      2"
            ]
          },
          "metadata": {},
          "execution_count": 146
        }
      ]
    },
    {
      "cell_type": "code",
      "metadata": {
        "id": "kiP04fiI_zXQ",
        "colab": {
          "base_uri": "https://localhost:8080/",
          "height": 206
        },
        "outputId": "0b8d9c8f-d66e-493b-9f3d-6e3caf83ae99"
      },
      "source": [
        "test_df_v = test_df_v[[\"Sample\", \"Logs 1\", \"Logs 2\"]]\n",
        "test_df_v.head()"
      ],
      "execution_count": null,
      "outputs": [
        {
          "output_type": "execute_result",
          "data": {
            "text/html": [
              "<div>\n",
              "<style scoped>\n",
              "    .dataframe tbody tr th:only-of-type {\n",
              "        vertical-align: middle;\n",
              "    }\n",
              "\n",
              "    .dataframe tbody tr th {\n",
              "        vertical-align: top;\n",
              "    }\n",
              "\n",
              "    .dataframe thead th {\n",
              "        text-align: right;\n",
              "    }\n",
              "</style>\n",
              "<table border=\"1\" class=\"dataframe\">\n",
              "  <thead>\n",
              "    <tr style=\"text-align: right;\">\n",
              "      <th></th>\n",
              "      <th>Sample</th>\n",
              "      <th>Logs 1</th>\n",
              "      <th>Logs 2</th>\n",
              "    </tr>\n",
              "  </thead>\n",
              "  <tbody>\n",
              "    <tr>\n",
              "      <th>0</th>\n",
              "      <td>54</td>\n",
              "      <td>1</td>\n",
              "      <td>1</td>\n",
              "    </tr>\n",
              "    <tr>\n",
              "      <th>1</th>\n",
              "      <td>1460</td>\n",
              "      <td>0</td>\n",
              "      <td>0</td>\n",
              "    </tr>\n",
              "    <tr>\n",
              "      <th>2</th>\n",
              "      <td>1312</td>\n",
              "      <td>0</td>\n",
              "      <td>1</td>\n",
              "    </tr>\n",
              "    <tr>\n",
              "      <th>3</th>\n",
              "      <td>1230</td>\n",
              "      <td>0</td>\n",
              "      <td>1</td>\n",
              "    </tr>\n",
              "    <tr>\n",
              "      <th>4</th>\n",
              "      <td>3077</td>\n",
              "      <td>0</td>\n",
              "      <td>1</td>\n",
              "    </tr>\n",
              "  </tbody>\n",
              "</table>\n",
              "</div>"
            ],
            "text/plain": [
              "   Sample  Logs 1  Logs 2\n",
              "0      54       1       1\n",
              "1    1460       0       0\n",
              "2    1312       0       1\n",
              "3    1230       0       1\n",
              "4    3077       0       1"
            ]
          },
          "metadata": {},
          "execution_count": 147
        }
      ]
    },
    {
      "cell_type": "markdown",
      "metadata": {
        "id": "F6_l7JuSaozy"
      },
      "source": [
        "##Menginisialisasi X_train, Y_train, dan X_test untuk pengujian menggunakan beberapa model"
      ]
    },
    {
      "cell_type": "code",
      "metadata": {
        "id": "I9FVKQym_14r",
        "colab": {
          "base_uri": "https://localhost:8080/"
        },
        "outputId": "e76d2347-de5d-40e6-b273-ab54c4f696a6"
      },
      "source": [
        "X_train = train_df_v.drop([\"Sample\",\"Class\"], axis=1)\n",
        "Y_train = train_df_v[\"Class\"]\n",
        "X_test = test_df_v.drop([\"Sample\"], axis=1).copy()\n",
        "X_train.shape, Y_train.shape, X_test.shape"
      ],
      "execution_count": null,
      "outputs": [
        {
          "output_type": "execute_result",
          "data": {
            "text/plain": [
              "((2500, 2), (2500,), (1667, 2))"
            ]
          },
          "metadata": {},
          "execution_count": 148
        }
      ]
    },
    {
      "cell_type": "markdown",
      "metadata": {
        "id": "N5jAlpkfa8md"
      },
      "source": [
        "##Melakukan pengujian beberapa model"
      ]
    },
    {
      "cell_type": "markdown",
      "metadata": {
        "id": "upJ_PVkKdZoe"
      },
      "source": [
        "Untuk model yang kami uji terdapat beberapa model, di antaranya ada Logistic Regression, Support Vector Machine, K-Nearest Neighbours, Gaussian Naive Bayes, Perceptron, Linear SVC, Stochastic Gradient Descent, Decision Tree, Ridge, dan Random Forest"
      ]
    },
    {
      "cell_type": "code",
      "metadata": {
        "id": "7rHIofs2_3Zf",
        "colab": {
          "base_uri": "https://localhost:8080/"
        },
        "outputId": "8ce35290-0839-4d57-bed4-8c939e17264a"
      },
      "source": [
        "# Logistic Regression\n",
        "logreg = LogisticRegression()\n",
        "logreg.fit(X_train, Y_train)\n",
        "Y_pred = logreg.predict(X_test)\n",
        "acc_log = round(logreg.score(X_train, Y_train) * 100, 2)\n",
        "print(\"Accuracy for logistic regression: {}\".format(acc_log))"
      ],
      "execution_count": null,
      "outputs": [
        {
          "output_type": "stream",
          "name": "stdout",
          "text": [
            "Accuracy for logistic regression: 84.04\n"
          ]
        },
        {
          "output_type": "stream",
          "name": "stderr",
          "text": [
            "/usr/local/lib/python3.7/dist-packages/sklearn/linear_model/_logistic.py:940: ConvergenceWarning: lbfgs failed to converge (status=1):\n",
            "STOP: TOTAL NO. of ITERATIONS REACHED LIMIT.\n",
            "\n",
            "Increase the number of iterations (max_iter) or scale the data as shown in:\n",
            "    https://scikit-learn.org/stable/modules/preprocessing.html\n",
            "Please also refer to the documentation for alternative solver options:\n",
            "    https://scikit-learn.org/stable/modules/linear_model.html#logistic-regression\n",
            "  extra_warning_msg=_LOGISTIC_SOLVER_CONVERGENCE_MSG)\n"
          ]
        }
      ]
    },
    {
      "cell_type": "code",
      "metadata": {
        "id": "eD3Ja5C5_6kr",
        "colab": {
          "base_uri": "https://localhost:8080/"
        },
        "outputId": "e97a4057-97b6-4b16-8252-0b6e91f07318"
      },
      "source": [
        "# Support Vector Machines\n",
        "svc = SVC()\n",
        "svc.fit(X_train, Y_train)\n",
        "Y_pred = svc.predict(X_test)\n",
        "acc_svc = round(svc.score(X_train, Y_train) * 100, 2)\n",
        "print(\"Accuracy for Support Vector Machines (SVM): {}\".format(acc_svc))"
      ],
      "execution_count": null,
      "outputs": [
        {
          "output_type": "stream",
          "name": "stdout",
          "text": [
            "Accuracy for Support Vector Machines (SVM): 54.52\n"
          ]
        }
      ]
    },
    {
      "cell_type": "code",
      "metadata": {
        "id": "upr4SNfX_7LJ",
        "colab": {
          "base_uri": "https://localhost:8080/"
        },
        "outputId": "04342622-ea78-4db4-9189-ef69d24febf3"
      },
      "source": [
        "# K-Nearest Neighbours\n",
        "knn = KNeighborsClassifier(n_neighbors = 10)\n",
        "knn.fit(X_train, Y_train)\n",
        "Y_pred = knn.predict(X_test)\n",
        "acc_knn = round(knn.score(X_train, Y_train) * 100, 2)\n",
        "print(\"Accuracy for KNN : {}\".format(acc_knn))"
      ],
      "execution_count": null,
      "outputs": [
        {
          "output_type": "stream",
          "name": "stdout",
          "text": [
            "Accuracy for KNN : 94.0\n"
          ]
        }
      ]
    },
    {
      "cell_type": "code",
      "metadata": {
        "id": "NdE_picX_9BK",
        "colab": {
          "base_uri": "https://localhost:8080/"
        },
        "outputId": "39c28975-e198-45ee-95b5-fac7d07909c5"
      },
      "source": [
        "# Gaussian Naive Bayes\n",
        "gaussian = GaussianNB()\n",
        "gaussian.fit(X_train, Y_train)\n",
        "Y_pred = gaussian.predict(X_test)\n",
        "acc_gaussian = round(gaussian.score(X_train, Y_train) * 100, 2)\n",
        "print(\"Accuracy for Gaussian NB : {}\".format(acc_gaussian))"
      ],
      "execution_count": null,
      "outputs": [
        {
          "output_type": "stream",
          "name": "stdout",
          "text": [
            "Accuracy for Gaussian NB : 62.24\n"
          ]
        }
      ]
    },
    {
      "cell_type": "code",
      "metadata": {
        "id": "AAZcd_FyAADm",
        "colab": {
          "base_uri": "https://localhost:8080/"
        },
        "outputId": "09475615-c498-4437-f748-f1f2f7bb6e78"
      },
      "source": [
        "# Perceptron\n",
        "perceptron = Perceptron()\n",
        "perceptron.fit(X_train, Y_train)\n",
        "Y_pred = perceptron.predict(X_test)\n",
        "acc_perceptron = round(perceptron.score(X_train, Y_train) * 100, 2)\n",
        "print(\"Accuracy for Perceptron : {}\".format(acc_perceptron))"
      ],
      "execution_count": null,
      "outputs": [
        {
          "output_type": "stream",
          "name": "stdout",
          "text": [
            "Accuracy for Perceptron : 79.56\n"
          ]
        }
      ]
    },
    {
      "cell_type": "code",
      "metadata": {
        "id": "tzL71UJNAAix",
        "colab": {
          "base_uri": "https://localhost:8080/"
        },
        "outputId": "0a3aea5c-87c4-48a2-d819-4c46abe76768"
      },
      "source": [
        "# Linear SVC\n",
        "linear_svc = LinearSVC()\n",
        "linear_svc.fit(X_train, Y_train)\n",
        "Y_pred = linear_svc.predict(X_test)\n",
        "acc_linear_svc = round(linear_svc.score(X_train, Y_train) * 100, 2)\n",
        "print(\"Accuracy for Linear SVC : {}\".format(acc_linear_svc))"
      ],
      "execution_count": null,
      "outputs": [
        {
          "output_type": "stream",
          "name": "stdout",
          "text": [
            "Accuracy for Linear SVC : 85.8\n"
          ]
        },
        {
          "output_type": "stream",
          "name": "stderr",
          "text": [
            "/usr/local/lib/python3.7/dist-packages/sklearn/svm/_base.py:947: ConvergenceWarning: Liblinear failed to converge, increase the number of iterations.\n",
            "  \"the number of iterations.\", ConvergenceWarning)\n"
          ]
        }
      ]
    },
    {
      "cell_type": "code",
      "metadata": {
        "id": "MjaIET9gAB6v",
        "colab": {
          "base_uri": "https://localhost:8080/"
        },
        "outputId": "a99cb0a8-f3b0-495e-8142-3cbf20cf9d13"
      },
      "source": [
        "# Stochastic Gradient Descent\n",
        "sgd = SGDClassifier()\n",
        "sgd.fit(X_train, Y_train)\n",
        "Y_pred = sgd.predict(X_test)\n",
        "acc_sgd = round(sgd.score(X_train, Y_train) * 100, 2)\n",
        "print(\"Accuracy for SGD : {}\".format(acc_sgd))"
      ],
      "execution_count": null,
      "outputs": [
        {
          "output_type": "stream",
          "name": "stdout",
          "text": [
            "Accuracy for SGD : 79.56\n"
          ]
        }
      ]
    },
    {
      "cell_type": "code",
      "metadata": {
        "id": "04W05EyZADcI",
        "colab": {
          "base_uri": "https://localhost:8080/"
        },
        "outputId": "61ba85e9-fbd5-4c68-cbc3-952eb3d5063e"
      },
      "source": [
        "# Decision Tree\n",
        "decision_tree = DecisionTreeClassifier()\n",
        "decision_tree.fit(X_train, Y_train)\n",
        "Y_pred = decision_tree.predict(X_test)\n",
        "acc_decision_tree = round(decision_tree.score(X_train, Y_train) * 100, 2)\n",
        "print(\"Accuracy for Decision Tree : {}\".format(acc_decision_tree))"
      ],
      "execution_count": null,
      "outputs": [
        {
          "output_type": "stream",
          "name": "stdout",
          "text": [
            "Accuracy for Decision Tree : 94.36\n"
          ]
        }
      ]
    },
    {
      "cell_type": "code",
      "metadata": {
        "colab": {
          "base_uri": "https://localhost:8080/"
        },
        "id": "N_03tAUazbus",
        "outputId": "b563b1ef-4921-40b7-c1b6-9a76de7fa0e8"
      },
      "source": [
        "# Ridge\n",
        "ridge = RidgeClassifier()\n",
        "ridge.fit(X_train, Y_train)\n",
        "Y_pred = ridge.predict(X_test)\n",
        "acc_ridge = round(ridge.score(X_train, Y_train) * 100, 2)\n",
        "print(\"Accuracy for Ridge : {}\".format(acc_ridge))"
      ],
      "execution_count": null,
      "outputs": [
        {
          "output_type": "stream",
          "name": "stdout",
          "text": [
            "Accuracy for Ridge : 83.32\n"
          ]
        }
      ]
    },
    {
      "cell_type": "code",
      "metadata": {
        "id": "gGZYMuNrAFrB",
        "colab": {
          "base_uri": "https://localhost:8080/"
        },
        "outputId": "6fdac54f-7675-4836-c734-65c16f7c0cb6"
      },
      "source": [
        "# Random Forest\n",
        "random_forest = RandomForestClassifier(n_estimators=1000)\n",
        "random_forest.fit(X_train, Y_train)\n",
        "Y_pred = random_forest.predict(X_test)\n",
        "acc_random_forest = round(random_forest.score(X_train, Y_train) * 100, 2)\n",
        "print(\"Accuracy for Random Forest : {}\".format(acc_random_forest))"
      ],
      "execution_count": null,
      "outputs": [
        {
          "output_type": "stream",
          "name": "stdout",
          "text": [
            "Accuracy for Random Forest : 94.36\n"
          ]
        }
      ]
    },
    {
      "cell_type": "code",
      "metadata": {
        "id": "ra5TlvhxAHMl",
        "colab": {
          "base_uri": "https://localhost:8080/",
          "height": 363
        },
        "outputId": "e0c0b9e8-32ec-4573-d9f7-62f530851872"
      },
      "source": [
        "models = pd.DataFrame({\n",
        "    'Model': ['Support Vector Machines', 'KNN', 'Logistic Regression', \n",
        "              'Random Forest', 'Naive Bayes', 'Perceptron', \n",
        "              'Stochastic Gradient Decent', 'Linear SVC', \n",
        "              'Decision Tree', 'Ridge'],\n",
        "    'Score': [acc_svc, acc_knn, acc_log, \n",
        "              acc_random_forest, acc_gaussian, acc_perceptron, \n",
        "              acc_sgd, acc_linear_svc, acc_decision_tree, acc_ridge]})\n",
        "models.sort_values(by='Score', ascending=False)"
      ],
      "execution_count": null,
      "outputs": [
        {
          "output_type": "execute_result",
          "data": {
            "text/html": [
              "<div>\n",
              "<style scoped>\n",
              "    .dataframe tbody tr th:only-of-type {\n",
              "        vertical-align: middle;\n",
              "    }\n",
              "\n",
              "    .dataframe tbody tr th {\n",
              "        vertical-align: top;\n",
              "    }\n",
              "\n",
              "    .dataframe thead th {\n",
              "        text-align: right;\n",
              "    }\n",
              "</style>\n",
              "<table border=\"1\" class=\"dataframe\">\n",
              "  <thead>\n",
              "    <tr style=\"text-align: right;\">\n",
              "      <th></th>\n",
              "      <th>Model</th>\n",
              "      <th>Score</th>\n",
              "    </tr>\n",
              "  </thead>\n",
              "  <tbody>\n",
              "    <tr>\n",
              "      <th>3</th>\n",
              "      <td>Random Forest</td>\n",
              "      <td>94.36</td>\n",
              "    </tr>\n",
              "    <tr>\n",
              "      <th>8</th>\n",
              "      <td>Decision Tree</td>\n",
              "      <td>94.36</td>\n",
              "    </tr>\n",
              "    <tr>\n",
              "      <th>1</th>\n",
              "      <td>KNN</td>\n",
              "      <td>94.00</td>\n",
              "    </tr>\n",
              "    <tr>\n",
              "      <th>7</th>\n",
              "      <td>Linear SVC</td>\n",
              "      <td>85.80</td>\n",
              "    </tr>\n",
              "    <tr>\n",
              "      <th>2</th>\n",
              "      <td>Logistic Regression</td>\n",
              "      <td>84.04</td>\n",
              "    </tr>\n",
              "    <tr>\n",
              "      <th>9</th>\n",
              "      <td>Ridge</td>\n",
              "      <td>83.32</td>\n",
              "    </tr>\n",
              "    <tr>\n",
              "      <th>5</th>\n",
              "      <td>Perceptron</td>\n",
              "      <td>79.56</td>\n",
              "    </tr>\n",
              "    <tr>\n",
              "      <th>6</th>\n",
              "      <td>Stochastic Gradient Decent</td>\n",
              "      <td>79.56</td>\n",
              "    </tr>\n",
              "    <tr>\n",
              "      <th>4</th>\n",
              "      <td>Naive Bayes</td>\n",
              "      <td>62.24</td>\n",
              "    </tr>\n",
              "    <tr>\n",
              "      <th>0</th>\n",
              "      <td>Support Vector Machines</td>\n",
              "      <td>54.52</td>\n",
              "    </tr>\n",
              "  </tbody>\n",
              "</table>\n",
              "</div>"
            ],
            "text/plain": [
              "                        Model  Score\n",
              "3               Random Forest  94.36\n",
              "8               Decision Tree  94.36\n",
              "1                         KNN  94.00\n",
              "7                  Linear SVC  85.80\n",
              "2         Logistic Regression  84.04\n",
              "9                       Ridge  83.32\n",
              "5                  Perceptron  79.56\n",
              "6  Stochastic Gradient Decent  79.56\n",
              "4                 Naive Bayes  62.24\n",
              "0     Support Vector Machines  54.52"
            ]
          },
          "metadata": {},
          "execution_count": 159
        }
      ]
    },
    {
      "cell_type": "markdown",
      "metadata": {
        "id": "cLfCj4-qbQ7R"
      },
      "source": [
        "Karena kita lihat dari beberapa model tersebut memiliki score yang cukup baik, kita akan melakukan validasi lebih lanjut. Karena metrics yang nantinya digunakan adalah f1 score."
      ]
    },
    {
      "cell_type": "markdown",
      "metadata": {
        "id": "q20c-Ilgxsaj"
      },
      "source": [
        "##Menguji model dengan menggunakan data train yang displit"
      ]
    },
    {
      "cell_type": "code",
      "metadata": {
        "id": "-uzUKRn5YgYw"
      },
      "source": [
        "X = train_df[\"Logs\"]\n",
        "Y = train_df[\"Class\"]"
      ],
      "execution_count": null,
      "outputs": []
    },
    {
      "cell_type": "code",
      "metadata": {
        "colab": {
          "base_uri": "https://localhost:8080/",
          "height": 206
        },
        "id": "g0gDFMfsoiAE",
        "outputId": "726f33dc-0056-4c09-f8b6-b920f545c333"
      },
      "source": [
        "train_df.head()"
      ],
      "execution_count": null,
      "outputs": [
        {
          "output_type": "execute_result",
          "data": {
            "text/html": [
              "<div>\n",
              "<style scoped>\n",
              "    .dataframe tbody tr th:only-of-type {\n",
              "        vertical-align: middle;\n",
              "    }\n",
              "\n",
              "    .dataframe tbody tr th {\n",
              "        vertical-align: top;\n",
              "    }\n",
              "\n",
              "    .dataframe thead th {\n",
              "        text-align: right;\n",
              "    }\n",
              "</style>\n",
              "<table border=\"1\" class=\"dataframe\">\n",
              "  <thead>\n",
              "    <tr style=\"text-align: right;\">\n",
              "      <th></th>\n",
              "      <th>Sample</th>\n",
              "      <th>Class</th>\n",
              "      <th>Logs</th>\n",
              "    </tr>\n",
              "  </thead>\n",
              "  <tbody>\n",
              "    <tr>\n",
              "      <th>0</th>\n",
              "      <td>3533</td>\n",
              "      <td>2</td>\n",
              "      <td>execve ioctl ioctl prctl time getpid time getp...</td>\n",
              "    </tr>\n",
              "    <tr>\n",
              "      <th>1</th>\n",
              "      <td>1270</td>\n",
              "      <td>5</td>\n",
              "      <td>execve uname brk brk set_tls set_tid_address s...</td>\n",
              "    </tr>\n",
              "    <tr>\n",
              "      <th>2</th>\n",
              "      <td>3270</td>\n",
              "      <td>1</td>\n",
              "      <td>execve brk brk set_tls ioctl ioctl access gete...</td>\n",
              "    </tr>\n",
              "    <tr>\n",
              "      <th>3</th>\n",
              "      <td>1323</td>\n",
              "      <td>2</td>\n",
              "      <td>execve ioctl ioctl unlink time getpid getppid ...</td>\n",
              "    </tr>\n",
              "    <tr>\n",
              "      <th>4</th>\n",
              "      <td>1064</td>\n",
              "      <td>2</td>\n",
              "      <td>execve ioctl ioctl time getpid time getpid soc...</td>\n",
              "    </tr>\n",
              "  </tbody>\n",
              "</table>\n",
              "</div>"
            ],
            "text/plain": [
              "   Sample  Class                                               Logs\n",
              "0    3533      2  execve ioctl ioctl prctl time getpid time getp...\n",
              "1    1270      5  execve uname brk brk set_tls set_tid_address s...\n",
              "2    3270      1  execve brk brk set_tls ioctl ioctl access gete...\n",
              "3    1323      2  execve ioctl ioctl unlink time getpid getppid ...\n",
              "4    1064      2  execve ioctl ioctl time getpid time getpid soc..."
            ]
          },
          "metadata": {},
          "execution_count": 162
        }
      ]
    },
    {
      "cell_type": "code",
      "metadata": {
        "colab": {
          "base_uri": "https://localhost:8080/"
        },
        "id": "Lp4r-1EuYlOU",
        "outputId": "c4817777-943a-4846-b1ca-c4168a231223"
      },
      "source": [
        "x_train, x_test, y_train, y_test = train_test_split(X,Y, test_size=0.2, random_state=42)\n",
        "x_train.shape, y_train.shape, x_test.shape"
      ],
      "execution_count": null,
      "outputs": [
        {
          "output_type": "execute_result",
          "data": {
            "text/plain": [
              "((2000,), (2000,), (500,))"
            ]
          },
          "metadata": {},
          "execution_count": 163
        }
      ]
    },
    {
      "cell_type": "code",
      "metadata": {
        "colab": {
          "base_uri": "https://localhost:8080/"
        },
        "id": "X3ri_AUboS6L",
        "outputId": "1e8ae346-69a9-44c2-bf06-337940afb997"
      },
      "source": [
        "x_train.head()"
      ],
      "execution_count": null,
      "outputs": [
        {
          "output_type": "execute_result",
          "data": {
            "text/plain": [
              "2055    execve mmap cacheflush readlink cacheflush mma...\n",
              "1961    execve ioctl ioctl access geteuid32 prctl gett...\n",
              "1864    execve ioctl ioctl unlink time getpid getppid ...\n",
              "2326    execve brk brk set_tls ioctl ioctl access gete...\n",
              "461     execve mmap cacheflush readlink cacheflush mma...\n",
              "Name: Logs, dtype: object"
            ]
          },
          "metadata": {},
          "execution_count": 164
        }
      ]
    },
    {
      "cell_type": "code",
      "metadata": {
        "colab": {
          "base_uri": "https://localhost:8080/"
        },
        "id": "Kf7B8OjVupR6",
        "outputId": "7726b20a-66a4-4d0d-d4a5-c688e1b9ceb6"
      },
      "source": [
        "y_train.head()"
      ],
      "execution_count": null,
      "outputs": [
        {
          "output_type": "execute_result",
          "data": {
            "text/plain": [
              "2055    1\n",
              "1961    1\n",
              "1864    2\n",
              "2326    1\n",
              "461     1\n",
              "Name: Class, dtype: int64"
            ]
          },
          "metadata": {},
          "execution_count": 165
        }
      ]
    },
    {
      "cell_type": "code",
      "metadata": {
        "colab": {
          "base_uri": "https://localhost:8080/"
        },
        "id": "XG7EZ_5CuvQw",
        "outputId": "f5056a96-0c47-4918-f1df-e2a4e61c797b"
      },
      "source": [
        "x_test.head()"
      ],
      "execution_count": null,
      "outputs": [
        {
          "output_type": "execute_result",
          "data": {
            "text/plain": [
              "1447    execve ioctl ioctl time getpid time getpid soc...\n",
              "1114    execve mmap2 cacheflush cacheflush readlink ca...\n",
              "1064    execve brk brk set_tls ioctl ioctl gettimeofda...\n",
              "2287    execve ioctl ioctl time getpid time getpid for...\n",
              "1537    execve mmap cacheflush readlink cacheflush mma...\n",
              "Name: Logs, dtype: object"
            ]
          },
          "metadata": {},
          "execution_count": 166
        }
      ]
    },
    {
      "cell_type": "code",
      "metadata": {
        "colab": {
          "base_uri": "https://localhost:8080/"
        },
        "id": "EWBl_dEdu3TQ",
        "outputId": "3f581b2c-bbdf-4f72-a812-2a3f5433bb09"
      },
      "source": [
        "y_test.head()"
      ],
      "execution_count": null,
      "outputs": [
        {
          "output_type": "execute_result",
          "data": {
            "text/plain": [
              "1447    2\n",
              "1114    1\n",
              "1064    2\n",
              "2287    1\n",
              "1537    1\n",
              "Name: Class, dtype: int64"
            ]
          },
          "metadata": {},
          "execution_count": 167
        }
      ]
    },
    {
      "cell_type": "code",
      "metadata": {
        "colab": {
          "base_uri": "https://localhost:8080/"
        },
        "id": "tUSsluUBy9VQ",
        "outputId": "77ae35a0-1d51-4946-d6da-29cd736237cd"
      },
      "source": [
        "# Logistic Regression\n",
        "logreg = Pipeline([('vector', CountVectorizer()), ('tf-idf', TfidfTransformer()), ('classifier', LogisticRegression())])\n",
        "logreg.fit(x_train, y_train)\n",
        "predict = logreg.predict(x_test)\n",
        "acc_logreg = round(accuracy_score(y_test, predict)*100,2)\n",
        "f1_logreg = round(f1_score(y_test, predict, average=\"macro\")*100,2)\n",
        "print(\"Accuracy score: {}\".format(acc_logreg))\n",
        "print(\"F1 score      : {}\".format(f1_logreg))"
      ],
      "execution_count": null,
      "outputs": [
        {
          "output_type": "stream",
          "name": "stdout",
          "text": [
            "Accuracy score: 91.4\n",
            "F1 score      : 88.17\n"
          ]
        }
      ]
    },
    {
      "cell_type": "code",
      "metadata": {
        "colab": {
          "base_uri": "https://localhost:8080/"
        },
        "id": "4let1qrB048I",
        "outputId": "185d0c24-d96f-46f0-9383-76d18cdbeb58"
      },
      "source": [
        "# Support Vector Machines\n",
        "svc = Pipeline([('vector', CountVectorizer()), ('tf-idf', TfidfTransformer()), ('classifier', SVC())])\n",
        "svc.fit(x_train, y_train)\n",
        "predict = svc.predict(x_test)\n",
        "acc_svc = round(accuracy_score(y_test, predict)*100,2)\n",
        "f1_svc = round(f1_score(y_test, predict, average=\"macro\")*100,2)\n",
        "print(\"Accuracy score: {}\".format(acc_svc))\n",
        "print(\"F1 score      : {}\".format(f1_svc))"
      ],
      "execution_count": null,
      "outputs": [
        {
          "output_type": "stream",
          "name": "stdout",
          "text": [
            "Accuracy score: 92.0\n",
            "F1 score      : 92.33\n"
          ]
        }
      ]
    },
    {
      "cell_type": "code",
      "metadata": {
        "colab": {
          "base_uri": "https://localhost:8080/"
        },
        "id": "0vjcpXBd1Phy",
        "outputId": "c112b0e7-2ff1-4f4c-d22a-80326ff1c3f2"
      },
      "source": [
        "# K-Nearest Neighbours\n",
        "knn = Pipeline([('vector', CountVectorizer()), ('tf-idf', TfidfTransformer()), ('classifier', KNeighborsClassifier(n_neighbors = 10))])\n",
        "knn.fit(x_train, y_train)\n",
        "predict = knn.predict(x_test)\n",
        "acc_knn = round(accuracy_score(y_test, predict)*100,2)\n",
        "f1_knn = round(f1_score(y_test, predict, average=\"macro\")*100,2)\n",
        "print(\"Accuracy score: {}\".format(acc_knn))\n",
        "print(\"F1 score      : {}\".format(f1_knn))"
      ],
      "execution_count": null,
      "outputs": [
        {
          "output_type": "stream",
          "name": "stdout",
          "text": [
            "Accuracy score: 95.6\n",
            "F1 score      : 88.17\n"
          ]
        }
      ]
    },
    {
      "cell_type": "code",
      "metadata": {
        "colab": {
          "base_uri": "https://localhost:8080/"
        },
        "id": "WrYdrSYv2PRK",
        "outputId": "c73f3e2c-87bc-4df8-8b24-5dbae896c664"
      },
      "source": [
        "# Decision Tree\n",
        "decision_tree = Pipeline([('vector', CountVectorizer()), ('tf-idf', TfidfTransformer()), ('classifier', DecisionTreeClassifier())])\n",
        "decision_tree.fit(x_train, y_train)\n",
        "predict = decision_tree.predict(x_test)\n",
        "acc_decision_tree = round(accuracy_score(y_test, predict)*100,2)\n",
        "f1_decision_tree = round(f1_score(y_test, predict, average=\"macro\")*100,2)\n",
        "print(\"Accuracy score: {}\".format(acc_decision_tree))\n",
        "print(\"F1 score      : {}\".format(f1_decision_tree))"
      ],
      "execution_count": null,
      "outputs": [
        {
          "output_type": "stream",
          "name": "stdout",
          "text": [
            "Accuracy score: 96.6\n",
            "F1 score      : 95.66\n"
          ]
        }
      ]
    },
    {
      "cell_type": "code",
      "metadata": {
        "colab": {
          "base_uri": "https://localhost:8080/"
        },
        "id": "l7sT2B0Y3IsO",
        "outputId": "2cc782d7-14d2-4d53-e287-38ac9a203bbf"
      },
      "source": [
        "# Ridge\n",
        "ridge = Pipeline([('vector', CountVectorizer()), ('tf-idf', TfidfTransformer()), ('classifier', RidgeClassifier())])\n",
        "ridge.fit(x_train, y_train)\n",
        "predict = ridge.predict(x_test)\n",
        "acc_ridge = round(accuracy_score(y_test, predict)*100,2)\n",
        "f1_ridge = round(f1_score(y_test, predict, average=\"macro\")*100,2)\n",
        "print(\"Accuracy score: {}\".format(acc_ridge))\n",
        "print(\"F1 score      : {}\".format(f1_ridge))"
      ],
      "execution_count": null,
      "outputs": [
        {
          "output_type": "stream",
          "name": "stdout",
          "text": [
            "Accuracy score: 92.0\n",
            "F1 score      : 92.32\n"
          ]
        }
      ]
    },
    {
      "cell_type": "code",
      "metadata": {
        "colab": {
          "base_uri": "https://localhost:8080/"
        },
        "id": "dQqS8cIJvrWV",
        "outputId": "62b9b9d8-5a82-4e14-edba-553c2a225237"
      },
      "source": [
        "# Random Forest\n",
        "randomforest = Pipeline([('vector', CountVectorizer()), ('tf-idf', TfidfTransformer()), ('classifier', RandomForestClassifier())])\n",
        "randomforest.fit(x_train, y_train)\n",
        "predict = randomforest.predict(x_test)\n",
        "acc_randomforest = round(accuracy_score(y_test, predict)*100,2)\n",
        "f1_randomforest = round(f1_score(y_test, predict, average=\"macro\")*100,2)\n",
        "print(\"Accuracy score: {}\".format(acc_random_forest))\n",
        "print(\"F1 score      : {}\".format(f1_randomforest))"
      ],
      "execution_count": null,
      "outputs": [
        {
          "output_type": "stream",
          "name": "stdout",
          "text": [
            "Accuracy score: 94.36\n",
            "F1 score      : 97.62\n"
          ]
        }
      ]
    },
    {
      "cell_type": "code",
      "metadata": {
        "colab": {
          "base_uri": "https://localhost:8080/"
        },
        "id": "_KlbpBB2aAO_",
        "outputId": "49cf521e-7a15-4fd4-a98c-05d5fcf9e1f0"
      },
      "source": [
        "# Perceptron\n",
        "perceptron = Pipeline([('vector', CountVectorizer()), ('tf-idf', TfidfTransformer()), ('classifier', Perceptron())])\n",
        "perceptron.fit(x_train, y_train)\n",
        "predict = perceptron.predict(x_test)\n",
        "acc_perceptron = round(accuracy_score(y_test, predict)*100,2)\n",
        "f1_perceptron = round(f1_score(y_test, predict, average=\"macro\")*100,2)\n",
        "print(\"Accuracy score: {}\".format(acc_perceptron))\n",
        "print(\"F1 score      : {}\".format(f1_perceptron))"
      ],
      "execution_count": null,
      "outputs": [
        {
          "output_type": "stream",
          "name": "stdout",
          "text": [
            "Accuracy score: 92.0\n",
            "F1 score      : 92.4\n"
          ]
        }
      ]
    },
    {
      "cell_type": "code",
      "metadata": {
        "colab": {
          "base_uri": "https://localhost:8080/"
        },
        "id": "xc5xKmTqaKcv",
        "outputId": "63dd6613-647d-4559-bac8-3211b2a6cfdb"
      },
      "source": [
        "# Linear SVC\n",
        "lin_svc = Pipeline([('vector', CountVectorizer()), ('tf-idf', TfidfTransformer()), ('classifier', LinearSVC())])\n",
        "lin_svc.fit(x_train, y_train)\n",
        "predict = lin_svc.predict(x_test)\n",
        "acc_lin_svc = round(accuracy_score(y_test, predict)*100,2)\n",
        "f1_lin_svc = round(f1_score(y_test, predict, average=\"macro\")*100,2)\n",
        "print(\"Accuracy score: {}\".format(acc_lin_svc))\n",
        "print(\"F1 score      : {}\".format(f1_lin_svc))"
      ],
      "execution_count": null,
      "outputs": [
        {
          "output_type": "stream",
          "name": "stdout",
          "text": [
            "Accuracy score: 92.4\n",
            "F1 score      : 93.16\n"
          ]
        }
      ]
    },
    {
      "cell_type": "code",
      "metadata": {
        "colab": {
          "base_uri": "https://localhost:8080/"
        },
        "id": "-U9kKa_faSnv",
        "outputId": "40f2929f-989c-48b4-f4dd-86fa9997be39"
      },
      "source": [
        "# Stochastic Gradient Descent\n",
        "sgd = Pipeline([('vector', CountVectorizer()), ('tf-idf', TfidfTransformer()), ('classifier', SGDClassifier())])\n",
        "sgd.fit(x_train, y_train)\n",
        "predict = sgd.predict(x_test)\n",
        "acc_sgd = round(accuracy_score(y_test, predict)*100,2)\n",
        "f1_sgd = round(f1_score(y_test, predict, average=\"macro\")*100,2)\n",
        "print(\"Accuracy score: {}\".format(acc_sgd))\n",
        "print(\"F1 score      : {}\".format(f1_sgd))"
      ],
      "execution_count": null,
      "outputs": [
        {
          "output_type": "stream",
          "name": "stdout",
          "text": [
            "Accuracy score: 92.2\n",
            "F1 score      : 90.33\n"
          ]
        }
      ]
    },
    {
      "cell_type": "code",
      "metadata": {
        "colab": {
          "base_uri": "https://localhost:8080/",
          "height": 331
        },
        "id": "-y5UXa2oaciK",
        "outputId": "b6d5f5d1-cc32-4e67-d79e-d1d7d63c3441"
      },
      "source": [
        "acc_models = pd.DataFrame({\n",
        "    'Model': ['Support Vector Machines', 'KNN', 'Logistic Regression', \n",
        "              'Random Forest', 'Perceptron', \n",
        "              'Stochastic Gradient Decent', 'Linear SVC', \n",
        "              'Decision Tree', 'Ridge'],\n",
        "    'Accuracy': [acc_svc, acc_knn, acc_log, \n",
        "              acc_random_forest, acc_perceptron, \n",
        "              acc_sgd, acc_linear_svc, acc_decision_tree, acc_ridge],\n",
        "    'F1 Score': [f1_svc, f1_knn, f1_logreg, \n",
        "              f1_randomforest, f1_perceptron, \n",
        "              f1_sgd, f1_lin_svc, f1_decision_tree, f1_ridge]})\n",
        "acc_models.sort_values(by='Accuracy', ascending=False)\n",
        "acc_models.sort_values(by='F1 Score', ascending=False)"
      ],
      "execution_count": null,
      "outputs": [
        {
          "output_type": "execute_result",
          "data": {
            "text/html": [
              "<div>\n",
              "<style scoped>\n",
              "    .dataframe tbody tr th:only-of-type {\n",
              "        vertical-align: middle;\n",
              "    }\n",
              "\n",
              "    .dataframe tbody tr th {\n",
              "        vertical-align: top;\n",
              "    }\n",
              "\n",
              "    .dataframe thead th {\n",
              "        text-align: right;\n",
              "    }\n",
              "</style>\n",
              "<table border=\"1\" class=\"dataframe\">\n",
              "  <thead>\n",
              "    <tr style=\"text-align: right;\">\n",
              "      <th></th>\n",
              "      <th>Model</th>\n",
              "      <th>Accuracy</th>\n",
              "      <th>F1 Score</th>\n",
              "    </tr>\n",
              "  </thead>\n",
              "  <tbody>\n",
              "    <tr>\n",
              "      <th>3</th>\n",
              "      <td>Random Forest</td>\n",
              "      <td>94.36</td>\n",
              "      <td>97.62</td>\n",
              "    </tr>\n",
              "    <tr>\n",
              "      <th>7</th>\n",
              "      <td>Decision Tree</td>\n",
              "      <td>96.60</td>\n",
              "      <td>95.66</td>\n",
              "    </tr>\n",
              "    <tr>\n",
              "      <th>6</th>\n",
              "      <td>Linear SVC</td>\n",
              "      <td>85.80</td>\n",
              "      <td>93.16</td>\n",
              "    </tr>\n",
              "    <tr>\n",
              "      <th>4</th>\n",
              "      <td>Perceptron</td>\n",
              "      <td>92.00</td>\n",
              "      <td>92.40</td>\n",
              "    </tr>\n",
              "    <tr>\n",
              "      <th>0</th>\n",
              "      <td>Support Vector Machines</td>\n",
              "      <td>92.00</td>\n",
              "      <td>92.33</td>\n",
              "    </tr>\n",
              "    <tr>\n",
              "      <th>8</th>\n",
              "      <td>Ridge</td>\n",
              "      <td>92.00</td>\n",
              "      <td>92.32</td>\n",
              "    </tr>\n",
              "    <tr>\n",
              "      <th>5</th>\n",
              "      <td>Stochastic Gradient Decent</td>\n",
              "      <td>92.20</td>\n",
              "      <td>90.33</td>\n",
              "    </tr>\n",
              "    <tr>\n",
              "      <th>1</th>\n",
              "      <td>KNN</td>\n",
              "      <td>95.60</td>\n",
              "      <td>88.17</td>\n",
              "    </tr>\n",
              "    <tr>\n",
              "      <th>2</th>\n",
              "      <td>Logistic Regression</td>\n",
              "      <td>84.04</td>\n",
              "      <td>88.17</td>\n",
              "    </tr>\n",
              "  </tbody>\n",
              "</table>\n",
              "</div>"
            ],
            "text/plain": [
              "                        Model  Accuracy  F1 Score\n",
              "3               Random Forest     94.36     97.62\n",
              "7               Decision Tree     96.60     95.66\n",
              "6                  Linear SVC     85.80     93.16\n",
              "4                  Perceptron     92.00     92.40\n",
              "0     Support Vector Machines     92.00     92.33\n",
              "8                       Ridge     92.00     92.32\n",
              "5  Stochastic Gradient Decent     92.20     90.33\n",
              "1                         KNN     95.60     88.17\n",
              "2         Logistic Regression     84.04     88.17"
            ]
          },
          "metadata": {},
          "execution_count": 189
        }
      ]
    },
    {
      "cell_type": "markdown",
      "metadata": {
        "id": "AlH8G19ax2i_"
      },
      "source": [
        "Jika kita lihat dari tabel diatas, terlihat bahwa model Random Forrest memiliki nilai accuracy dan f1 score yang tinggi dengan skor 94.36 dan 97.62. Selanjutnya kita coba lihat prediksi dari data train yang telah displit sebelumnya"
      ]
    },
    {
      "cell_type": "code",
      "metadata": {
        "id": "XxpNmPNA_85D"
      },
      "source": [
        "# Random Forest\n",
        "random_forest = Pipeline([('vector', CountVectorizer()), ('tf-idf', TfidfTransformer()), ('classifier', RandomForestClassifier(n_estimators = 1000))])\n",
        "random_forest.fit(x_train, y_train)\n",
        "y_pred = random_forest.predict(x_test)"
      ],
      "execution_count": null,
      "outputs": []
    },
    {
      "cell_type": "code",
      "metadata": {
        "id": "x2R5tXdOc_Vr"
      },
      "source": [
        "y_df = pd.DataFrame({\n",
        "        \"Real\": y_test,\n",
        "        \"Prediction\": y_pred\n",
        "    })"
      ],
      "execution_count": null,
      "outputs": []
    },
    {
      "cell_type": "markdown",
      "metadata": {
        "id": "HfOg4tj-z4xx"
      },
      "source": [
        "Berikut merupakan merupakan sampel yang dapat kita lihat untuk membandingkan nilai asli dengan prediksi yang kita dapatkan."
      ]
    },
    {
      "cell_type": "code",
      "metadata": {
        "colab": {
          "base_uri": "https://localhost:8080/",
          "height": 676
        },
        "id": "1x8PZnVcdTAS",
        "outputId": "4ab8e508-0466-4081-e2a2-4070b1061fe6"
      },
      "source": [
        "y_df.sample(20)"
      ],
      "execution_count": null,
      "outputs": [
        {
          "output_type": "execute_result",
          "data": {
            "text/html": [
              "<div>\n",
              "<style scoped>\n",
              "    .dataframe tbody tr th:only-of-type {\n",
              "        vertical-align: middle;\n",
              "    }\n",
              "\n",
              "    .dataframe tbody tr th {\n",
              "        vertical-align: top;\n",
              "    }\n",
              "\n",
              "    .dataframe thead th {\n",
              "        text-align: right;\n",
              "    }\n",
              "</style>\n",
              "<table border=\"1\" class=\"dataframe\">\n",
              "  <thead>\n",
              "    <tr style=\"text-align: right;\">\n",
              "      <th></th>\n",
              "      <th>Real</th>\n",
              "      <th>Prediction</th>\n",
              "    </tr>\n",
              "  </thead>\n",
              "  <tbody>\n",
              "    <tr>\n",
              "      <th>620</th>\n",
              "      <td>2</td>\n",
              "      <td>2</td>\n",
              "    </tr>\n",
              "    <tr>\n",
              "      <th>544</th>\n",
              "      <td>2</td>\n",
              "      <td>2</td>\n",
              "    </tr>\n",
              "    <tr>\n",
              "      <th>1538</th>\n",
              "      <td>2</td>\n",
              "      <td>2</td>\n",
              "    </tr>\n",
              "    <tr>\n",
              "      <th>1023</th>\n",
              "      <td>2</td>\n",
              "      <td>2</td>\n",
              "    </tr>\n",
              "    <tr>\n",
              "      <th>1608</th>\n",
              "      <td>2</td>\n",
              "      <td>2</td>\n",
              "    </tr>\n",
              "    <tr>\n",
              "      <th>2187</th>\n",
              "      <td>1</td>\n",
              "      <td>1</td>\n",
              "    </tr>\n",
              "    <tr>\n",
              "      <th>2241</th>\n",
              "      <td>2</td>\n",
              "      <td>2</td>\n",
              "    </tr>\n",
              "    <tr>\n",
              "      <th>2093</th>\n",
              "      <td>2</td>\n",
              "      <td>2</td>\n",
              "    </tr>\n",
              "    <tr>\n",
              "      <th>2388</th>\n",
              "      <td>1</td>\n",
              "      <td>1</td>\n",
              "    </tr>\n",
              "    <tr>\n",
              "      <th>829</th>\n",
              "      <td>2</td>\n",
              "      <td>2</td>\n",
              "    </tr>\n",
              "    <tr>\n",
              "      <th>2045</th>\n",
              "      <td>2</td>\n",
              "      <td>2</td>\n",
              "    </tr>\n",
              "    <tr>\n",
              "      <th>486</th>\n",
              "      <td>5</td>\n",
              "      <td>5</td>\n",
              "    </tr>\n",
              "    <tr>\n",
              "      <th>43</th>\n",
              "      <td>1</td>\n",
              "      <td>1</td>\n",
              "    </tr>\n",
              "    <tr>\n",
              "      <th>29</th>\n",
              "      <td>2</td>\n",
              "      <td>2</td>\n",
              "    </tr>\n",
              "    <tr>\n",
              "      <th>1674</th>\n",
              "      <td>2</td>\n",
              "      <td>2</td>\n",
              "    </tr>\n",
              "    <tr>\n",
              "      <th>135</th>\n",
              "      <td>2</td>\n",
              "      <td>2</td>\n",
              "    </tr>\n",
              "    <tr>\n",
              "      <th>1337</th>\n",
              "      <td>2</td>\n",
              "      <td>2</td>\n",
              "    </tr>\n",
              "    <tr>\n",
              "      <th>764</th>\n",
              "      <td>1</td>\n",
              "      <td>1</td>\n",
              "    </tr>\n",
              "    <tr>\n",
              "      <th>1080</th>\n",
              "      <td>2</td>\n",
              "      <td>2</td>\n",
              "    </tr>\n",
              "    <tr>\n",
              "      <th>100</th>\n",
              "      <td>2</td>\n",
              "      <td>2</td>\n",
              "    </tr>\n",
              "  </tbody>\n",
              "</table>\n",
              "</div>"
            ],
            "text/plain": [
              "      Real  Prediction\n",
              "620      2           2\n",
              "544      2           2\n",
              "1538     2           2\n",
              "1023     2           2\n",
              "1608     2           2\n",
              "2187     1           1\n",
              "2241     2           2\n",
              "2093     2           2\n",
              "2388     1           1\n",
              "829      2           2\n",
              "2045     2           2\n",
              "486      5           5\n",
              "43       1           1\n",
              "29       2           2\n",
              "1674     2           2\n",
              "135      2           2\n",
              "1337     2           2\n",
              "764      1           1\n",
              "1080     2           2\n",
              "100      2           2"
            ]
          },
          "metadata": {},
          "execution_count": 193
        }
      ]
    },
    {
      "cell_type": "code",
      "metadata": {
        "colab": {
          "base_uri": "https://localhost:8080/",
          "height": 387
        },
        "id": "l01u-svLT2bX",
        "outputId": "72e92207-4d06-4c98-c054-54dc4a5a37c2"
      },
      "source": [
        "sns.catplot(x=\"Real\", kind=\"count\", data=y_df, palette=\"mako\")"
      ],
      "execution_count": null,
      "outputs": [
        {
          "output_type": "execute_result",
          "data": {
            "text/plain": [
              "<seaborn.axisgrid.FacetGrid at 0x7fee35671510>"
            ]
          },
          "metadata": {},
          "execution_count": 194
        },
        {
          "output_type": "display_data",
          "data": {
            "image/png": "[encoded data removed]",
            "text/plain": [
              "<Figure size 360x360 with 1 Axes>"
            ]
          },
          "metadata": {
            "needs_background": "light"
          }
        }
      ]
    },
    {
      "cell_type": "code",
      "metadata": {
        "colab": {
          "base_uri": "https://localhost:8080/",
          "height": 387
        },
        "id": "EVetfpUaVe2c",
        "outputId": "d8382d96-f70f-4384-c169-76504b4cf33c"
      },
      "source": [
        "sns.catplot(x=\"Prediction\", kind=\"count\", data=y_df, palette=\"mako\")"
      ],
      "execution_count": null,
      "outputs": [
        {
          "output_type": "execute_result",
          "data": {
            "text/plain": [
              "<seaborn.axisgrid.FacetGrid at 0x7fee361655d0>"
            ]
          },
          "metadata": {},
          "execution_count": 195
        },
        {
          "output_type": "display_data",
          "data": {
            "image/png": "[encoded data removed]",
            "text/plain": [
              "<Figure size 360x360 with 1 Axes>"
            ]
          },
          "metadata": {
            "needs_background": "light"
          }
        }
      ]
    },
    {
      "cell_type": "code",
      "metadata": {
        "colab": {
          "base_uri": "https://localhost:8080/",
          "height": 283
        },
        "id": "Hn0OHaSpXTSr",
        "outputId": "9b7f0eae-397b-4219-cf39-7199f0fe7d5b"
      },
      "source": [
        "sns.histplot(data=y_df)"
      ],
      "execution_count": null,
      "outputs": [
        {
          "output_type": "execute_result",
          "data": {
            "text/plain": [
              "<matplotlib.axes._subplots.AxesSubplot at 0x7fee357ab990>"
            ]
          },
          "metadata": {},
          "execution_count": 196
        },
        {
          "output_type": "display_data",
          "data": {
            "image/png": "[encoded data removed]",
            "text/plain": [
              "<Figure size 432x288 with 1 Axes>"
            ]
          },
          "metadata": {
            "needs_background": "light"
          }
        }
      ]
    },
    {
      "cell_type": "markdown",
      "metadata": {
        "id": "YG0L-zaKyl1j"
      },
      "source": [
        "Dari grafik di atas terlihat bahwa nilai prediksinya sudah cukup mendekati aslinya. Setelah ini kita akan gunakan model Random Forest tadi pada data test kita."
      ]
    },
    {
      "cell_type": "markdown",
      "metadata": {
        "id": "P6F0xbDLy7-y"
      },
      "source": [
        "##Menggunakan model terbaik tadi untuk memprediksi class dari tiap data test"
      ]
    },
    {
      "cell_type": "code",
      "metadata": {
        "id": "azMydFQCdmr8",
        "colab": {
          "base_uri": "https://localhost:8080/",
          "height": 206
        },
        "outputId": "68a7d543-f57e-4f19-da84-19bb769e531f"
      },
      "source": [
        "test_df.head()"
      ],
      "execution_count": null,
      "outputs": [
        {
          "output_type": "execute_result",
          "data": {
            "text/html": [
              "<div>\n",
              "<style scoped>\n",
              "    .dataframe tbody tr th:only-of-type {\n",
              "        vertical-align: middle;\n",
              "    }\n",
              "\n",
              "    .dataframe tbody tr th {\n",
              "        vertical-align: top;\n",
              "    }\n",
              "\n",
              "    .dataframe thead th {\n",
              "        text-align: right;\n",
              "    }\n",
              "</style>\n",
              "<table border=\"1\" class=\"dataframe\">\n",
              "  <thead>\n",
              "    <tr style=\"text-align: right;\">\n",
              "      <th></th>\n",
              "      <th>Sample</th>\n",
              "      <th>Logs</th>\n",
              "    </tr>\n",
              "  </thead>\n",
              "  <tbody>\n",
              "    <tr>\n",
              "      <th>0</th>\n",
              "      <td>54</td>\n",
              "      <td>execve mmap2 cacheflush cacheflush readlink ca...</td>\n",
              "    </tr>\n",
              "    <tr>\n",
              "      <th>1</th>\n",
              "      <td>1460</td>\n",
              "      <td>execve brk brk set_tls ioctl ioctl rt_sigprocm...</td>\n",
              "    </tr>\n",
              "    <tr>\n",
              "      <th>2</th>\n",
              "      <td>1312</td>\n",
              "      <td>execve ioctl ioctl time getpid time getpid soc...</td>\n",
              "    </tr>\n",
              "    <tr>\n",
              "      <th>3</th>\n",
              "      <td>1230</td>\n",
              "      <td>execve ioctl ioctl time getpid time getpid soc...</td>\n",
              "    </tr>\n",
              "    <tr>\n",
              "      <th>4</th>\n",
              "      <td>3077</td>\n",
              "      <td>execve brk brk set_tls ioctl ioctl gettimeofda...</td>\n",
              "    </tr>\n",
              "  </tbody>\n",
              "</table>\n",
              "</div>"
            ],
            "text/plain": [
              "   Sample                                               Logs\n",
              "0      54  execve mmap2 cacheflush cacheflush readlink ca...\n",
              "1    1460  execve brk brk set_tls ioctl ioctl rt_sigprocm...\n",
              "2    1312  execve ioctl ioctl time getpid time getpid soc...\n",
              "3    1230  execve ioctl ioctl time getpid time getpid soc...\n",
              "4    3077  execve brk brk set_tls ioctl ioctl gettimeofda..."
            ]
          },
          "metadata": {},
          "execution_count": 199
        }
      ]
    },
    {
      "cell_type": "code",
      "metadata": {
        "colab": {
          "base_uri": "https://localhost:8080/"
        },
        "id": "jZRtzTzvBZkt",
        "outputId": "7ab4ecd0-de45-4b10-982f-ad4f7a51c055"
      },
      "source": [
        "random_forest = Pipeline([('vector', CountVectorizer()), ('tf-idf', TfidfTransformer()), ('classifier', RandomForestClassifier(n_estimators = 1000))])\n",
        "random_forest.fit(x_train, y_train)\n",
        "Y_pred = random_forest.predict(test_df['Logs'])\n",
        "Y_pred"
      ],
      "execution_count": null,
      "outputs": [
        {
          "output_type": "execute_result",
          "data": {
            "text/plain": [
              "array([2, 1, 2, ..., 2, 3, 2])"
            ]
          },
          "metadata": {},
          "execution_count": 203
        }
      ]
    },
    {
      "cell_type": "code",
      "metadata": {
        "id": "HJZiuiHZeDSo",
        "colab": {
          "base_uri": "https://localhost:8080/",
          "height": 206
        },
        "outputId": "a20e1fcd-5f4d-4d4e-9d41-05fef09430a6"
      },
      "source": [
        "test_df['Class'] = Y_pred\n",
        "test_df.head()"
      ],
      "execution_count": null,
      "outputs": [
        {
          "output_type": "execute_result",
          "data": {
            "text/html": [
              "<div>\n",
              "<style scoped>\n",
              "    .dataframe tbody tr th:only-of-type {\n",
              "        vertical-align: middle;\n",
              "    }\n",
              "\n",
              "    .dataframe tbody tr th {\n",
              "        vertical-align: top;\n",
              "    }\n",
              "\n",
              "    .dataframe thead th {\n",
              "        text-align: right;\n",
              "    }\n",
              "</style>\n",
              "<table border=\"1\" class=\"dataframe\">\n",
              "  <thead>\n",
              "    <tr style=\"text-align: right;\">\n",
              "      <th></th>\n",
              "      <th>Sample</th>\n",
              "      <th>Logs</th>\n",
              "      <th>Class</th>\n",
              "    </tr>\n",
              "  </thead>\n",
              "  <tbody>\n",
              "    <tr>\n",
              "      <th>0</th>\n",
              "      <td>54</td>\n",
              "      <td>execve mmap2 cacheflush cacheflush readlink ca...</td>\n",
              "      <td>2</td>\n",
              "    </tr>\n",
              "    <tr>\n",
              "      <th>1</th>\n",
              "      <td>1460</td>\n",
              "      <td>execve brk brk set_tls ioctl ioctl rt_sigprocm...</td>\n",
              "      <td>1</td>\n",
              "    </tr>\n",
              "    <tr>\n",
              "      <th>2</th>\n",
              "      <td>1312</td>\n",
              "      <td>execve ioctl ioctl time getpid time getpid soc...</td>\n",
              "      <td>2</td>\n",
              "    </tr>\n",
              "    <tr>\n",
              "      <th>3</th>\n",
              "      <td>1230</td>\n",
              "      <td>execve ioctl ioctl time getpid time getpid soc...</td>\n",
              "      <td>1</td>\n",
              "    </tr>\n",
              "    <tr>\n",
              "      <th>4</th>\n",
              "      <td>3077</td>\n",
              "      <td>execve brk brk set_tls ioctl ioctl gettimeofda...</td>\n",
              "      <td>2</td>\n",
              "    </tr>\n",
              "  </tbody>\n",
              "</table>\n",
              "</div>"
            ],
            "text/plain": [
              "   Sample                                               Logs  Class\n",
              "0      54  execve mmap2 cacheflush cacheflush readlink ca...      2\n",
              "1    1460  execve brk brk set_tls ioctl ioctl rt_sigprocm...      1\n",
              "2    1312  execve ioctl ioctl time getpid time getpid soc...      2\n",
              "3    1230  execve ioctl ioctl time getpid time getpid soc...      1\n",
              "4    3077  execve brk brk set_tls ioctl ioctl gettimeofda...      2"
            ]
          },
          "metadata": {},
          "execution_count": 209
        }
      ]
    },
    {
      "cell_type": "code",
      "metadata": {
        "id": "CcsghIL1CvXM"
      },
      "source": [
        "submission = test_df.drop('Logs', axis=1)"
      ],
      "execution_count": null,
      "outputs": []
    },
    {
      "cell_type": "markdown",
      "metadata": {
        "id": "i9t7YEWGziA9"
      },
      "source": [
        "Berikut merupakan dataframe yang berisi Sample dari data test beserta prediksi Class-nya."
      ]
    },
    {
      "cell_type": "code",
      "metadata": {
        "colab": {
          "base_uri": "https://localhost:8080/",
          "height": 423
        },
        "id": "pqkjDdb3eXpe",
        "outputId": "504c6685-81c0-4059-e106-39a59faaaf5c"
      },
      "source": [
        "submission"
      ],
      "execution_count": null,
      "outputs": [
        {
          "output_type": "execute_result",
          "data": {
            "text/html": [
              "<div>\n",
              "<style scoped>\n",
              "    .dataframe tbody tr th:only-of-type {\n",
              "        vertical-align: middle;\n",
              "    }\n",
              "\n",
              "    .dataframe tbody tr th {\n",
              "        vertical-align: top;\n",
              "    }\n",
              "\n",
              "    .dataframe thead th {\n",
              "        text-align: right;\n",
              "    }\n",
              "</style>\n",
              "<table border=\"1\" class=\"dataframe\">\n",
              "  <thead>\n",
              "    <tr style=\"text-align: right;\">\n",
              "      <th></th>\n",
              "      <th>Sample</th>\n",
              "      <th>Class</th>\n",
              "    </tr>\n",
              "  </thead>\n",
              "  <tbody>\n",
              "    <tr>\n",
              "      <th>0</th>\n",
              "      <td>54</td>\n",
              "      <td>2</td>\n",
              "    </tr>\n",
              "    <tr>\n",
              "      <th>1</th>\n",
              "      <td>1460</td>\n",
              "      <td>1</td>\n",
              "    </tr>\n",
              "    <tr>\n",
              "      <th>2</th>\n",
              "      <td>1312</td>\n",
              "      <td>2</td>\n",
              "    </tr>\n",
              "    <tr>\n",
              "      <th>3</th>\n",
              "      <td>1230</td>\n",
              "      <td>1</td>\n",
              "    </tr>\n",
              "    <tr>\n",
              "      <th>4</th>\n",
              "      <td>3077</td>\n",
              "      <td>2</td>\n",
              "    </tr>\n",
              "    <tr>\n",
              "      <th>...</th>\n",
              "      <td>...</td>\n",
              "      <td>...</td>\n",
              "    </tr>\n",
              "    <tr>\n",
              "      <th>1662</th>\n",
              "      <td>3281</td>\n",
              "      <td>1</td>\n",
              "    </tr>\n",
              "    <tr>\n",
              "      <th>1663</th>\n",
              "      <td>824</td>\n",
              "      <td>2</td>\n",
              "    </tr>\n",
              "    <tr>\n",
              "      <th>1664</th>\n",
              "      <td>3380</td>\n",
              "      <td>2</td>\n",
              "    </tr>\n",
              "    <tr>\n",
              "      <th>1665</th>\n",
              "      <td>1311</td>\n",
              "      <td>3</td>\n",
              "    </tr>\n",
              "    <tr>\n",
              "      <th>1666</th>\n",
              "      <td>487</td>\n",
              "      <td>2</td>\n",
              "    </tr>\n",
              "  </tbody>\n",
              "</table>\n",
              "<p>1667 rows × 2 columns</p>\n",
              "</div>"
            ],
            "text/plain": [
              "      Sample  Class\n",
              "0         54      2\n",
              "1       1460      1\n",
              "2       1312      2\n",
              "3       1230      1\n",
              "4       3077      2\n",
              "...      ...    ...\n",
              "1662    3281      1\n",
              "1663     824      2\n",
              "1664    3380      2\n",
              "1665    1311      3\n",
              "1666     487      2\n",
              "\n",
              "[1667 rows x 2 columns]"
            ]
          },
          "metadata": {},
          "execution_count": 212
        }
      ]
    },
    {
      "cell_type": "code",
      "metadata": {
        "colab": {
          "base_uri": "https://localhost:8080/",
          "height": 423
        },
        "id": "t3D0k6-BmgXA",
        "outputId": "9eb42e02-6c3b-4258-fa29-62ff1c814219"
      },
      "source": [
        "labeled_df"
      ],
      "execution_count": null,
      "outputs": [
        {
          "output_type": "execute_result",
          "data": {
            "text/html": [
              "<div>\n",
              "<style scoped>\n",
              "    .dataframe tbody tr th:only-of-type {\n",
              "        vertical-align: middle;\n",
              "    }\n",
              "\n",
              "    .dataframe tbody tr th {\n",
              "        vertical-align: top;\n",
              "    }\n",
              "\n",
              "    .dataframe thead th {\n",
              "        text-align: right;\n",
              "    }\n",
              "</style>\n",
              "<table border=\"1\" class=\"dataframe\">\n",
              "  <thead>\n",
              "    <tr style=\"text-align: right;\">\n",
              "      <th></th>\n",
              "      <th>Sample</th>\n",
              "      <th>Class</th>\n",
              "    </tr>\n",
              "  </thead>\n",
              "  <tbody>\n",
              "    <tr>\n",
              "      <th>0</th>\n",
              "      <td>54</td>\n",
              "      <td>2</td>\n",
              "    </tr>\n",
              "    <tr>\n",
              "      <th>1</th>\n",
              "      <td>1460</td>\n",
              "      <td>1</td>\n",
              "    </tr>\n",
              "    <tr>\n",
              "      <th>2</th>\n",
              "      <td>1312</td>\n",
              "      <td>2</td>\n",
              "    </tr>\n",
              "    <tr>\n",
              "      <th>3</th>\n",
              "      <td>1230</td>\n",
              "      <td>1</td>\n",
              "    </tr>\n",
              "    <tr>\n",
              "      <th>4</th>\n",
              "      <td>3077</td>\n",
              "      <td>2</td>\n",
              "    </tr>\n",
              "    <tr>\n",
              "      <th>...</th>\n",
              "      <td>...</td>\n",
              "      <td>...</td>\n",
              "    </tr>\n",
              "    <tr>\n",
              "      <th>1662</th>\n",
              "      <td>3281</td>\n",
              "      <td>1</td>\n",
              "    </tr>\n",
              "    <tr>\n",
              "      <th>1663</th>\n",
              "      <td>824</td>\n",
              "      <td>2</td>\n",
              "    </tr>\n",
              "    <tr>\n",
              "      <th>1664</th>\n",
              "      <td>3380</td>\n",
              "      <td>2</td>\n",
              "    </tr>\n",
              "    <tr>\n",
              "      <th>1665</th>\n",
              "      <td>1311</td>\n",
              "      <td>3</td>\n",
              "    </tr>\n",
              "    <tr>\n",
              "      <th>1666</th>\n",
              "      <td>487</td>\n",
              "      <td>2</td>\n",
              "    </tr>\n",
              "  </tbody>\n",
              "</table>\n",
              "<p>1667 rows × 2 columns</p>\n",
              "</div>"
            ],
            "text/plain": [
              "      Sample  Class\n",
              "0         54      2\n",
              "1       1460      1\n",
              "2       1312      2\n",
              "3       1230      1\n",
              "4       3077      2\n",
              "...      ...    ...\n",
              "1662    3281      1\n",
              "1663     824      2\n",
              "1664    3380      2\n",
              "1665    1311      3\n",
              "1666     487      2\n",
              "\n",
              "[1667 rows x 2 columns]"
            ]
          },
          "metadata": {},
          "execution_count": 213
        }
      ]
    },
    {
      "cell_type": "code",
      "metadata": {
        "id": "7-ILBJaCmo3V",
        "colab": {
          "base_uri": "https://localhost:8080/"
        },
        "outputId": "677b4386-1a32-4f93-d7cb-e2c2b2c49ebf"
      },
      "source": [
        "f1_score_final = f1_score(labeled_df[\"Class\"],submission[\"Class\"], average=\"macro\")*100\n",
        "f1_score_final"
      ],
      "execution_count": null,
      "outputs": [
        {
          "output_type": "execute_result",
          "data": {
            "text/plain": [
              "98.53163956299845"
            ]
          },
          "metadata": {},
          "execution_count": 229
        }
      ]
    },
    {
      "cell_type": "code",
      "metadata": {
        "colab": {
          "base_uri": "https://localhost:8080/"
        },
        "id": "AcpVusgqs1Ay",
        "outputId": "2923a0b4-0b14-46a0-d4c2-3ad6b859b051"
      },
      "source": [
        "acc_score_final = accuracy_score(labeled_df[\"Class\"],submission[\"Class\"])*100\n",
        "acc_score_final"
      ],
      "execution_count": null,
      "outputs": [
        {
          "output_type": "execute_result",
          "data": {
            "text/plain": [
              "98.08038392321535"
            ]
          },
          "metadata": {},
          "execution_count": 230
        }
      ]
    },
    {
      "cell_type": "code",
      "metadata": {
        "id": "XGWavBDIT1FU"
      },
      "source": [
        "submission.to_csv('444033_444052_test.csv', index=False)"
      ],
      "execution_count": null,
      "outputs": []
    },
    {
      "cell_type": "markdown",
      "metadata": {
        "id": "omESfWrjzOvs"
      },
      "source": [
        "##Melihat sebaran data class yang ada pada data test"
      ]
    },
    {
      "cell_type": "code",
      "metadata": {
        "colab": {
          "base_uri": "https://localhost:8080/"
        },
        "id": "vf81No79OVRL",
        "outputId": "57dc927b-4af4-4c03-e539-9734f85731b6"
      },
      "source": [
        "submission.groupby('Class')[\"Sample\"].nunique()"
      ],
      "execution_count": null,
      "outputs": [
        {
          "output_type": "execute_result",
          "data": {
            "text/plain": [
              "Class\n",
              "1    614\n",
              "2    907\n",
              "3     14\n",
              "4     17\n",
              "5    115\n",
              "Name: Sample, dtype: int64"
            ]
          },
          "metadata": {},
          "execution_count": 232
        }
      ]
    },
    {
      "cell_type": "code",
      "metadata": {
        "colab": {
          "base_uri": "https://localhost:8080/"
        },
        "id": "IWsuZ0aZnp4U",
        "outputId": "39729f6c-da52-4eb4-8622-7394a305693c"
      },
      "source": [
        "labeled_df.groupby('Class')[\"Sample\"].nunique()"
      ],
      "execution_count": null,
      "outputs": [
        {
          "output_type": "execute_result",
          "data": {
            "text/plain": [
              "Class\n",
              "1    616\n",
              "2    906\n",
              "3     14\n",
              "4     16\n",
              "5    115\n",
              "Name: Sample, dtype: int64"
            ]
          },
          "metadata": {},
          "execution_count": 233
        }
      ]
    },
    {
      "cell_type": "code",
      "metadata": {
        "id": "B9uXAkNt1qiI"
      },
      "source": [
        "value = submission.groupby('Class')[\"Sample\"].nunique().tolist()\n",
        "class_x = submission[\"Class\"].value_counts().sort_index().index.tolist()"
      ],
      "execution_count": null,
      "outputs": []
    },
    {
      "cell_type": "code",
      "metadata": {
        "colab": {
          "base_uri": "https://localhost:8080/",
          "height": 383
        },
        "id": "gr5pKgf2Rq34",
        "outputId": "7ef37fbb-41c2-4a8d-c22b-5ecd7fc48434"
      },
      "source": [
        "def labels(x,y):\n",
        "    for i in range(len(x)):\n",
        "        plt.text(i+1, y[i]+10, y[i], ha = 'center')\n",
        "plt.figure(figsize=(5,5), dpi=80)\n",
        "plt.bar(class_x, value)\n",
        "labels(class_x, value)\n",
        "plt.title('Sebaran data pada data test')\n",
        "plt.xlabel('Class')\n",
        "plt.ylabel('Count')\n",
        "plt.show()"
      ],
      "execution_count": null,
      "outputs": [
        {
          "output_type": "display_data",
          "data": {
            "image/png": "[encoded data removed]",
            "text/plain": [
              "<Figure size 400x400 with 1 Axes>"
            ]
          },
          "metadata": {
            "needs_background": "light"
          }
        }
      ]
    },
    {
      "cell_type": "markdown",
      "metadata": {
        "id": "s2v0FHeazZqD"
      },
      "source": [
        "Terlihat bahwa Class 2 merupakan yang terbanyak dengan jumlah 907, sedangkan Class 3 merupakan yang paling sedikit dengan jumlah 14."
      ]
    }
  ]
}