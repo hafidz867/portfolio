{
  "cells": [
    {
      "cell_type": "markdown",
      "metadata": {},
      "source": [
        "**Plagiarism Check Using 4 Different Methods**\n",
        "\n",
        "Link presentasi: https://docs.google.com/presentation/d/1l6MTlqiD9N9g-US2nvAOBeGcrR7KSvbO/edit?usp=sharing&ouid=117482602845235651985&rtpof=true&sd=true"
      ]
    },
    {
      "cell_type": "code",
      "execution_count": null,
      "metadata": {
        "colab": {
          "base_uri": "https://localhost:8080/"
        },
        "id": "NJNNHGPP0QhB",
        "outputId": "bef3bcec-28a3-423f-b440-bea68fedbbd9"
      },
      "outputs": [
        {
          "name": "stdout",
          "output_type": "stream",
          "text": [
            "[nltk_data] Downloading package punkt to /root/nltk_data...\n",
            "[nltk_data]   Package punkt is already up-to-date!\n",
            "[nltk_data] Downloading package wordnet to /root/nltk_data...\n",
            "[nltk_data]   Package wordnet is already up-to-date!\n",
            "[nltk_data] Downloading package stopwords to /root/nltk_data...\n",
            "[nltk_data]   Package stopwords is already up-to-date!\n"
          ]
        }
      ],
      "source": [
        "import pandas as pd\n",
        "import numpy as np\n",
        "import os\n",
        "import re\n",
        "from nltk import word_tokenize\n",
        "import nltk\n",
        "from nltk.tokenize import sent_tokenize\n",
        "from nltk.corpus import stopwords\n",
        "from sklearn.feature_extraction.text import TfidfVectorizer\n",
        "from sklearn.metrics.pairwise import cosine_similarity\n",
        "nltk.download(['punkt', 'wordnet', 'stopwords'])\n",
        "from sklearn.metrics import f1_score, accuracy_score\n",
        "import matplotlib.pyplot as plt\n",
        "import seaborn as sns "
      ]
    },
    {
      "cell_type": "code",
      "execution_count": null,
      "metadata": {
        "id": "k91mhe1i4vlH"
      },
      "outputs": [],
      "source": [
        "def jaccard(original, sus):  \n",
        "  #word tokenisation\n",
        "  tokens_o=word_tokenize(original)\n",
        "  tokens_p=word_tokenize(sus)\n",
        "\n",
        "  #lowerCase\n",
        "  tokens_o = [token.lower() for token in tokens_o]\n",
        "  tokens_p = [token.lower() for token in tokens_p]\n",
        "\n",
        "  #stop word removal\n",
        "  #punctuation removal\n",
        "  stop_words=set(stopwords.words('indonesian'))\n",
        "  punctuations=['\"','.','(',')',',','?',';',':',\"''\",'``']\n",
        "  filtered_tokens_o = [w for w in tokens_o if not w in stop_words and not w in punctuations]\n",
        "  filtered_tokens_p = [w for w in tokens_p if not w in stop_words and not w in punctuations]\n",
        "\n",
        "  #Trigram Similiarity measures\n",
        "  trigrams_o=[]\n",
        "  for i in range(len(tokens_o)-2):\n",
        "      t=(tokens_o[i],tokens_o[i+1],tokens_o[i+2])\n",
        "      trigrams_o.append(t)\n",
        "\n",
        "  s=0\n",
        "  trigrams_p=[]\n",
        "  for i in range(len(tokens_p)-2):\n",
        "      t=(tokens_p[i],tokens_p[i+1],tokens_p[i+2])\n",
        "      trigrams_p.append(t)\n",
        "      if t in trigrams_o:\n",
        "          s+=1\n",
        "\n",
        "  #jaccord coefficient = (S(o)^S(p))/(S(o) U S(p))\n",
        "  J=s/(len(trigrams_o)+len(trigrams_p)) \n",
        "\n",
        "  #containment measure\n",
        "  C=s/len(trigrams_p)\n",
        "\n",
        "  return J"
      ]
    },
    {
      "cell_type": "code",
      "execution_count": null,
      "metadata": {
        "id": "y0tmDM8cTJ6n"
      },
      "outputs": [],
      "source": [
        "def containment(original, sus):  \n",
        "  #word tokenisation\n",
        "  tokens_o=word_tokenize(original)\n",
        "  tokens_p=word_tokenize(sus)\n",
        "\n",
        "  #lowerCase\n",
        "  tokens_o = [token.lower() for token in tokens_o]\n",
        "  tokens_p = [token.lower() for token in tokens_p]\n",
        "\n",
        "  #stop word removal\n",
        "  #punctuation removal\n",
        "  stop_words=set(stopwords.words('indonesian'))\n",
        "  punctuations=['\"','.','(',')',',','?',';',':',\"''\",'``']\n",
        "  filtered_tokens_o = [w for w in tokens_o if not w in stop_words and not w in punctuations]\n",
        "  filtered_tokens_p = [w for w in tokens_p if not w in stop_words and not w in punctuations]\n",
        "\n",
        "  #Trigram Similiarity measures\n",
        "  trigrams_o=[]\n",
        "  for i in range(len(tokens_o)-2):\n",
        "      t=(tokens_o[i],tokens_o[i+1],tokens_o[i+2])\n",
        "      trigrams_o.append(t)\n",
        "\n",
        "  s=0\n",
        "  trigrams_p=[]\n",
        "  for i in range(len(tokens_p)-2):\n",
        "      t=(tokens_p[i],tokens_p[i+1],tokens_p[i+2])\n",
        "      trigrams_p.append(t)\n",
        "      if t in trigrams_o:\n",
        "          s+=1\n",
        "\n",
        "  #jaccord coefficient = (S(o)^S(p))/(S(o) U S(p))\n",
        "  J=s/(len(trigrams_o)+len(trigrams_p)) \n",
        "\n",
        "  #containment measure\n",
        "  C=s/len(trigrams_p)\n",
        "\n",
        "  return C"
      ]
    },
    {
      "cell_type": "code",
      "execution_count": null,
      "metadata": {
        "id": "yu_l7AQh6N8h"
      },
      "outputs": [],
      "source": [
        "#longest common subsequence\n",
        "#dynamic programming algorithm for finding lcs\n",
        "def lcs(l1,l2):\n",
        "    s1=word_tokenize(l1)\n",
        "    s2=word_tokenize(l2)\n",
        "    # storing the dp values \n",
        "    dp = [[None]*(len(s1)+1) for i in range(len(s2)+1)] \n",
        "  \n",
        "    for i in range(len(s2)+1): \n",
        "        for j in range(len(s1)+1): \n",
        "            if i == 0 or j == 0: \n",
        "                dp[i][j] = 0\n",
        "            elif s2[i-1] == s1[j-1]: \n",
        "                dp[i][j] = dp[i-1][j-1]+1\n",
        "            else: \n",
        "                dp[i][j] = max(dp[i-1][j] , dp[i][j-1]) \n",
        "    return dp[len(s2)][len(s1)] "
      ]
    },
    {
      "cell_type": "code",
      "execution_count": null,
      "metadata": {
        "id": "0lYWPAaG6RRG"
      },
      "outputs": [],
      "source": [
        "def method3(original, sus):\n",
        "    #word tokenisation\n",
        "  tokens_o=word_tokenize(original)\n",
        "  tokens_p=word_tokenize(sus)\n",
        "\n",
        "  #lowerCase\n",
        "  tokens_o = [token.lower() for token in tokens_o]\n",
        "  tokens_p = [token.lower() for token in tokens_p]\n",
        "\n",
        "  #stop word removal\n",
        "  #punctuation removal\n",
        "  stop_words=set(stopwords.words('indonesian'))\n",
        "  punctuations=['\"','.','(',')',',','?',';',':',\"''\",'``']\n",
        "  filtered_tokens_o = [w for w in tokens_o if not w in stop_words and not w in punctuations]\n",
        "  filtered_tokens_p = [w for w in tokens_p if not w in stop_words and not w in punctuations]  \n",
        "  sent_o=sent_tokenize(original)\n",
        "  sent_p=sent_tokenize(sus)\n",
        "\n",
        "  #maximum length of LCS for a sentence in suspicious text\n",
        "  max_lcs=0\n",
        "  sum_lcs=0\n",
        "\n",
        "  for i in sent_p:\n",
        "      for j in sent_o:\n",
        "          l=lcs(i,j)\n",
        "          max_lcs=max(max_lcs,l)\n",
        "      sum_lcs+=max_lcs\n",
        "      max_lcs=0\n",
        "\n",
        "  score=sum_lcs/len(tokens_p)\n",
        "  return score"
      ]
    },
    {
      "cell_type": "code",
      "execution_count": null,
      "metadata": {
        "id": "hBzjdj256ki8"
      },
      "outputs": [],
      "source": [
        "student_files = [doc for doc in os.listdir() if doc.endswith('.txt')]\n",
        "student_notes = [open(_file, encoding = \"ISO-8859-1\").read()\n",
        "                 for _file in student_files]\n",
        "student_notes"
      ]
    },
    {
      "cell_type": "code",
      "execution_count": null,
      "metadata": {
        "id": "zEOrpvRi6oWN"
      },
      "outputs": [],
      "source": [
        "def vectorize(Text): \n",
        "  return TfidfVectorizer().fit_transform(Text).toarray()\n",
        "\n",
        "def similarity(doc1, doc2): \n",
        "  return cosine_similarity([doc1, doc2])"
      ]
    },
    {
      "cell_type": "code",
      "execution_count": null,
      "metadata": {
        "id": "a-AciKkg7SOB"
      },
      "outputs": [],
      "source": [
        "vectors = vectorize(student_notes2)\n",
        "s_vectors = list(zip(student_files2, vectors))\n",
        "plagiarism_results = set()"
      ]
    },
    {
      "cell_type": "code",
      "execution_count": null,
      "metadata": {
        "id": "CNDpRCJK7T3P"
      },
      "outputs": [],
      "source": [
        "def check_plagiarism():\n",
        "    global s_vectors\n",
        "    for student_a, text_vector_a in s_vectors:\n",
        "        new_vectors = s_vectors.copy()\n",
        "        current_index = new_vectors.index((student_a, text_vector_a))\n",
        "        del new_vectors[current_index]\n",
        "        for student_b, text_vector_b in new_vectors:\n",
        "            sim_score = similarity(text_vector_a, text_vector_b)[0][1]\n",
        "            student_pair = sorted((student_a, student_b))\n",
        "            score = (student_pair[0], student_pair[1], sim_score)\n",
        "            plagiarism_results.add(score)\n",
        "    return plagiarism_results"
      ]
    },
    {
      "cell_type": "code",
      "execution_count": null,
      "metadata": {
        "id": "3nRAkVJc7Vqj"
      },
      "outputs": [],
      "source": [
        "cosine_list = []\n",
        "for data in check_plagiarism():\n",
        "    cosine_list += [data]"
      ]
    },
    {
      "cell_type": "code",
      "execution_count": null,
      "metadata": {
        "id": "S-7BQiup4NDE"
      },
      "outputs": [],
      "source": [
        "!wget https://s3.amazonaws.com/video.udacity-data.com/topher/2019/January/5c4147f9_data/data.zip\n",
        "!unzip data "
      ]
    },
    {
      "cell_type": "code",
      "execution_count": null,
      "metadata": {
        "colab": {
          "base_uri": "https://localhost:8080/",
          "height": 206
        },
        "id": "3N3vV5WX4Ss0",
        "outputId": "f0dd2a72-a571-4733-c0cc-af3e39a95a68"
      },
      "outputs": [
        {
          "data": {
            "text/html": [
              "<div>\n",
              "<style scoped>\n",
              "    .dataframe tbody tr th:only-of-type {\n",
              "        vertical-align: middle;\n",
              "    }\n",
              "\n",
              "    .dataframe tbody tr th {\n",
              "        vertical-align: top;\n",
              "    }\n",
              "\n",
              "    .dataframe thead th {\n",
              "        text-align: right;\n",
              "    }\n",
              "</style>\n",
              "<table border=\"1\" class=\"dataframe\">\n",
              "  <thead>\n",
              "    <tr style=\"text-align: right;\">\n",
              "      <th></th>\n",
              "      <th>File</th>\n",
              "      <th>Task</th>\n",
              "      <th>Category</th>\n",
              "    </tr>\n",
              "  </thead>\n",
              "  <tbody>\n",
              "    <tr>\n",
              "      <th>0</th>\n",
              "      <td>g0pA_taska.txt</td>\n",
              "      <td>a</td>\n",
              "      <td>non</td>\n",
              "    </tr>\n",
              "    <tr>\n",
              "      <th>1</th>\n",
              "      <td>g0pA_taskb.txt</td>\n",
              "      <td>b</td>\n",
              "      <td>cut</td>\n",
              "    </tr>\n",
              "    <tr>\n",
              "      <th>2</th>\n",
              "      <td>g0pA_taskc.txt</td>\n",
              "      <td>c</td>\n",
              "      <td>light</td>\n",
              "    </tr>\n",
              "    <tr>\n",
              "      <th>3</th>\n",
              "      <td>g0pA_taskd.txt</td>\n",
              "      <td>d</td>\n",
              "      <td>heavy</td>\n",
              "    </tr>\n",
              "    <tr>\n",
              "      <th>4</th>\n",
              "      <td>g0pA_taske.txt</td>\n",
              "      <td>e</td>\n",
              "      <td>non</td>\n",
              "    </tr>\n",
              "  </tbody>\n",
              "</table>\n",
              "</div>"
            ],
            "text/plain": [
              "             File Task Category\n",
              "0  g0pA_taska.txt    a      non\n",
              "1  g0pA_taskb.txt    b      cut\n",
              "2  g0pA_taskc.txt    c    light\n",
              "3  g0pA_taskd.txt    d    heavy\n",
              "4  g0pA_taske.txt    e      non"
            ]
          },
          "execution_count": 3,
          "metadata": {},
          "output_type": "execute_result"
        }
      ],
      "source": [
        "csv_file = 'data/file_information.csv'\n",
        "plagiarism_df = pd.read_csv(csv_file)\n",
        "\n",
        "# print out the first few rows of data info\n",
        "plagiarism_df.head()"
      ]
    },
    {
      "cell_type": "code",
      "execution_count": null,
      "metadata": {
        "id": "L0qQdssi84MB"
      },
      "outputs": [],
      "source": [
        "test_df = plagiarism_df.copy()\n",
        "# test_df.drop(columns='Category')"
      ]
    },
    {
      "cell_type": "code",
      "execution_count": null,
      "metadata": {
        "id": "T8BSuiYD4cRE"
      },
      "outputs": [],
      "source": [
        "def create_text_column(df, file_directory='data/'):\n",
        "    # create copy to modify\n",
        "    text_df = df.copy()\n",
        "    \n",
        "    # store processed text\n",
        "    text = []\n",
        "    \n",
        "    # for each file (row) in the df, read in the file \n",
        "    for row_i in df.index:\n",
        "        filename = df.iloc[row_i]['File']\n",
        "        #print(filename)\n",
        "        file_path = file_directory + filename\n",
        "        with open(file_path, 'r', encoding='utf-8', errors='ignore') as file:\n",
        "\n",
        "            # standardize text using helper function\n",
        "            file_text = process_file(file)\n",
        "            # append processed text to list\n",
        "            text.append(file_text)\n",
        "    \n",
        "    # add column to the copied dataframe\n",
        "    text_df['Text'] = text\n",
        "    \n",
        "    return text_df\n",
        "# helper function for pre-processing text given a file\n",
        "def process_file(file):\n",
        "    # put text in all lower case letters \n",
        "    all_text = file.read().lower()\n",
        "\n",
        "    # remove all non-alphanumeric chars\n",
        "    all_text = re.sub(r\"[^a-zA-Z0-9]\", \" \", all_text)\n",
        "    # remove newlines/tabs, etc. so it's easier to match phrases, later\n",
        "    all_text = re.sub(r\"\\t\", \" \", all_text)\n",
        "    all_text = re.sub(r\"\\n\", \" \", all_text)\n",
        "    all_text = re.sub(\"  \", \" \", all_text)\n",
        "    all_text = re.sub(\"   \", \" \", all_text)\n",
        "    \n",
        "    return all_text"
      ]
    },
    {
      "cell_type": "code",
      "execution_count": null,
      "metadata": {
        "colab": {
          "base_uri": "https://localhost:8080/",
          "height": 206
        },
        "id": "Q1BSVe5U9p9B",
        "outputId": "48967538-c5be-4321-b6d6-ffb0c4689e93"
      },
      "outputs": [
        {
          "data": {
            "text/html": [
              "<div>\n",
              "<style scoped>\n",
              "    .dataframe tbody tr th:only-of-type {\n",
              "        vertical-align: middle;\n",
              "    }\n",
              "\n",
              "    .dataframe tbody tr th {\n",
              "        vertical-align: top;\n",
              "    }\n",
              "\n",
              "    .dataframe thead th {\n",
              "        text-align: right;\n",
              "    }\n",
              "</style>\n",
              "<table border=\"1\" class=\"dataframe\">\n",
              "  <thead>\n",
              "    <tr style=\"text-align: right;\">\n",
              "      <th></th>\n",
              "      <th>File</th>\n",
              "      <th>Task</th>\n",
              "      <th>Category</th>\n",
              "      <th>Text</th>\n",
              "    </tr>\n",
              "  </thead>\n",
              "  <tbody>\n",
              "    <tr>\n",
              "      <th>0</th>\n",
              "      <td>g0pA_taska.txt</td>\n",
              "      <td>a</td>\n",
              "      <td>non</td>\n",
              "      <td>inheritance is a basic concept of object orien...</td>\n",
              "    </tr>\n",
              "    <tr>\n",
              "      <th>1</th>\n",
              "      <td>g0pA_taskb.txt</td>\n",
              "      <td>b</td>\n",
              "      <td>cut</td>\n",
              "      <td>pagerank is a link analysis algorithm used by ...</td>\n",
              "    </tr>\n",
              "    <tr>\n",
              "      <th>2</th>\n",
              "      <td>g0pA_taskc.txt</td>\n",
              "      <td>c</td>\n",
              "      <td>light</td>\n",
              "      <td>the vector space model also called term vector...</td>\n",
              "    </tr>\n",
              "    <tr>\n",
              "      <th>3</th>\n",
              "      <td>g0pA_taskd.txt</td>\n",
              "      <td>d</td>\n",
              "      <td>heavy</td>\n",
              "      <td>bayes theorem was names after rev thomas bayes...</td>\n",
              "    </tr>\n",
              "    <tr>\n",
              "      <th>4</th>\n",
              "      <td>g0pA_taske.txt</td>\n",
              "      <td>e</td>\n",
              "      <td>non</td>\n",
              "      <td>dynamic programming is an algorithm design tec...</td>\n",
              "    </tr>\n",
              "  </tbody>\n",
              "</table>\n",
              "</div>"
            ],
            "text/plain": [
              "             File  ...                                               Text\n",
              "0  g0pA_taska.txt  ...  inheritance is a basic concept of object orien...\n",
              "1  g0pA_taskb.txt  ...  pagerank is a link analysis algorithm used by ...\n",
              "2  g0pA_taskc.txt  ...  the vector space model also called term vector...\n",
              "3  g0pA_taskd.txt  ...  bayes theorem was names after rev thomas bayes...\n",
              "4  g0pA_taske.txt  ...  dynamic programming is an algorithm design tec...\n",
              "\n",
              "[5 rows x 4 columns]"
            ]
          },
          "execution_count": 6,
          "metadata": {},
          "output_type": "execute_result"
        }
      ],
      "source": [
        "text_df = create_text_column(test_df)\n",
        "text_df.head()"
      ]
    },
    {
      "cell_type": "code",
      "execution_count": null,
      "metadata": {
        "id": "HkDU9FRnCueb"
      },
      "outputs": [],
      "source": [
        "masks = [text_df.File.str.contains('orig'),\n",
        "         text_df.File.str.contains('task')]\n",
        "\n",
        "values = [\n",
        "    'Original',\n",
        "    'Task'\n",
        "]\n",
        "\n",
        "text_df['Type'] = np.select(masks, values, default='Unknown')"
      ]
    },
    {
      "cell_type": "code",
      "execution_count": null,
      "metadata": {
        "id": "_s9V4o5nEpuK"
      },
      "outputs": [],
      "source": [
        "text_task = text_df[text_df['Type']=='Task']\n",
        "text_orig = text_df[text_df['Type']=='Original']"
      ]
    },
    {
      "cell_type": "code",
      "execution_count": null,
      "metadata": {
        "id": "9bTvBuvEGvs-"
      },
      "outputs": [],
      "source": [
        "student_files = text_df['File'].to_list()\n",
        "student_notes = text_df['Text'].to_list()"
      ]
    },
    {
      "cell_type": "code",
      "execution_count": null,
      "metadata": {
        "id": "7A-Zzs0OlfaA"
      },
      "outputs": [],
      "source": [
        "list_task = ['a','b','c','d','e']"
      ]
    },
    {
      "cell_type": "code",
      "execution_count": null,
      "metadata": {
        "colab": {
          "base_uri": "https://localhost:8080/"
        },
        "id": "_Wpl4rNii4dA",
        "outputId": "ab419be4-8c2d-4504-9da3-a7dcd4d0646f"
      },
      "outputs": [
        {
          "name": "stderr",
          "output_type": "stream",
          "text": [
            "/usr/local/lib/python3.7/dist-packages/ipykernel_launcher.py:1: SettingWithCopyWarning: \n",
            "A value is trying to be set on a copy of a slice from a DataFrame.\n",
            "Try using .loc[row_indexer,col_indexer] = value instead\n",
            "\n",
            "See the caveats in the documentation: https://pandas.pydata.org/pandas-docs/stable/user_guide/indexing.html#returning-a-view-versus-a-copy\n",
            "  \"\"\"Entry point for launching an IPython kernel.\n",
            "/usr/local/lib/python3.7/dist-packages/ipykernel_launcher.py:2: SettingWithCopyWarning: \n",
            "A value is trying to be set on a copy of a slice from a DataFrame.\n",
            "Try using .loc[row_indexer,col_indexer] = value instead\n",
            "\n",
            "See the caveats in the documentation: https://pandas.pydata.org/pandas-docs/stable/user_guide/indexing.html#returning-a-view-versus-a-copy\n",
            "  \n",
            "/usr/local/lib/python3.7/dist-packages/ipykernel_launcher.py:3: SettingWithCopyWarning: \n",
            "A value is trying to be set on a copy of a slice from a DataFrame.\n",
            "Try using .loc[row_indexer,col_indexer] = value instead\n",
            "\n",
            "See the caveats in the documentation: https://pandas.pydata.org/pandas-docs/stable/user_guide/indexing.html#returning-a-view-versus-a-copy\n",
            "  This is separate from the ipykernel package so we can avoid doing imports until\n"
          ]
        }
      ],
      "source": [
        "text_task['Jaccard'] = ''\n",
        "text_task['Containment'] = ''\n",
        "text_task['LCS'] = ''"
      ]
    },
    {
      "cell_type": "markdown",
      "metadata": {
        "id": "cfYDRNNY2rzL"
      },
      "source": [
        "Jaccard"
      ]
    },
    {
      "cell_type": "code",
      "execution_count": null,
      "metadata": {
        "colab": {
          "base_uri": "https://localhost:8080/"
        },
        "id": "n54OwwdNKFMF",
        "outputId": "744967e5-e8f1-4f0f-e207-856b591434bf"
      },
      "outputs": [
        {
          "name": "stderr",
          "output_type": "stream",
          "text": [
            "/usr/local/lib/python3.7/dist-packages/IPython/core/interactiveshell.py:2882: SettingWithCopyWarning: \n",
            "A value is trying to be set on a copy of a slice from a DataFrame\n",
            "\n",
            "See the caveats in the documentation: https://pandas.pydata.org/pandas-docs/stable/user_guide/indexing.html#returning-a-view-versus-a-copy\n",
            "  exec(code_obj, self.user_global_ns, self.user_ns)\n"
          ]
        }
      ],
      "source": [
        "for tipe in list_task:\n",
        "  for i in text_task[text_task['Task']==tipe].index:\n",
        "    text_task['Jaccard'][i] = jaccard(text_task['Text'][i], text_orig.loc[text_orig['Task']==tipe,\"Text\"].values[0])"
      ]
    },
    {
      "cell_type": "markdown",
      "metadata": {
        "id": "kTt9yvSP2ubK"
      },
      "source": [
        "Containment Measure"
      ]
    },
    {
      "cell_type": "code",
      "execution_count": null,
      "metadata": {
        "colab": {
          "base_uri": "https://localhost:8080/"
        },
        "id": "HGZoHZK2TRUS",
        "outputId": "df1f374f-af53-4f19-ac9f-d484e7ebaaee"
      },
      "outputs": [
        {
          "name": "stderr",
          "output_type": "stream",
          "text": [
            "/usr/local/lib/python3.7/dist-packages/IPython/core/interactiveshell.py:2882: SettingWithCopyWarning: \n",
            "A value is trying to be set on a copy of a slice from a DataFrame\n",
            "\n",
            "See the caveats in the documentation: https://pandas.pydata.org/pandas-docs/stable/user_guide/indexing.html#returning-a-view-versus-a-copy\n",
            "  exec(code_obj, self.user_global_ns, self.user_ns)\n"
          ]
        }
      ],
      "source": [
        "for tipe in list_task:\n",
        "  for i in text_task[text_task['Task']==tipe].index:\n",
        "    text_task['Containment'][i] = containment(text_task['Text'][i], text_orig.loc[text_orig['Task']==tipe,\"Text\"].values[0])"
      ]
    },
    {
      "cell_type": "markdown",
      "metadata": {
        "id": "pl0mpZEx2woA"
      },
      "source": [
        "Longest Common Subsequent"
      ]
    },
    {
      "cell_type": "code",
      "execution_count": null,
      "metadata": {
        "colab": {
          "base_uri": "https://localhost:8080/"
        },
        "id": "FXKWmKLJLvc0",
        "outputId": "fe26aa59-9064-4918-9b87-8a373006773b"
      },
      "outputs": [
        {
          "name": "stderr",
          "output_type": "stream",
          "text": [
            "/usr/local/lib/python3.7/dist-packages/IPython/core/interactiveshell.py:2882: SettingWithCopyWarning: \n",
            "A value is trying to be set on a copy of a slice from a DataFrame\n",
            "\n",
            "See the caveats in the documentation: https://pandas.pydata.org/pandas-docs/stable/user_guide/indexing.html#returning-a-view-versus-a-copy\n",
            "  exec(code_obj, self.user_global_ns, self.user_ns)\n"
          ]
        }
      ],
      "source": [
        "for tipe in list_task:  \n",
        "  for i in text_task[text_task['Task']==tipe].index:\n",
        "    text_task['LCS'][i] = method3(text_task['Text'][i], text_orig.loc[text_orig['Task']==tipe,\"Text\"].values[0])"
      ]
    },
    {
      "cell_type": "code",
      "execution_count": null,
      "metadata": {
        "colab": {
          "base_uri": "https://localhost:8080/",
          "height": 1000
        },
        "id": "Emk6qHCzS20_",
        "outputId": "f0dfe07c-1d9f-4274-971b-5d14cf8d25fb"
      },
      "outputs": [
        {
          "data": {
            "text/html": [
              "<div>\n",
              "<style scoped>\n",
              "    .dataframe tbody tr th:only-of-type {\n",
              "        vertical-align: middle;\n",
              "    }\n",
              "\n",
              "    .dataframe tbody tr th {\n",
              "        vertical-align: top;\n",
              "    }\n",
              "\n",
              "    .dataframe thead th {\n",
              "        text-align: right;\n",
              "    }\n",
              "</style>\n",
              "<table border=\"1\" class=\"dataframe\">\n",
              "  <thead>\n",
              "    <tr style=\"text-align: right;\">\n",
              "      <th></th>\n",
              "      <th>Category</th>\n",
              "      <th>Score</th>\n",
              "      <th>catcosine</th>\n",
              "    </tr>\n",
              "  </thead>\n",
              "  <tbody>\n",
              "    <tr>\n",
              "      <th>0</th>\n",
              "      <td>non</td>\n",
              "      <td>0.256141</td>\n",
              "      <td>non</td>\n",
              "    </tr>\n",
              "    <tr>\n",
              "      <th>4</th>\n",
              "      <td>non</td>\n",
              "      <td>0.358783</td>\n",
              "      <td>non</td>\n",
              "    </tr>\n",
              "    <tr>\n",
              "      <th>5</th>\n",
              "      <td>non</td>\n",
              "      <td>0.152534</td>\n",
              "      <td>non</td>\n",
              "    </tr>\n",
              "    <tr>\n",
              "      <th>6</th>\n",
              "      <td>non</td>\n",
              "      <td>0.526115</td>\n",
              "      <td>heavy</td>\n",
              "    </tr>\n",
              "    <tr>\n",
              "      <th>11</th>\n",
              "      <td>non</td>\n",
              "      <td>0.404121</td>\n",
              "      <td>non</td>\n",
              "    </tr>\n",
              "    <tr>\n",
              "      <th>12</th>\n",
              "      <td>non</td>\n",
              "      <td>0.410025</td>\n",
              "      <td>non</td>\n",
              "    </tr>\n",
              "    <tr>\n",
              "      <th>18</th>\n",
              "      <td>non</td>\n",
              "      <td>0.130347</td>\n",
              "      <td>non</td>\n",
              "    </tr>\n",
              "    <tr>\n",
              "      <th>19</th>\n",
              "      <td>non</td>\n",
              "      <td>0.209696</td>\n",
              "      <td>non</td>\n",
              "    </tr>\n",
              "    <tr>\n",
              "      <th>22</th>\n",
              "      <td>non</td>\n",
              "      <td>0.432511</td>\n",
              "      <td>non</td>\n",
              "    </tr>\n",
              "    <tr>\n",
              "      <th>23</th>\n",
              "      <td>non</td>\n",
              "      <td>0.195039</td>\n",
              "      <td>non</td>\n",
              "    </tr>\n",
              "    <tr>\n",
              "      <th>25</th>\n",
              "      <td>non</td>\n",
              "      <td>0.389026</td>\n",
              "      <td>non</td>\n",
              "    </tr>\n",
              "    <tr>\n",
              "      <th>29</th>\n",
              "      <td>non</td>\n",
              "      <td>0.345695</td>\n",
              "      <td>non</td>\n",
              "    </tr>\n",
              "    <tr>\n",
              "      <th>30</th>\n",
              "      <td>non</td>\n",
              "      <td>0.262416</td>\n",
              "      <td>non</td>\n",
              "    </tr>\n",
              "    <tr>\n",
              "      <th>31</th>\n",
              "      <td>non</td>\n",
              "      <td>0.490174</td>\n",
              "      <td>non</td>\n",
              "    </tr>\n",
              "    <tr>\n",
              "      <th>37</th>\n",
              "      <td>non</td>\n",
              "      <td>0.477455</td>\n",
              "      <td>non</td>\n",
              "    </tr>\n",
              "    <tr>\n",
              "      <th>38</th>\n",
              "      <td>non</td>\n",
              "      <td>0.376460</td>\n",
              "      <td>non</td>\n",
              "    </tr>\n",
              "    <tr>\n",
              "      <th>40</th>\n",
              "      <td>non</td>\n",
              "      <td>0.191391</td>\n",
              "      <td>non</td>\n",
              "    </tr>\n",
              "    <tr>\n",
              "      <th>44</th>\n",
              "      <td>non</td>\n",
              "      <td>0.472023</td>\n",
              "      <td>non</td>\n",
              "    </tr>\n",
              "    <tr>\n",
              "      <th>45</th>\n",
              "      <td>non</td>\n",
              "      <td>0.215289</td>\n",
              "      <td>non</td>\n",
              "    </tr>\n",
              "    <tr>\n",
              "      <th>46</th>\n",
              "      <td>non</td>\n",
              "      <td>0.500514</td>\n",
              "      <td>heavy</td>\n",
              "    </tr>\n",
              "    <tr>\n",
              "      <th>51</th>\n",
              "      <td>non</td>\n",
              "      <td>0.578580</td>\n",
              "      <td>heavy</td>\n",
              "    </tr>\n",
              "    <tr>\n",
              "      <th>52</th>\n",
              "      <td>non</td>\n",
              "      <td>0.557637</td>\n",
              "      <td>heavy</td>\n",
              "    </tr>\n",
              "    <tr>\n",
              "      <th>58</th>\n",
              "      <td>non</td>\n",
              "      <td>0.433563</td>\n",
              "      <td>non</td>\n",
              "    </tr>\n",
              "    <tr>\n",
              "      <th>59</th>\n",
              "      <td>non</td>\n",
              "      <td>0.444603</td>\n",
              "      <td>non</td>\n",
              "    </tr>\n",
              "    <tr>\n",
              "      <th>60</th>\n",
              "      <td>non</td>\n",
              "      <td>0.366356</td>\n",
              "      <td>non</td>\n",
              "    </tr>\n",
              "    <tr>\n",
              "      <th>64</th>\n",
              "      <td>non</td>\n",
              "      <td>0.389533</td>\n",
              "      <td>non</td>\n",
              "    </tr>\n",
              "    <tr>\n",
              "      <th>65</th>\n",
              "      <td>non</td>\n",
              "      <td>0.299634</td>\n",
              "      <td>non</td>\n",
              "    </tr>\n",
              "    <tr>\n",
              "      <th>66</th>\n",
              "      <td>non</td>\n",
              "      <td>0.529999</td>\n",
              "      <td>heavy</td>\n",
              "    </tr>\n",
              "    <tr>\n",
              "      <th>71</th>\n",
              "      <td>non</td>\n",
              "      <td>0.462806</td>\n",
              "      <td>non</td>\n",
              "    </tr>\n",
              "    <tr>\n",
              "      <th>72</th>\n",
              "      <td>non</td>\n",
              "      <td>0.291805</td>\n",
              "      <td>non</td>\n",
              "    </tr>\n",
              "    <tr>\n",
              "      <th>75</th>\n",
              "      <td>non</td>\n",
              "      <td>0.226183</td>\n",
              "      <td>non</td>\n",
              "    </tr>\n",
              "    <tr>\n",
              "      <th>76</th>\n",
              "      <td>non</td>\n",
              "      <td>0.360993</td>\n",
              "      <td>non</td>\n",
              "    </tr>\n",
              "    <tr>\n",
              "      <th>81</th>\n",
              "      <td>non</td>\n",
              "      <td>0.502402</td>\n",
              "      <td>heavy</td>\n",
              "    </tr>\n",
              "    <tr>\n",
              "      <th>82</th>\n",
              "      <td>non</td>\n",
              "      <td>0.302048</td>\n",
              "      <td>non</td>\n",
              "    </tr>\n",
              "    <tr>\n",
              "      <th>87</th>\n",
              "      <td>non</td>\n",
              "      <td>0.398160</td>\n",
              "      <td>non</td>\n",
              "    </tr>\n",
              "    <tr>\n",
              "      <th>88</th>\n",
              "      <td>non</td>\n",
              "      <td>0.456696</td>\n",
              "      <td>non</td>\n",
              "    </tr>\n",
              "    <tr>\n",
              "      <th>93</th>\n",
              "      <td>non</td>\n",
              "      <td>0.280435</td>\n",
              "      <td>non</td>\n",
              "    </tr>\n",
              "    <tr>\n",
              "      <th>94</th>\n",
              "      <td>non</td>\n",
              "      <td>0.326179</td>\n",
              "      <td>non</td>\n",
              "    </tr>\n",
              "  </tbody>\n",
              "</table>\n",
              "</div>"
            ],
            "text/plain": [
              "   Category     Score catcosine\n",
              "0       non  0.256141       non\n",
              "4       non  0.358783       non\n",
              "5       non  0.152534       non\n",
              "6       non  0.526115     heavy\n",
              "11      non  0.404121       non\n",
              "12      non  0.410025       non\n",
              "18      non  0.130347       non\n",
              "19      non  0.209696       non\n",
              "22      non  0.432511       non\n",
              "23      non  0.195039       non\n",
              "25      non  0.389026       non\n",
              "29      non  0.345695       non\n",
              "30      non  0.262416       non\n",
              "31      non  0.490174       non\n",
              "37      non  0.477455       non\n",
              "38      non  0.376460       non\n",
              "40      non  0.191391       non\n",
              "44      non  0.472023       non\n",
              "45      non  0.215289       non\n",
              "46      non  0.500514     heavy\n",
              "51      non  0.578580     heavy\n",
              "52      non  0.557637     heavy\n",
              "58      non  0.433563       non\n",
              "59      non  0.444603       non\n",
              "60      non  0.366356       non\n",
              "64      non  0.389533       non\n",
              "65      non  0.299634       non\n",
              "66      non  0.529999     heavy\n",
              "71      non  0.462806       non\n",
              "72      non  0.291805       non\n",
              "75      non  0.226183       non\n",
              "76      non  0.360993       non\n",
              "81      non  0.502402     heavy\n",
              "82      non  0.302048       non\n",
              "87      non  0.398160       non\n",
              "88      non  0.456696       non\n",
              "93      non  0.280435       non\n",
              "94      non  0.326179       non"
            ]
          },
          "execution_count": 98,
          "metadata": {},
          "output_type": "execute_result"
        }
      ],
      "source": [
        "final_test[final_test['Category']=='non'][['Category','Score','catcosine']]"
      ]
    },
    {
      "cell_type": "code",
      "execution_count": null,
      "metadata": {
        "colab": {
          "base_uri": "https://localhost:8080/",
          "height": 424
        },
        "id": "MtA7zWuwxeas",
        "outputId": "390180cc-6f1a-46dc-ee30-3d9b23cfc51d"
      },
      "outputs": [
        {
          "data": {
            "text/html": [
              "<div>\n",
              "<style scoped>\n",
              "    .dataframe tbody tr th:only-of-type {\n",
              "        vertical-align: middle;\n",
              "    }\n",
              "\n",
              "    .dataframe tbody tr th {\n",
              "        vertical-align: top;\n",
              "    }\n",
              "\n",
              "    .dataframe thead th {\n",
              "        text-align: right;\n",
              "    }\n",
              "</style>\n",
              "<table border=\"1\" class=\"dataframe\">\n",
              "  <thead>\n",
              "    <tr style=\"text-align: right;\">\n",
              "      <th></th>\n",
              "      <th>File</th>\n",
              "      <th>Task</th>\n",
              "      <th>Category</th>\n",
              "      <th>Text</th>\n",
              "      <th>Type</th>\n",
              "      <th>Jaccard</th>\n",
              "      <th>Containment</th>\n",
              "      <th>LCS</th>\n",
              "    </tr>\n",
              "  </thead>\n",
              "  <tbody>\n",
              "    <tr>\n",
              "      <th>0</th>\n",
              "      <td>g0pA_taska.txt</td>\n",
              "      <td>a</td>\n",
              "      <td>non</td>\n",
              "      <td>inheritance is a basic concept of object orien...</td>\n",
              "      <td>Task</td>\n",
              "      <td>0.00573614</td>\n",
              "      <td>0.00980392</td>\n",
              "      <td>0.136364</td>\n",
              "    </tr>\n",
              "    <tr>\n",
              "      <th>1</th>\n",
              "      <td>g0pA_taskb.txt</td>\n",
              "      <td>b</td>\n",
              "      <td>cut</td>\n",
              "      <td>pagerank is a link analysis algorithm used by ...</td>\n",
              "      <td>Task</td>\n",
              "      <td>0.279946</td>\n",
              "      <td>0.390244</td>\n",
              "      <td>0.325234</td>\n",
              "    </tr>\n",
              "    <tr>\n",
              "      <th>2</th>\n",
              "      <td>g0pA_taskc.txt</td>\n",
              "      <td>c</td>\n",
              "      <td>light</td>\n",
              "      <td>the vector space model also called term vector...</td>\n",
              "      <td>Task</td>\n",
              "      <td>0.302575</td>\n",
              "      <td>0.5875</td>\n",
              "      <td>0.797521</td>\n",
              "    </tr>\n",
              "    <tr>\n",
              "      <th>3</th>\n",
              "      <td>g0pA_taskd.txt</td>\n",
              "      <td>d</td>\n",
              "      <td>heavy</td>\n",
              "      <td>bayes theorem was names after rev thomas bayes...</td>\n",
              "      <td>Task</td>\n",
              "      <td>0.0686869</td>\n",
              "      <td>0.111842</td>\n",
              "      <td>0.199346</td>\n",
              "    </tr>\n",
              "    <tr>\n",
              "      <th>4</th>\n",
              "      <td>g0pA_taske.txt</td>\n",
              "      <td>e</td>\n",
              "      <td>non</td>\n",
              "      <td>dynamic programming is an algorithm design tec...</td>\n",
              "      <td>Task</td>\n",
              "      <td>0.00980392</td>\n",
              "      <td>0.0136187</td>\n",
              "      <td>0.0949612</td>\n",
              "    </tr>\n",
              "    <tr>\n",
              "      <th>...</th>\n",
              "      <td>...</td>\n",
              "      <td>...</td>\n",
              "      <td>...</td>\n",
              "      <td>...</td>\n",
              "      <td>...</td>\n",
              "      <td>...</td>\n",
              "      <td>...</td>\n",
              "      <td>...</td>\n",
              "    </tr>\n",
              "    <tr>\n",
              "      <th>90</th>\n",
              "      <td>g4pE_taska.txt</td>\n",
              "      <td>a</td>\n",
              "      <td>heavy</td>\n",
              "      <td>object oriented programming is a style of prog...</td>\n",
              "      <td>Task</td>\n",
              "      <td>0.0117647</td>\n",
              "      <td>0.0196078</td>\n",
              "      <td>0.162338</td>\n",
              "    </tr>\n",
              "    <tr>\n",
              "      <th>91</th>\n",
              "      <td>g4pE_taskb.txt</td>\n",
              "      <td>b</td>\n",
              "      <td>light</td>\n",
              "      <td>pagerankalgorithm is also known as link analys...</td>\n",
              "      <td>Task</td>\n",
              "      <td>0.258398</td>\n",
              "      <td>0.375235</td>\n",
              "      <td>0.381308</td>\n",
              "    </tr>\n",
              "    <tr>\n",
              "      <th>92</th>\n",
              "      <td>g4pE_taskc.txt</td>\n",
              "      <td>c</td>\n",
              "      <td>cut</td>\n",
              "      <td>the definition of term depends on the applicat...</td>\n",
              "      <td>Task</td>\n",
              "      <td>0.144444</td>\n",
              "      <td>0.270833</td>\n",
              "      <td>0.247934</td>\n",
              "    </tr>\n",
              "    <tr>\n",
              "      <th>93</th>\n",
              "      <td>g4pE_taskd.txt</td>\n",
              "      <td>d</td>\n",
              "      <td>non</td>\n",
              "      <td>bayes theorem or bayes rule  or something cal...</td>\n",
              "      <td>Task</td>\n",
              "      <td>0</td>\n",
              "      <td>0</td>\n",
              "      <td>0.107843</td>\n",
              "    </tr>\n",
              "    <tr>\n",
              "      <th>94</th>\n",
              "      <td>g4pE_taske.txt</td>\n",
              "      <td>e</td>\n",
              "      <td>non</td>\n",
              "      <td>dynamic programming is a method for efficient...</td>\n",
              "      <td>Task</td>\n",
              "      <td>0.0292553</td>\n",
              "      <td>0.0428016</td>\n",
              "      <td>0.114341</td>\n",
              "    </tr>\n",
              "  </tbody>\n",
              "</table>\n",
              "<p>95 rows × 8 columns</p>\n",
              "</div>"
            ],
            "text/plain": [
              "              File Task Category  ...     Jaccard Containment        LCS\n",
              "0   g0pA_taska.txt    a      non  ...  0.00573614  0.00980392   0.136364\n",
              "1   g0pA_taskb.txt    b      cut  ...    0.279946    0.390244   0.325234\n",
              "2   g0pA_taskc.txt    c    light  ...    0.302575      0.5875   0.797521\n",
              "3   g0pA_taskd.txt    d    heavy  ...   0.0686869    0.111842   0.199346\n",
              "4   g0pA_taske.txt    e      non  ...  0.00980392   0.0136187  0.0949612\n",
              "..             ...  ...      ...  ...         ...         ...        ...\n",
              "90  g4pE_taska.txt    a    heavy  ...   0.0117647   0.0196078   0.162338\n",
              "91  g4pE_taskb.txt    b    light  ...    0.258398    0.375235   0.381308\n",
              "92  g4pE_taskc.txt    c      cut  ...    0.144444    0.270833   0.247934\n",
              "93  g4pE_taskd.txt    d      non  ...           0           0   0.107843\n",
              "94  g4pE_taske.txt    e      non  ...   0.0292553   0.0428016   0.114341\n",
              "\n",
              "[95 rows x 8 columns]"
            ]
          },
          "execution_count": 55,
          "metadata": {},
          "output_type": "execute_result"
        }
      ],
      "source": [
        "text_task"
      ]
    },
    {
      "cell_type": "code",
      "execution_count": null,
      "metadata": {
        "id": "EdQubFAY7Kqa"
      },
      "outputs": [],
      "source": [
        "cosine_list"
      ]
    },
    {
      "cell_type": "code",
      "execution_count": null,
      "metadata": {
        "id": "nguRIh5P8GOC"
      },
      "outputs": [],
      "source": [
        "cosine = pd.DataFrame(cosine_list)"
      ]
    },
    {
      "cell_type": "code",
      "execution_count": null,
      "metadata": {
        "colab": {
          "base_uri": "https://localhost:8080/",
          "height": 424
        },
        "id": "ZrT57e3L81eT",
        "outputId": "b9c2311b-768a-437b-fbe6-eb8bd48c46fe"
      },
      "outputs": [
        {
          "data": {
            "text/html": [
              "<div>\n",
              "<style scoped>\n",
              "    .dataframe tbody tr th:only-of-type {\n",
              "        vertical-align: middle;\n",
              "    }\n",
              "\n",
              "    .dataframe tbody tr th {\n",
              "        vertical-align: top;\n",
              "    }\n",
              "\n",
              "    .dataframe thead th {\n",
              "        text-align: right;\n",
              "    }\n",
              "</style>\n",
              "<table border=\"1\" class=\"dataframe\">\n",
              "  <thead>\n",
              "    <tr style=\"text-align: right;\">\n",
              "      <th></th>\n",
              "      <th>0</th>\n",
              "      <th>1</th>\n",
              "      <th>2</th>\n",
              "    </tr>\n",
              "  </thead>\n",
              "  <tbody>\n",
              "    <tr>\n",
              "      <th>0</th>\n",
              "      <td>g0pA_taske.txt</td>\n",
              "      <td>g3pA_taskb.txt</td>\n",
              "      <td>0.121288</td>\n",
              "    </tr>\n",
              "    <tr>\n",
              "      <th>1</th>\n",
              "      <td>g2pC_taske.txt</td>\n",
              "      <td>g3pC_taske.txt</td>\n",
              "      <td>0.403278</td>\n",
              "    </tr>\n",
              "    <tr>\n",
              "      <th>2</th>\n",
              "      <td>g0pA_taska.txt</td>\n",
              "      <td>g4pB_taskd.txt</td>\n",
              "      <td>0.112165</td>\n",
              "    </tr>\n",
              "    <tr>\n",
              "      <th>3</th>\n",
              "      <td>g1pA_taskd.txt</td>\n",
              "      <td>g1pD_taskc.txt</td>\n",
              "      <td>0.189596</td>\n",
              "    </tr>\n",
              "    <tr>\n",
              "      <th>4</th>\n",
              "      <td>g3pC_taskc.txt</td>\n",
              "      <td>g4pD_taska.txt</td>\n",
              "      <td>0.155305</td>\n",
              "    </tr>\n",
              "    <tr>\n",
              "      <th>...</th>\n",
              "      <td>...</td>\n",
              "      <td>...</td>\n",
              "      <td>...</td>\n",
              "    </tr>\n",
              "    <tr>\n",
              "      <th>4945</th>\n",
              "      <td>g1pD_taske.txt</td>\n",
              "      <td>g3pA_taskc.txt</td>\n",
              "      <td>0.208065</td>\n",
              "    </tr>\n",
              "    <tr>\n",
              "      <th>4946</th>\n",
              "      <td>g1pA_taske.txt</td>\n",
              "      <td>g4pE_taskd.txt</td>\n",
              "      <td>0.146232</td>\n",
              "    </tr>\n",
              "    <tr>\n",
              "      <th>4947</th>\n",
              "      <td>g2pC_taske.txt</td>\n",
              "      <td>orig_taska.txt</td>\n",
              "      <td>0.186809</td>\n",
              "    </tr>\n",
              "    <tr>\n",
              "      <th>4948</th>\n",
              "      <td>g0pD_taskc.txt</td>\n",
              "      <td>g3pB_taske.txt</td>\n",
              "      <td>0.213105</td>\n",
              "    </tr>\n",
              "    <tr>\n",
              "      <th>4949</th>\n",
              "      <td>g2pA_taskd.txt</td>\n",
              "      <td>g3pC_taske.txt</td>\n",
              "      <td>0.146707</td>\n",
              "    </tr>\n",
              "  </tbody>\n",
              "</table>\n",
              "<p>4950 rows × 3 columns</p>\n",
              "</div>"
            ],
            "text/plain": [
              "                   0               1         2\n",
              "0     g0pA_taske.txt  g3pA_taskb.txt  0.121288\n",
              "1     g2pC_taske.txt  g3pC_taske.txt  0.403278\n",
              "2     g0pA_taska.txt  g4pB_taskd.txt  0.112165\n",
              "3     g1pA_taskd.txt  g1pD_taskc.txt  0.189596\n",
              "4     g3pC_taskc.txt  g4pD_taska.txt  0.155305\n",
              "...              ...             ...       ...\n",
              "4945  g1pD_taske.txt  g3pA_taskc.txt  0.208065\n",
              "4946  g1pA_taske.txt  g4pE_taskd.txt  0.146232\n",
              "4947  g2pC_taske.txt  orig_taska.txt  0.186809\n",
              "4948  g0pD_taskc.txt  g3pB_taske.txt  0.213105\n",
              "4949  g2pA_taskd.txt  g3pC_taske.txt  0.146707\n",
              "\n",
              "[4950 rows x 3 columns]"
            ]
          },
          "execution_count": 70,
          "metadata": {},
          "output_type": "execute_result"
        }
      ],
      "source": [
        "cosine"
      ]
    },
    {
      "cell_type": "code",
      "execution_count": null,
      "metadata": {
        "id": "WS4O6J9S82ZB"
      },
      "outputs": [],
      "source": [
        "cosine = cosine.rename(columns={0: 'File', 1: 'Original', 2: 'Score'})"
      ]
    },
    {
      "cell_type": "code",
      "execution_count": null,
      "metadata": {
        "id": "3Z02WnEoBNWh"
      },
      "outputs": [],
      "source": [
        "cosine = cosine[cosine['Original'].str.contains('orig')]"
      ]
    },
    {
      "cell_type": "code",
      "execution_count": null,
      "metadata": {
        "id": "hyZHGKek9gF_"
      },
      "outputs": [],
      "source": [
        "finala = cosine[cosine['File'].str.contains('taska') & cosine['Original'].str.contains('taska')].sort_values(by=['File'])\n",
        "finalb = cosine[cosine['File'].str.contains('taskb') & cosine['Original'].str.contains('taskb')].sort_values(by=['File'])\n",
        "finalc = cosine[cosine['File'].str.contains('taskc') & cosine['Original'].str.contains('taskc')].sort_values(by=['File'])\n",
        "finald = cosine[cosine['File'].str.contains('taskd') & cosine['Original'].str.contains('taskd')].sort_values(by=['File'])\n",
        "finale = cosine[cosine['File'].str.contains('taske') & cosine['Original'].str.contains('taske')].sort_values(by=['File'])\n",
        "\n",
        "final_banget = finala.append(finalb.append(finalc.append(finald.append(finale))))\n",
        "final_banget.reset_index(inplace=True)"
      ]
    },
    {
      "cell_type": "code",
      "execution_count": null,
      "metadata": {
        "id": "ZekBfQRV-XnK"
      },
      "outputs": [],
      "source": [
        "final = final_banget.drop(columns=['index','Original'])"
      ]
    },
    {
      "cell_type": "code",
      "execution_count": null,
      "metadata": {
        "colab": {
          "base_uri": "https://localhost:8080/",
          "height": 424
        },
        "id": "1ZiR9Kf7-aC-",
        "outputId": "4a93c136-e195-4b07-fe28-533bd7d0ceb9"
      },
      "outputs": [
        {
          "data": {
            "text/html": [
              "<div>\n",
              "<style scoped>\n",
              "    .dataframe tbody tr th:only-of-type {\n",
              "        vertical-align: middle;\n",
              "    }\n",
              "\n",
              "    .dataframe tbody tr th {\n",
              "        vertical-align: top;\n",
              "    }\n",
              "\n",
              "    .dataframe thead th {\n",
              "        text-align: right;\n",
              "    }\n",
              "</style>\n",
              "<table border=\"1\" class=\"dataframe\">\n",
              "  <thead>\n",
              "    <tr style=\"text-align: right;\">\n",
              "      <th></th>\n",
              "      <th>File</th>\n",
              "      <th>Score</th>\n",
              "    </tr>\n",
              "  </thead>\n",
              "  <tbody>\n",
              "    <tr>\n",
              "      <th>0</th>\n",
              "      <td>g0pA_taska.txt</td>\n",
              "      <td>0.256211</td>\n",
              "    </tr>\n",
              "    <tr>\n",
              "      <th>1</th>\n",
              "      <td>g0pB_taska.txt</td>\n",
              "      <td>0.150787</td>\n",
              "    </tr>\n",
              "    <tr>\n",
              "      <th>2</th>\n",
              "      <td>g0pC_taska.txt</td>\n",
              "      <td>0.530590</td>\n",
              "    </tr>\n",
              "    <tr>\n",
              "      <th>3</th>\n",
              "      <td>g0pD_taska.txt</td>\n",
              "      <td>0.834475</td>\n",
              "    </tr>\n",
              "    <tr>\n",
              "      <th>4</th>\n",
              "      <td>g0pE_taska.txt</td>\n",
              "      <td>0.968667</td>\n",
              "    </tr>\n",
              "    <tr>\n",
              "      <th>...</th>\n",
              "      <td>...</td>\n",
              "      <td>...</td>\n",
              "    </tr>\n",
              "    <tr>\n",
              "      <th>90</th>\n",
              "      <td>g3pC_taske.txt</td>\n",
              "      <td>0.476018</td>\n",
              "    </tr>\n",
              "    <tr>\n",
              "      <th>91</th>\n",
              "      <td>g4pB_taske.txt</td>\n",
              "      <td>0.893088</td>\n",
              "    </tr>\n",
              "    <tr>\n",
              "      <th>92</th>\n",
              "      <td>g4pC_taske.txt</td>\n",
              "      <td>0.742989</td>\n",
              "    </tr>\n",
              "    <tr>\n",
              "      <th>93</th>\n",
              "      <td>g4pD_taske.txt</td>\n",
              "      <td>0.710432</td>\n",
              "    </tr>\n",
              "    <tr>\n",
              "      <th>94</th>\n",
              "      <td>g4pE_taske.txt</td>\n",
              "      <td>0.326182</td>\n",
              "    </tr>\n",
              "  </tbody>\n",
              "</table>\n",
              "<p>95 rows × 2 columns</p>\n",
              "</div>"
            ],
            "text/plain": [
              "              File     Score\n",
              "0   g0pA_taska.txt  0.256211\n",
              "1   g0pB_taska.txt  0.150787\n",
              "2   g0pC_taska.txt  0.530590\n",
              "3   g0pD_taska.txt  0.834475\n",
              "4   g0pE_taska.txt  0.968667\n",
              "..             ...       ...\n",
              "90  g3pC_taske.txt  0.476018\n",
              "91  g4pB_taske.txt  0.893088\n",
              "92  g4pC_taske.txt  0.742989\n",
              "93  g4pD_taske.txt  0.710432\n",
              "94  g4pE_taske.txt  0.326182\n",
              "\n",
              "[95 rows x 2 columns]"
            ]
          },
          "execution_count": 83,
          "metadata": {},
          "output_type": "execute_result"
        }
      ],
      "source": [
        "final"
      ]
    },
    {
      "cell_type": "code",
      "execution_count": null,
      "metadata": {
        "id": "t6kamWxr-i2w"
      },
      "outputs": [],
      "source": [
        "final_test = text_task.copy()"
      ]
    },
    {
      "cell_type": "code",
      "execution_count": null,
      "metadata": {
        "id": "tJs1qn7kBcYs"
      },
      "outputs": [],
      "source": [
        "final_test = final_test.merge(final, on='File', how = 'left')"
      ]
    },
    {
      "cell_type": "code",
      "execution_count": null,
      "metadata": {
        "colab": {
          "base_uri": "https://localhost:8080/",
          "height": 363
        },
        "id": "w0nkSA1sCehs",
        "outputId": "f24f8314-9571-4d28-9dc4-c1acae835701"
      },
      "outputs": [
        {
          "data": {
            "text/html": [
              "<div>\n",
              "<style scoped>\n",
              "    .dataframe tbody tr th:only-of-type {\n",
              "        vertical-align: middle;\n",
              "    }\n",
              "\n",
              "    .dataframe tbody tr th {\n",
              "        vertical-align: top;\n",
              "    }\n",
              "\n",
              "    .dataframe thead th {\n",
              "        text-align: right;\n",
              "    }\n",
              "</style>\n",
              "<table border=\"1\" class=\"dataframe\">\n",
              "  <thead>\n",
              "    <tr style=\"text-align: right;\">\n",
              "      <th></th>\n",
              "      <th>File</th>\n",
              "      <th>Task</th>\n",
              "      <th>Category</th>\n",
              "      <th>Text</th>\n",
              "      <th>Type</th>\n",
              "      <th>Jaccard</th>\n",
              "      <th>Containment</th>\n",
              "      <th>LCS</th>\n",
              "      <th>Score</th>\n",
              "    </tr>\n",
              "  </thead>\n",
              "  <tbody>\n",
              "    <tr>\n",
              "      <th>0</th>\n",
              "      <td>g0pA_taska.txt</td>\n",
              "      <td>a</td>\n",
              "      <td>non</td>\n",
              "      <td>inheritance is a basic concept of object orien...</td>\n",
              "      <td>Task</td>\n",
              "      <td>0.00573614</td>\n",
              "      <td>0.00980392</td>\n",
              "      <td>0.136364</td>\n",
              "      <td>0.256141</td>\n",
              "    </tr>\n",
              "    <tr>\n",
              "      <th>1</th>\n",
              "      <td>g0pA_taskb.txt</td>\n",
              "      <td>b</td>\n",
              "      <td>cut</td>\n",
              "      <td>pagerank is a link analysis algorithm used by ...</td>\n",
              "      <td>Task</td>\n",
              "      <td>0.279946</td>\n",
              "      <td>0.390244</td>\n",
              "      <td>0.325234</td>\n",
              "      <td>0.787296</td>\n",
              "    </tr>\n",
              "    <tr>\n",
              "      <th>2</th>\n",
              "      <td>g0pA_taskc.txt</td>\n",
              "      <td>c</td>\n",
              "      <td>light</td>\n",
              "      <td>the vector space model also called term vector...</td>\n",
              "      <td>Task</td>\n",
              "      <td>0.302575</td>\n",
              "      <td>0.5875</td>\n",
              "      <td>0.797521</td>\n",
              "      <td>0.899383</td>\n",
              "    </tr>\n",
              "    <tr>\n",
              "      <th>3</th>\n",
              "      <td>g0pA_taskd.txt</td>\n",
              "      <td>d</td>\n",
              "      <td>heavy</td>\n",
              "      <td>bayes theorem was names after rev thomas bayes...</td>\n",
              "      <td>Task</td>\n",
              "      <td>0.0686869</td>\n",
              "      <td>0.111842</td>\n",
              "      <td>0.199346</td>\n",
              "      <td>0.522801</td>\n",
              "    </tr>\n",
              "    <tr>\n",
              "      <th>4</th>\n",
              "      <td>g0pA_taske.txt</td>\n",
              "      <td>e</td>\n",
              "      <td>non</td>\n",
              "      <td>dynamic programming is an algorithm design tec...</td>\n",
              "      <td>Task</td>\n",
              "      <td>0.00980392</td>\n",
              "      <td>0.0136187</td>\n",
              "      <td>0.0949612</td>\n",
              "      <td>0.358783</td>\n",
              "    </tr>\n",
              "    <tr>\n",
              "      <th>5</th>\n",
              "      <td>g0pB_taska.txt</td>\n",
              "      <td>a</td>\n",
              "      <td>non</td>\n",
              "      <td>inheritance is a basic concept in object orien...</td>\n",
              "      <td>Task</td>\n",
              "      <td>0.00693241</td>\n",
              "      <td>0.0130719</td>\n",
              "      <td>0.142857</td>\n",
              "      <td>0.152534</td>\n",
              "    </tr>\n",
              "    <tr>\n",
              "      <th>6</th>\n",
              "      <td>g0pB_taskb.txt</td>\n",
              "      <td>b</td>\n",
              "      <td>non</td>\n",
              "      <td>pagerank pr refers to both the concept and the...</td>\n",
              "      <td>Task</td>\n",
              "      <td>0.0206986</td>\n",
              "      <td>0.0300188</td>\n",
              "      <td>0.136449</td>\n",
              "      <td>0.526115</td>\n",
              "    </tr>\n",
              "    <tr>\n",
              "      <th>7</th>\n",
              "      <td>g0pB_taskc.txt</td>\n",
              "      <td>c</td>\n",
              "      <td>cut</td>\n",
              "      <td>vector space model is an algebraic model for r...</td>\n",
              "      <td>Task</td>\n",
              "      <td>0.367159</td>\n",
              "      <td>0.829167</td>\n",
              "      <td>0.780992</td>\n",
              "      <td>0.937966</td>\n",
              "    </tr>\n",
              "    <tr>\n",
              "      <th>8</th>\n",
              "      <td>g0pB_taskd.txt</td>\n",
              "      <td>d</td>\n",
              "      <td>light</td>\n",
              "      <td>bayes theorem relates the conditional and marg...</td>\n",
              "      <td>Task</td>\n",
              "      <td>0.209524</td>\n",
              "      <td>0.361842</td>\n",
              "      <td>0.352941</td>\n",
              "      <td>0.754743</td>\n",
              "    </tr>\n",
              "    <tr>\n",
              "      <th>9</th>\n",
              "      <td>g0pB_taske.txt</td>\n",
              "      <td>e</td>\n",
              "      <td>heavy</td>\n",
              "      <td>dynamic programming is a method for solving ma...</td>\n",
              "      <td>Task</td>\n",
              "      <td>0.109626</td>\n",
              "      <td>0.159533</td>\n",
              "      <td>0.273256</td>\n",
              "      <td>0.703059</td>\n",
              "    </tr>\n",
              "  </tbody>\n",
              "</table>\n",
              "</div>"
            ],
            "text/plain": [
              "             File Task Category  ... Containment        LCS     Score\n",
              "0  g0pA_taska.txt    a      non  ...  0.00980392   0.136364  0.256141\n",
              "1  g0pA_taskb.txt    b      cut  ...    0.390244   0.325234  0.787296\n",
              "2  g0pA_taskc.txt    c    light  ...      0.5875   0.797521  0.899383\n",
              "3  g0pA_taskd.txt    d    heavy  ...    0.111842   0.199346  0.522801\n",
              "4  g0pA_taske.txt    e      non  ...   0.0136187  0.0949612  0.358783\n",
              "5  g0pB_taska.txt    a      non  ...   0.0130719   0.142857  0.152534\n",
              "6  g0pB_taskb.txt    b      non  ...   0.0300188   0.136449  0.526115\n",
              "7  g0pB_taskc.txt    c      cut  ...    0.829167   0.780992  0.937966\n",
              "8  g0pB_taskd.txt    d    light  ...    0.361842   0.352941  0.754743\n",
              "9  g0pB_taske.txt    e    heavy  ...    0.159533   0.273256  0.703059\n",
              "\n",
              "[10 rows x 9 columns]"
            ]
          },
          "execution_count": 30,
          "metadata": {},
          "output_type": "execute_result"
        }
      ],
      "source": [
        "final_test.head(10)"
      ]
    },
    {
      "cell_type": "code",
      "execution_count": null,
      "metadata": {
        "id": "swF1FgUACjEb"
      },
      "outputs": [],
      "source": [
        "jaccard_df = final_test[['File','Task','Jaccard']]\n",
        "contmeasure_df = final_test[['File','Task','Containment']]\n",
        "lcs_df = final_test[['File','Task','LCS']]\n",
        "cosinesim_df = final_test[['File','Task','Score']]"
      ]
    },
    {
      "cell_type": "code",
      "execution_count": null,
      "metadata": {
        "colab": {
          "base_uri": "https://localhost:8080/"
        },
        "id": "oNwAdl0RIChy",
        "outputId": "2703676b-9ef0-412f-fced-43e4838b95af"
      },
      "outputs": [
        {
          "name": "stderr",
          "output_type": "stream",
          "text": [
            "/usr/local/lib/python3.7/dist-packages/ipykernel_launcher.py:1: SettingWithCopyWarning: \n",
            "A value is trying to be set on a copy of a slice from a DataFrame.\n",
            "Try using .loc[row_indexer,col_indexer] = value instead\n",
            "\n",
            "See the caveats in the documentation: https://pandas.pydata.org/pandas-docs/stable/user_guide/indexing.html#returning-a-view-versus-a-copy\n",
            "  \"\"\"Entry point for launching an IPython kernel.\n"
          ]
        }
      ],
      "source": [
        "jaccard_df['catjaccard'] = ''"
      ]
    },
    {
      "cell_type": "code",
      "execution_count": null,
      "metadata": {
        "colab": {
          "base_uri": "https://localhost:8080/"
        },
        "id": "DMBjDAOtDfKc",
        "outputId": "4aa4d99f-4edf-4139-85d4-57fb7060f686"
      },
      "outputs": [
        {
          "name": "stderr",
          "output_type": "stream",
          "text": [
            "/usr/local/lib/python3.7/dist-packages/IPython/core/interactiveshell.py:2882: SettingWithCopyWarning: \n",
            "A value is trying to be set on a copy of a slice from a DataFrame\n",
            "\n",
            "See the caveats in the documentation: https://pandas.pydata.org/pandas-docs/stable/user_guide/indexing.html#returning-a-view-versus-a-copy\n",
            "  exec(code_obj, self.user_global_ns, self.user_ns)\n"
          ]
        }
      ],
      "source": [
        "for i in range(95):\n",
        "  if jaccard_df['Jaccard'][i] < 0.04:\n",
        "    jaccard_df['catjaccard'][i] = 'non'\n",
        "  elif jaccard_df['Jaccard'][i] < 0.2 and jaccard_df['Jaccard'][i] >= 0.04:\n",
        "    jaccard_df['catjaccard'][i] = 'heavy'\n",
        "  elif jaccard_df['Jaccard'][i] < 0.27 and jaccard_df['Jaccard'][i] >=0.2:\n",
        "    jaccard_df['catjaccard'][i] = 'light'\n",
        "  else:\n",
        "    jaccard_df['catjaccard'][i] = 'cut'"
      ]
    },
    {
      "cell_type": "code",
      "execution_count": null,
      "metadata": {
        "colab": {
          "base_uri": "https://localhost:8080/"
        },
        "id": "Dm6LeSGKgwlP",
        "outputId": "0f3a066e-f805-4c2d-a362-b008fbb3af1a"
      },
      "outputs": [
        {
          "name": "stderr",
          "output_type": "stream",
          "text": [
            "/usr/local/lib/python3.7/dist-packages/ipykernel_launcher.py:1: SettingWithCopyWarning: \n",
            "A value is trying to be set on a copy of a slice from a DataFrame.\n",
            "Try using .loc[row_indexer,col_indexer] = value instead\n",
            "\n",
            "See the caveats in the documentation: https://pandas.pydata.org/pandas-docs/stable/user_guide/indexing.html#returning-a-view-versus-a-copy\n",
            "  \"\"\"Entry point for launching an IPython kernel.\n"
          ]
        }
      ],
      "source": [
        "jaccard_df['catjaccard'] = jaccard_df['catjaccard'].replace(['cut'],'light')"
      ]
    },
    {
      "cell_type": "code",
      "execution_count": null,
      "metadata": {
        "colab": {
          "base_uri": "https://localhost:8080/"
        },
        "id": "6nWK-xfJIPFX",
        "outputId": "2f14c3ac-7159-49ac-a625-bc42c8b168c2"
      },
      "outputs": [
        {
          "name": "stderr",
          "output_type": "stream",
          "text": [
            "/usr/local/lib/python3.7/dist-packages/ipykernel_launcher.py:1: SettingWithCopyWarning: \n",
            "A value is trying to be set on a copy of a slice from a DataFrame.\n",
            "Try using .loc[row_indexer,col_indexer] = value instead\n",
            "\n",
            "See the caveats in the documentation: https://pandas.pydata.org/pandas-docs/stable/user_guide/indexing.html#returning-a-view-versus-a-copy\n",
            "  \"\"\"Entry point for launching an IPython kernel.\n",
            "/usr/local/lib/python3.7/dist-packages/ipykernel_launcher.py:2: SettingWithCopyWarning: \n",
            "A value is trying to be set on a copy of a slice from a DataFrame.\n",
            "Try using .loc[row_indexer,col_indexer] = value instead\n",
            "\n",
            "See the caveats in the documentation: https://pandas.pydata.org/pandas-docs/stable/user_guide/indexing.html#returning-a-view-versus-a-copy\n",
            "  \n",
            "/usr/local/lib/python3.7/dist-packages/ipykernel_launcher.py:3: SettingWithCopyWarning: \n",
            "A value is trying to be set on a copy of a slice from a DataFrame.\n",
            "Try using .loc[row_indexer,col_indexer] = value instead\n",
            "\n",
            "See the caveats in the documentation: https://pandas.pydata.org/pandas-docs/stable/user_guide/indexing.html#returning-a-view-versus-a-copy\n",
            "  This is separate from the ipykernel package so we can avoid doing imports until\n"
          ]
        }
      ],
      "source": [
        "contmeasure_df['catcontainment'] = ''\n",
        "lcs_df['catlcs'] = ''\n",
        "cosinesim_df['catcosine'] = ''"
      ]
    },
    {
      "cell_type": "code",
      "execution_count": null,
      "metadata": {
        "colab": {
          "base_uri": "https://localhost:8080/"
        },
        "id": "IV3SsWbjT1mj",
        "outputId": "8654fe76-2745-408c-bac8-9a4ae26925fa"
      },
      "outputs": [
        {
          "name": "stderr",
          "output_type": "stream",
          "text": [
            "/usr/local/lib/python3.7/dist-packages/IPython/core/interactiveshell.py:2882: SettingWithCopyWarning: \n",
            "A value is trying to be set on a copy of a slice from a DataFrame\n",
            "\n",
            "See the caveats in the documentation: https://pandas.pydata.org/pandas-docs/stable/user_guide/indexing.html#returning-a-view-versus-a-copy\n",
            "  exec(code_obj, self.user_global_ns, self.user_ns)\n"
          ]
        }
      ],
      "source": [
        "for i in range(95):\n",
        "  if contmeasure_df['Containment'][i] < 0.03:\n",
        "    contmeasure_df['catcontainment'][i] = 'non'\n",
        "  elif  contmeasure_df['Containment'][i] < 0.3 and  contmeasure_df['Containment'][i] >= 0.03:\n",
        "    contmeasure_df['catcontainment'][i] = 'heavy'\n",
        "  elif  contmeasure_df['Containment'][i] < 0.7 and  contmeasure_df['Containment'][i] >=0.3:\n",
        "    contmeasure_df['catcontainment'][i] = 'light'\n",
        "  else:\n",
        "    contmeasure_df['catcontainment'][i] = 'cut'"
      ]
    },
    {
      "cell_type": "code",
      "execution_count": null,
      "metadata": {
        "colab": {
          "base_uri": "https://localhost:8080/"
        },
        "id": "QZBZBnW2g96I",
        "outputId": "206b382e-6fa3-431f-dc29-7efb2221a5d4"
      },
      "outputs": [
        {
          "name": "stderr",
          "output_type": "stream",
          "text": [
            "/usr/local/lib/python3.7/dist-packages/ipykernel_launcher.py:1: SettingWithCopyWarning: \n",
            "A value is trying to be set on a copy of a slice from a DataFrame.\n",
            "Try using .loc[row_indexer,col_indexer] = value instead\n",
            "\n",
            "See the caveats in the documentation: https://pandas.pydata.org/pandas-docs/stable/user_guide/indexing.html#returning-a-view-versus-a-copy\n",
            "  \"\"\"Entry point for launching an IPython kernel.\n"
          ]
        }
      ],
      "source": [
        "contmeasure_df['catcontainment'] = contmeasure_df['catcontainment'].replace(['cut'],'light')"
      ]
    },
    {
      "cell_type": "code",
      "execution_count": null,
      "metadata": {
        "colab": {
          "base_uri": "https://localhost:8080/"
        },
        "id": "imLlRToTavGc",
        "outputId": "120bfd84-b2f1-4cf1-860a-55b8b355211c"
      },
      "outputs": [
        {
          "name": "stderr",
          "output_type": "stream",
          "text": [
            "/usr/local/lib/python3.7/dist-packages/IPython/core/interactiveshell.py:2882: SettingWithCopyWarning: \n",
            "A value is trying to be set on a copy of a slice from a DataFrame\n",
            "\n",
            "See the caveats in the documentation: https://pandas.pydata.org/pandas-docs/stable/user_guide/indexing.html#returning-a-view-versus-a-copy\n",
            "  exec(code_obj, self.user_global_ns, self.user_ns)\n"
          ]
        }
      ],
      "source": [
        "for i in range(95):\n",
        "  if lcs_df['LCS'][i] < 0.2:\n",
        "    lcs_df['catlcs'][i] = 'non'\n",
        "  elif  lcs_df['LCS'][i] < 0.32 and  lcs_df['LCS'][i] >= 0.2:\n",
        "    lcs_df['catlcs'][i] = 'heavy'\n",
        "  elif  lcs_df['LCS'][i] < 0.7 and  lcs_df['LCS'][i] >=0.32:\n",
        "    lcs_df['catlcs'][i] = 'light'\n",
        "  else:\n",
        "    lcs_df['catlcs'][i] = 'cut'"
      ]
    },
    {
      "cell_type": "code",
      "execution_count": null,
      "metadata": {
        "colab": {
          "base_uri": "https://localhost:8080/"
        },
        "id": "m6xhvue5hICL",
        "outputId": "0dd1fee5-7cf4-498d-cd87-d29de89ff874"
      },
      "outputs": [
        {
          "name": "stderr",
          "output_type": "stream",
          "text": [
            "/usr/local/lib/python3.7/dist-packages/ipykernel_launcher.py:1: SettingWithCopyWarning: \n",
            "A value is trying to be set on a copy of a slice from a DataFrame.\n",
            "Try using .loc[row_indexer,col_indexer] = value instead\n",
            "\n",
            "See the caveats in the documentation: https://pandas.pydata.org/pandas-docs/stable/user_guide/indexing.html#returning-a-view-versus-a-copy\n",
            "  \"\"\"Entry point for launching an IPython kernel.\n"
          ]
        }
      ],
      "source": [
        "lcs_df['catlcs'] = lcs_df['catlcs'].replace(['cut'],'light')"
      ]
    },
    {
      "cell_type": "code",
      "execution_count": null,
      "metadata": {
        "colab": {
          "base_uri": "https://localhost:8080/"
        },
        "id": "tvDm2kxOeqSs",
        "outputId": "60dfbea7-92f7-431a-c31f-997a48882393"
      },
      "outputs": [
        {
          "name": "stderr",
          "output_type": "stream",
          "text": [
            "/usr/local/lib/python3.7/dist-packages/ipykernel_launcher.py:3: SettingWithCopyWarning: \n",
            "A value is trying to be set on a copy of a slice from a DataFrame\n",
            "\n",
            "See the caveats in the documentation: https://pandas.pydata.org/pandas-docs/stable/user_guide/indexing.html#returning-a-view-versus-a-copy\n",
            "  This is separate from the ipykernel package so we can avoid doing imports until\n",
            "/usr/local/lib/python3.7/dist-packages/IPython/core/interactiveshell.py:2882: SettingWithCopyWarning: \n",
            "A value is trying to be set on a copy of a slice from a DataFrame\n",
            "\n",
            "See the caveats in the documentation: https://pandas.pydata.org/pandas-docs/stable/user_guide/indexing.html#returning-a-view-versus-a-copy\n",
            "  exec(code_obj, self.user_global_ns, self.user_ns)\n",
            "/usr/local/lib/python3.7/dist-packages/ipykernel_launcher.py:7: SettingWithCopyWarning: \n",
            "A value is trying to be set on a copy of a slice from a DataFrame\n",
            "\n",
            "See the caveats in the documentation: https://pandas.pydata.org/pandas-docs/stable/user_guide/indexing.html#returning-a-view-versus-a-copy\n",
            "  import sys\n",
            "/usr/local/lib/python3.7/dist-packages/ipykernel_launcher.py:5: SettingWithCopyWarning: \n",
            "A value is trying to be set on a copy of a slice from a DataFrame\n",
            "\n",
            "See the caveats in the documentation: https://pandas.pydata.org/pandas-docs/stable/user_guide/indexing.html#returning-a-view-versus-a-copy\n",
            "  \"\"\"\n"
          ]
        }
      ],
      "source": [
        "for i in range(95):\n",
        "  if cosinesim_df['Score'][i] < 0.5:\n",
        "    cosinesim_df['catcosine'][i] = 'non'\n",
        "  elif  cosinesim_df['Score'][i] < 0.7 and  cosinesim_df['Score'][i] >= 0.5:\n",
        "    cosinesim_df['catcosine'][i] = 'heavy'\n",
        "  elif  cosinesim_df['Score'][i] >=0.7:\n",
        "    cosinesim_df['catcosine'][i] = 'light'"
      ]
    },
    {
      "cell_type": "code",
      "execution_count": null,
      "metadata": {
        "id": "KS_SbLnlgMAI"
      },
      "outputs": [],
      "source": [
        "jaccard_df = jaccard_df[['File','catjaccard']]\n",
        "contmeasure_df = contmeasure_df[['File','catcontainment']]\n",
        "lcs_df = lcs_df[['File','catlcs']]\n",
        "cosinesim_df = cosinesim_df[['File','catcosine']]"
      ]
    },
    {
      "cell_type": "code",
      "execution_count": null,
      "metadata": {
        "id": "UmR3lqz7hPV_"
      },
      "outputs": [],
      "source": [
        "final_test = final_test.merge(jaccard_df, on='File', how = 'left')\n",
        "final_test = final_test.merge(contmeasure_df, on='File', how = 'left')\n",
        "final_test = final_test.merge(lcs_df, on='File', how = 'left')\n",
        "final_test = final_test.merge(cosinesim_df, on='File', how = 'left')"
      ]
    },
    {
      "cell_type": "code",
      "execution_count": null,
      "metadata": {
        "colab": {
          "base_uri": "https://localhost:8080/",
          "height": 771
        },
        "id": "GOkrt5yLhwk8",
        "outputId": "d6431e9d-72a5-45f5-bb00-cb141bb65835"
      },
      "outputs": [
        {
          "data": {
            "text/html": [
              "<div>\n",
              "<style scoped>\n",
              "    .dataframe tbody tr th:only-of-type {\n",
              "        vertical-align: middle;\n",
              "    }\n",
              "\n",
              "    .dataframe tbody tr th {\n",
              "        vertical-align: top;\n",
              "    }\n",
              "\n",
              "    .dataframe thead th {\n",
              "        text-align: right;\n",
              "    }\n",
              "</style>\n",
              "<table border=\"1\" class=\"dataframe\">\n",
              "  <thead>\n",
              "    <tr style=\"text-align: right;\">\n",
              "      <th></th>\n",
              "      <th>File</th>\n",
              "      <th>Task</th>\n",
              "      <th>Category</th>\n",
              "      <th>Text</th>\n",
              "      <th>Type</th>\n",
              "      <th>Jaccard</th>\n",
              "      <th>Containment</th>\n",
              "      <th>LCS</th>\n",
              "      <th>Score</th>\n",
              "      <th>catjaccard</th>\n",
              "      <th>catcontainment</th>\n",
              "      <th>catlcs</th>\n",
              "      <th>catcosine</th>\n",
              "    </tr>\n",
              "  </thead>\n",
              "  <tbody>\n",
              "    <tr>\n",
              "      <th>0</th>\n",
              "      <td>g0pA_taska.txt</td>\n",
              "      <td>a</td>\n",
              "      <td>non</td>\n",
              "      <td>inheritance is a basic concept of object orien...</td>\n",
              "      <td>Task</td>\n",
              "      <td>0.00573614</td>\n",
              "      <td>0.00980392</td>\n",
              "      <td>0.136364</td>\n",
              "      <td>0.256141</td>\n",
              "      <td>non</td>\n",
              "      <td>non</td>\n",
              "      <td>non</td>\n",
              "      <td>non</td>\n",
              "    </tr>\n",
              "    <tr>\n",
              "      <th>1</th>\n",
              "      <td>g0pA_taskb.txt</td>\n",
              "      <td>b</td>\n",
              "      <td>light</td>\n",
              "      <td>pagerank is a link analysis algorithm used by ...</td>\n",
              "      <td>Task</td>\n",
              "      <td>0.279946</td>\n",
              "      <td>0.390244</td>\n",
              "      <td>0.325234</td>\n",
              "      <td>0.787296</td>\n",
              "      <td>light</td>\n",
              "      <td>light</td>\n",
              "      <td>light</td>\n",
              "      <td>light</td>\n",
              "    </tr>\n",
              "    <tr>\n",
              "      <th>2</th>\n",
              "      <td>g0pA_taskc.txt</td>\n",
              "      <td>c</td>\n",
              "      <td>light</td>\n",
              "      <td>the vector space model also called term vector...</td>\n",
              "      <td>Task</td>\n",
              "      <td>0.302575</td>\n",
              "      <td>0.5875</td>\n",
              "      <td>0.797521</td>\n",
              "      <td>0.899383</td>\n",
              "      <td>light</td>\n",
              "      <td>light</td>\n",
              "      <td>light</td>\n",
              "      <td>light</td>\n",
              "    </tr>\n",
              "    <tr>\n",
              "      <th>3</th>\n",
              "      <td>g0pA_taskd.txt</td>\n",
              "      <td>d</td>\n",
              "      <td>heavy</td>\n",
              "      <td>bayes theorem was names after rev thomas bayes...</td>\n",
              "      <td>Task</td>\n",
              "      <td>0.0686869</td>\n",
              "      <td>0.111842</td>\n",
              "      <td>0.199346</td>\n",
              "      <td>0.522801</td>\n",
              "      <td>heavy</td>\n",
              "      <td>heavy</td>\n",
              "      <td>non</td>\n",
              "      <td>heavy</td>\n",
              "    </tr>\n",
              "    <tr>\n",
              "      <th>4</th>\n",
              "      <td>g0pA_taske.txt</td>\n",
              "      <td>e</td>\n",
              "      <td>non</td>\n",
              "      <td>dynamic programming is an algorithm design tec...</td>\n",
              "      <td>Task</td>\n",
              "      <td>0.00980392</td>\n",
              "      <td>0.0136187</td>\n",
              "      <td>0.0949612</td>\n",
              "      <td>0.358783</td>\n",
              "      <td>non</td>\n",
              "      <td>non</td>\n",
              "      <td>non</td>\n",
              "      <td>non</td>\n",
              "    </tr>\n",
              "    <tr>\n",
              "      <th>...</th>\n",
              "      <td>...</td>\n",
              "      <td>...</td>\n",
              "      <td>...</td>\n",
              "      <td>...</td>\n",
              "      <td>...</td>\n",
              "      <td>...</td>\n",
              "      <td>...</td>\n",
              "      <td>...</td>\n",
              "      <td>...</td>\n",
              "      <td>...</td>\n",
              "      <td>...</td>\n",
              "      <td>...</td>\n",
              "      <td>...</td>\n",
              "    </tr>\n",
              "    <tr>\n",
              "      <th>90</th>\n",
              "      <td>g4pE_taska.txt</td>\n",
              "      <td>a</td>\n",
              "      <td>heavy</td>\n",
              "      <td>object oriented programming is a style of prog...</td>\n",
              "      <td>Task</td>\n",
              "      <td>0.0117647</td>\n",
              "      <td>0.0196078</td>\n",
              "      <td>0.162338</td>\n",
              "      <td>0.325133</td>\n",
              "      <td>non</td>\n",
              "      <td>non</td>\n",
              "      <td>non</td>\n",
              "      <td>non</td>\n",
              "    </tr>\n",
              "    <tr>\n",
              "      <th>91</th>\n",
              "      <td>g4pE_taskb.txt</td>\n",
              "      <td>b</td>\n",
              "      <td>light</td>\n",
              "      <td>pagerankalgorithm is also known as link analys...</td>\n",
              "      <td>Task</td>\n",
              "      <td>0.258398</td>\n",
              "      <td>0.375235</td>\n",
              "      <td>0.381308</td>\n",
              "      <td>0.816421</td>\n",
              "      <td>light</td>\n",
              "      <td>light</td>\n",
              "      <td>light</td>\n",
              "      <td>light</td>\n",
              "    </tr>\n",
              "    <tr>\n",
              "      <th>92</th>\n",
              "      <td>g4pE_taskc.txt</td>\n",
              "      <td>c</td>\n",
              "      <td>light</td>\n",
              "      <td>the definition of term depends on the applicat...</td>\n",
              "      <td>Task</td>\n",
              "      <td>0.144444</td>\n",
              "      <td>0.270833</td>\n",
              "      <td>0.247934</td>\n",
              "      <td>0.614684</td>\n",
              "      <td>heavy</td>\n",
              "      <td>heavy</td>\n",
              "      <td>heavy</td>\n",
              "      <td>heavy</td>\n",
              "    </tr>\n",
              "    <tr>\n",
              "      <th>93</th>\n",
              "      <td>g4pE_taskd.txt</td>\n",
              "      <td>d</td>\n",
              "      <td>non</td>\n",
              "      <td>bayes theorem or bayes rule  or something cal...</td>\n",
              "      <td>Task</td>\n",
              "      <td>0</td>\n",
              "      <td>0</td>\n",
              "      <td>0.107843</td>\n",
              "      <td>0.280435</td>\n",
              "      <td>non</td>\n",
              "      <td>non</td>\n",
              "      <td>non</td>\n",
              "      <td>non</td>\n",
              "    </tr>\n",
              "    <tr>\n",
              "      <th>94</th>\n",
              "      <td>g4pE_taske.txt</td>\n",
              "      <td>e</td>\n",
              "      <td>non</td>\n",
              "      <td>dynamic programming is a method for efficient...</td>\n",
              "      <td>Task</td>\n",
              "      <td>0.0292553</td>\n",
              "      <td>0.0428016</td>\n",
              "      <td>0.114341</td>\n",
              "      <td>0.326179</td>\n",
              "      <td>non</td>\n",
              "      <td>heavy</td>\n",
              "      <td>non</td>\n",
              "      <td>non</td>\n",
              "    </tr>\n",
              "  </tbody>\n",
              "</table>\n",
              "<p>95 rows × 13 columns</p>\n",
              "</div>"
            ],
            "text/plain": [
              "              File Task Category  ... catcontainment catlcs catcosine\n",
              "0   g0pA_taska.txt    a      non  ...            non    non       non\n",
              "1   g0pA_taskb.txt    b    light  ...          light  light     light\n",
              "2   g0pA_taskc.txt    c    light  ...          light  light     light\n",
              "3   g0pA_taskd.txt    d    heavy  ...          heavy    non     heavy\n",
              "4   g0pA_taske.txt    e      non  ...            non    non       non\n",
              "..             ...  ...      ...  ...            ...    ...       ...\n",
              "90  g4pE_taska.txt    a    heavy  ...            non    non       non\n",
              "91  g4pE_taskb.txt    b    light  ...          light  light     light\n",
              "92  g4pE_taskc.txt    c    light  ...          heavy  heavy     heavy\n",
              "93  g4pE_taskd.txt    d      non  ...            non    non       non\n",
              "94  g4pE_taske.txt    e      non  ...          heavy    non       non\n",
              "\n",
              "[95 rows x 13 columns]"
            ]
          },
          "execution_count": 88,
          "metadata": {},
          "output_type": "execute_result"
        }
      ],
      "source": [
        "final_test"
      ]
    },
    {
      "cell_type": "code",
      "execution_count": null,
      "metadata": {
        "id": "Er6sUp0qmZDY"
      },
      "outputs": [],
      "source": [
        "acc_jaccard = accuracy_score(final_test['Category'], final_test['catjaccard'])*100\n",
        "acc_contmeasure = accuracy_score(final_test['Category'], final_test['catcontainment'])*100\n",
        "acc_lcs = accuracy_score(final_test['Category'], final_test['catlcs'])*100\n",
        "acc_cosine = accuracy_score(final_test['Category'], final_test['catcosine'])*100"
      ]
    },
    {
      "cell_type": "code",
      "execution_count": null,
      "metadata": {
        "colab": {
          "base_uri": "https://localhost:8080/"
        },
        "id": "Z6l8fAY3nmR6",
        "outputId": "15d3992e-3d9d-4ba4-a210-c791e8eac00d"
      },
      "outputs": [
        {
          "name": "stdout",
          "output_type": "stream",
          "text": [
            "Jaccard Score:  73.68421052631578\n",
            "Containment Score:  69.47368421052632\n",
            "LCS Score:  74.73684210526315\n",
            "Cosine Score:  62.10526315789474\n"
          ]
        }
      ],
      "source": [
        "print('Jaccard Score: ', acc_jaccard)\n",
        "print('Containment Score: ', acc_contmeasure)\n",
        "print('LCS Score: ', acc_lcs)\n",
        "print('Cosine Score: ', acc_cosine)"
      ]
    },
    {
      "cell_type": "code",
      "execution_count": null,
      "metadata": {
        "id": "iuuBqC6ynnk4"
      },
      "outputs": [],
      "source": [
        "final_test['Category'] = final_test['Category'].replace(['cut'],'light')"
      ]
    },
    {
      "cell_type": "code",
      "execution_count": null,
      "metadata": {
        "colab": {
          "base_uri": "https://localhost:8080/",
          "height": 424
        },
        "id": "xlvN6Gtpoc9e",
        "outputId": "ef8456ef-f550-40c3-81ca-4ac4e57c3f44"
      },
      "outputs": [
        {
          "data": {
            "text/html": [
              "<div>\n",
              "<style scoped>\n",
              "    .dataframe tbody tr th:only-of-type {\n",
              "        vertical-align: middle;\n",
              "    }\n",
              "\n",
              "    .dataframe tbody tr th {\n",
              "        vertical-align: top;\n",
              "    }\n",
              "\n",
              "    .dataframe thead th {\n",
              "        text-align: right;\n",
              "    }\n",
              "</style>\n",
              "<table border=\"1\" class=\"dataframe\">\n",
              "  <thead>\n",
              "    <tr style=\"text-align: right;\">\n",
              "      <th></th>\n",
              "      <th>File</th>\n",
              "      <th>Task</th>\n",
              "      <th>Category</th>\n",
              "      <th>Text</th>\n",
              "      <th>Type</th>\n",
              "      <th>Jaccard</th>\n",
              "      <th>Containment</th>\n",
              "      <th>LCS</th>\n",
              "    </tr>\n",
              "  </thead>\n",
              "  <tbody>\n",
              "    <tr>\n",
              "      <th>0</th>\n",
              "      <td>g0pA_taska.txt</td>\n",
              "      <td>a</td>\n",
              "      <td>non</td>\n",
              "      <td>inheritance is a basic concept of object orien...</td>\n",
              "      <td>Task</td>\n",
              "      <td>0.00573614</td>\n",
              "      <td>0.00980392</td>\n",
              "      <td>0.136364</td>\n",
              "    </tr>\n",
              "    <tr>\n",
              "      <th>1</th>\n",
              "      <td>g0pA_taskb.txt</td>\n",
              "      <td>b</td>\n",
              "      <td>cut</td>\n",
              "      <td>pagerank is a link analysis algorithm used by ...</td>\n",
              "      <td>Task</td>\n",
              "      <td>0.279946</td>\n",
              "      <td>0.390244</td>\n",
              "      <td>0.325234</td>\n",
              "    </tr>\n",
              "    <tr>\n",
              "      <th>2</th>\n",
              "      <td>g0pA_taskc.txt</td>\n",
              "      <td>c</td>\n",
              "      <td>light</td>\n",
              "      <td>the vector space model also called term vector...</td>\n",
              "      <td>Task</td>\n",
              "      <td>0.302575</td>\n",
              "      <td>0.5875</td>\n",
              "      <td>0.797521</td>\n",
              "    </tr>\n",
              "    <tr>\n",
              "      <th>3</th>\n",
              "      <td>g0pA_taskd.txt</td>\n",
              "      <td>d</td>\n",
              "      <td>heavy</td>\n",
              "      <td>bayes theorem was names after rev thomas bayes...</td>\n",
              "      <td>Task</td>\n",
              "      <td>0.0686869</td>\n",
              "      <td>0.111842</td>\n",
              "      <td>0.199346</td>\n",
              "    </tr>\n",
              "    <tr>\n",
              "      <th>4</th>\n",
              "      <td>g0pA_taske.txt</td>\n",
              "      <td>e</td>\n",
              "      <td>non</td>\n",
              "      <td>dynamic programming is an algorithm design tec...</td>\n",
              "      <td>Task</td>\n",
              "      <td>0.00980392</td>\n",
              "      <td>0.0136187</td>\n",
              "      <td>0.0949612</td>\n",
              "    </tr>\n",
              "    <tr>\n",
              "      <th>...</th>\n",
              "      <td>...</td>\n",
              "      <td>...</td>\n",
              "      <td>...</td>\n",
              "      <td>...</td>\n",
              "      <td>...</td>\n",
              "      <td>...</td>\n",
              "      <td>...</td>\n",
              "      <td>...</td>\n",
              "    </tr>\n",
              "    <tr>\n",
              "      <th>90</th>\n",
              "      <td>g4pE_taska.txt</td>\n",
              "      <td>a</td>\n",
              "      <td>heavy</td>\n",
              "      <td>object oriented programming is a style of prog...</td>\n",
              "      <td>Task</td>\n",
              "      <td>0.0117647</td>\n",
              "      <td>0.0196078</td>\n",
              "      <td>0.162338</td>\n",
              "    </tr>\n",
              "    <tr>\n",
              "      <th>91</th>\n",
              "      <td>g4pE_taskb.txt</td>\n",
              "      <td>b</td>\n",
              "      <td>light</td>\n",
              "      <td>pagerankalgorithm is also known as link analys...</td>\n",
              "      <td>Task</td>\n",
              "      <td>0.258398</td>\n",
              "      <td>0.375235</td>\n",
              "      <td>0.381308</td>\n",
              "    </tr>\n",
              "    <tr>\n",
              "      <th>92</th>\n",
              "      <td>g4pE_taskc.txt</td>\n",
              "      <td>c</td>\n",
              "      <td>cut</td>\n",
              "      <td>the definition of term depends on the applicat...</td>\n",
              "      <td>Task</td>\n",
              "      <td>0.144444</td>\n",
              "      <td>0.270833</td>\n",
              "      <td>0.247934</td>\n",
              "    </tr>\n",
              "    <tr>\n",
              "      <th>93</th>\n",
              "      <td>g4pE_taskd.txt</td>\n",
              "      <td>d</td>\n",
              "      <td>non</td>\n",
              "      <td>bayes theorem or bayes rule  or something cal...</td>\n",
              "      <td>Task</td>\n",
              "      <td>0</td>\n",
              "      <td>0</td>\n",
              "      <td>0.107843</td>\n",
              "    </tr>\n",
              "    <tr>\n",
              "      <th>94</th>\n",
              "      <td>g4pE_taske.txt</td>\n",
              "      <td>e</td>\n",
              "      <td>non</td>\n",
              "      <td>dynamic programming is a method for efficient...</td>\n",
              "      <td>Task</td>\n",
              "      <td>0.0292553</td>\n",
              "      <td>0.0428016</td>\n",
              "      <td>0.114341</td>\n",
              "    </tr>\n",
              "  </tbody>\n",
              "</table>\n",
              "<p>95 rows × 8 columns</p>\n",
              "</div>"
            ],
            "text/plain": [
              "              File Task Category  ...     Jaccard Containment        LCS\n",
              "0   g0pA_taska.txt    a      non  ...  0.00573614  0.00980392   0.136364\n",
              "1   g0pA_taskb.txt    b      cut  ...    0.279946    0.390244   0.325234\n",
              "2   g0pA_taskc.txt    c    light  ...    0.302575      0.5875   0.797521\n",
              "3   g0pA_taskd.txt    d    heavy  ...   0.0686869    0.111842   0.199346\n",
              "4   g0pA_taske.txt    e      non  ...  0.00980392   0.0136187  0.0949612\n",
              "..             ...  ...      ...  ...         ...         ...        ...\n",
              "90  g4pE_taska.txt    a    heavy  ...   0.0117647   0.0196078   0.162338\n",
              "91  g4pE_taskb.txt    b    light  ...    0.258398    0.375235   0.381308\n",
              "92  g4pE_taskc.txt    c      cut  ...    0.144444    0.270833   0.247934\n",
              "93  g4pE_taskd.txt    d      non  ...           0           0   0.107843\n",
              "94  g4pE_taske.txt    e      non  ...   0.0292553   0.0428016   0.114341\n",
              "\n",
              "[95 rows x 8 columns]"
            ]
          },
          "execution_count": 99,
          "metadata": {},
          "output_type": "execute_result"
        }
      ],
      "source": [
        "text_task"
      ]
    },
    {
      "cell_type": "code",
      "execution_count": null,
      "metadata": {
        "id": "dBi9y8gItvdE"
      },
      "outputs": [],
      "source": [
        "cosine2 = text_task[['File','Task','Category']]"
      ]
    },
    {
      "cell_type": "code",
      "execution_count": null,
      "metadata": {
        "id": "rikeiyFIuLEj"
      },
      "outputs": [],
      "source": [
        "cosine2 = cosine2.merge(final, on='File', how = 'left')"
      ]
    },
    {
      "cell_type": "code",
      "execution_count": null,
      "metadata": {
        "colab": {
          "base_uri": "https://localhost:8080/"
        },
        "id": "e8vuez24uPWy",
        "outputId": "563ba764-e591-41b4-e266-6cf199f5bec9"
      },
      "outputs": [
        {
          "name": "stderr",
          "output_type": "stream",
          "text": [
            "/usr/local/lib/python3.7/dist-packages/ipykernel_launcher.py:3: SettingWithCopyWarning: \n",
            "A value is trying to be set on a copy of a slice from a DataFrame\n",
            "\n",
            "See the caveats in the documentation: https://pandas.pydata.org/pandas-docs/stable/user_guide/indexing.html#returning-a-view-versus-a-copy\n",
            "  This is separate from the ipykernel package so we can avoid doing imports until\n",
            "/usr/local/lib/python3.7/dist-packages/ipykernel_launcher.py:7: SettingWithCopyWarning: \n",
            "A value is trying to be set on a copy of a slice from a DataFrame\n",
            "\n",
            "See the caveats in the documentation: https://pandas.pydata.org/pandas-docs/stable/user_guide/indexing.html#returning-a-view-versus-a-copy\n",
            "  import sys\n",
            "/usr/local/lib/python3.7/dist-packages/ipykernel_launcher.py:9: SettingWithCopyWarning: \n",
            "A value is trying to be set on a copy of a slice from a DataFrame\n",
            "\n",
            "See the caveats in the documentation: https://pandas.pydata.org/pandas-docs/stable/user_guide/indexing.html#returning-a-view-versus-a-copy\n",
            "  if __name__ == '__main__':\n",
            "/usr/local/lib/python3.7/dist-packages/ipykernel_launcher.py:5: SettingWithCopyWarning: \n",
            "A value is trying to be set on a copy of a slice from a DataFrame\n",
            "\n",
            "See the caveats in the documentation: https://pandas.pydata.org/pandas-docs/stable/user_guide/indexing.html#returning-a-view-versus-a-copy\n",
            "  \"\"\"\n"
          ]
        }
      ],
      "source": [
        "for i in range(95):\n",
        "  if cosine2['Score'][i] < 0.5:\n",
        "    cosine2['catcosine'][i] = 'non'\n",
        "  elif  cosine2['Score'][i] < 0.7 and  cosine2['Score'][i] >= 0.5:\n",
        "    cosine2['catcosine'][i] = 'heavy'\n",
        "  elif  cosine2['Score'][i] < 0.8 and cosine2['Score'][i] >=0.7:\n",
        "    cosine2['catcosine'][i] = 'light'\n",
        "  else:\n",
        "    cosine2['catcosine'][i] = 'cut'"
      ]
    },
    {
      "cell_type": "code",
      "execution_count": null,
      "metadata": {
        "id": "sjDnMEGiuVm_"
      },
      "outputs": [],
      "source": [
        "cosine2['catcosine'] = ''"
      ]
    },
    {
      "cell_type": "code",
      "execution_count": null,
      "metadata": {
        "colab": {
          "base_uri": "https://localhost:8080/"
        },
        "id": "7zqlumWvuWZT",
        "outputId": "f164dd59-9996-41af-95a2-f1b2b72f9c06"
      },
      "outputs": [
        {
          "data": {
            "text/plain": [
              "52.63157894736842"
            ]
          },
          "execution_count": 108,
          "metadata": {},
          "output_type": "execute_result"
        }
      ],
      "source": [
        "acc_cosine2 = accuracy_score(cosine2['Category'], cosine2['catcosine'])*100\n",
        "acc_cosine2"
      ]
    },
    {
      "cell_type": "code",
      "execution_count": null,
      "metadata": {
        "colab": {
          "base_uri": "https://localhost:8080/",
          "height": 296
        },
        "id": "356cpe8ovNDz",
        "outputId": "065cd866-ce8d-46bf-d888-59f353c994d3"
      },
      "outputs": [
        {
          "data": {
            "text/plain": [
              "<matplotlib.axes._subplots.AxesSubplot at 0x7f9d269f1190>"
            ]
          },
          "execution_count": 114,
          "metadata": {},
          "output_type": "execute_result"
        },
        {
          "data": {
            "image/png": "[encoded data removed]",
            "text/plain": [
              "<Figure size 432x288 with 1 Axes>"
            ]
          },
          "metadata": {
            "needs_background": "light"
          },
          "output_type": "display_data"
        }
      ],
      "source": [
        "sns.stripplot(x='Category', y='Jaccard',data=final_test,order=['non','heavy','light'])"
      ]
    },
    {
      "cell_type": "code",
      "execution_count": null,
      "metadata": {
        "colab": {
          "base_uri": "https://localhost:8080/",
          "height": 297
        },
        "id": "4Puo2lm8wcaB",
        "outputId": "e02af1ee-90bf-4cff-95e9-e98046f39404"
      },
      "outputs": [
        {
          "data": {
            "text/plain": [
              "<matplotlib.axes._subplots.AxesSubplot at 0x7f9d269ca710>"
            ]
          },
          "execution_count": 115,
          "metadata": {},
          "output_type": "execute_result"
        },
        {
          "data": {
            "image/png": "[encoded data removed]",
            "text/plain": [
              "<Figure size 432x288 with 1 Axes>"
            ]
          },
          "metadata": {
            "needs_background": "light"
          },
          "output_type": "display_data"
        }
      ],
      "source": [
        "sns.stripplot(x='Category', y='Containment',data=final_test,order=['non','heavy','light'])"
      ]
    },
    {
      "cell_type": "code",
      "execution_count": null,
      "metadata": {
        "colab": {
          "base_uri": "https://localhost:8080/",
          "height": 296
        },
        "id": "qfIl0PqCxeuP",
        "outputId": "e409b320-95f9-4593-993b-f636715d205b"
      },
      "outputs": [
        {
          "data": {
            "text/plain": [
              "<matplotlib.axes._subplots.AxesSubplot at 0x7f9d26935850>"
            ]
          },
          "execution_count": 116,
          "metadata": {},
          "output_type": "execute_result"
        },
        {
          "data": {
            "image/png": "[encoded data removed]",
            "text/plain": [
              "<Figure size 432x288 with 1 Axes>"
            ]
          },
          "metadata": {
            "needs_background": "light"
          },
          "output_type": "display_data"
        }
      ],
      "source": [
        "sns.stripplot(x='Category', y='LCS',data=final_test,order=['non','heavy','light'])"
      ]
    },
    {
      "cell_type": "code",
      "execution_count": null,
      "metadata": {
        "colab": {
          "base_uri": "https://localhost:8080/",
          "height": 296
        },
        "id": "tfRbvTWxxhT_",
        "outputId": "3fecb0a5-3747-474f-f16b-85eef5af2968"
      },
      "outputs": [
        {
          "data": {
            "text/plain": [
              "<matplotlib.axes._subplots.AxesSubplot at 0x7f9d26932950>"
            ]
          },
          "execution_count": 117,
          "metadata": {},
          "output_type": "execute_result"
        },
        {
          "data": {
            "image/png": "[encoded data removed]",
            "text/plain": [
              "<Figure size 432x288 with 1 Axes>"
            ]
          },
          "metadata": {
            "needs_background": "light"
          },
          "output_type": "display_data"
        }
      ],
      "source": [
        "sns.stripplot(x='Category', y='Score',data=final_test,order=['non','heavy','light'])"
      ]
    },
    {
      "cell_type": "code",
      "execution_count": null,
      "metadata": {
        "id": "jcR0J5LLxjmP"
      },
      "outputs": [],
      "source": [
        "original = 'Komodo merupakan spesies terbesar dari familia Varanidae, sekaligus kadal terbesar di dunia, dengan rata-rata panjang 2-3 meter dan beratnya bisa mencapai 100 kg. Komodo merupakan pemangsa puncak di habitatnya karena sejauh ini tidak diketahui adanya hewan karnivora besar lain selain biawak ini di sebarang geografisnya. Tubuhnya yang besar dan reputasinya yang mengerikan membuat mereka menjadi salah satu hewan paling terkenal di dunia.Sekarang, habitat komodo yang sesungguhnya telah menyusut akibat aktivitas manusia, sehingga lembaga IUCN memasukkan komodo sebagai spesies yang rentan terhadap kepunahan.Biawak komodo telah ditetapkan sebagai hewan yang dilindungi oleh pemerintah Indonesia dan habitanya dijadikan taman nasional, yaitu Taman Nasional Komodo, yang tujuannya didirikan untuk melindungi mereka.'\n",
        "sus = 'Komodo liar dewasa biasanya memiliki berat sekitar 70 kg, tetapi komodo yang dipelihara di penangkaran sering kali memiliki bobot yang lebih berat. Komodo memiliki ekor yang sama panjang dengan tubuhnya. Komodo jantan lebih besar daripada komodo betina, dengan warna kulit dari abu-abu gelap sampai merah batu bata, sementara komodo betina biasanya berwarna hijau kecokelatan dan memiliki bercak kecil kuning pada tenggorokannya. Komodo muda lebih bervariasi warnanya, dengan warna kuning, hijau dan putih dengan latar belakang hitam. Komodo memiliki lidah yang panjang, berwarna kuning kecokelatan dan bercabang.'"
      ]
    },
    {
      "cell_type": "code",
      "execution_count": null,
      "metadata": {
        "colab": {
          "base_uri": "https://localhost:8080/"
        },
        "id": "LigrK7Gg7MM3",
        "outputId": "e63b8efa-ece1-45a9-da54-8b7ecf10b753"
      },
      "outputs": [
        {
          "data": {
            "text/plain": [
              "0.23711340206185566"
            ]
          },
          "execution_count": 122,
          "metadata": {},
          "output_type": "execute_result"
        }
      ],
      "source": [
        "lcs = method3(original,sus)\n",
        "lcs"
      ]
    },
    {
      "cell_type": "code",
      "execution_count": null,
      "metadata": {
        "id": "fh0ICrSQ7lD4"
      },
      "outputs": [],
      "source": [
        "student_files2 = ['text1','text2']\n",
        "student_notes2 = [original,sus]"
      ]
    },
    {
      "cell_type": "code",
      "execution_count": null,
      "metadata": {
        "id": "-AOPH8Kz9sfz"
      },
      "outputs": [],
      "source": [
        "def cosine_sim():\n",
        "    global s_vectors\n",
        "    for student_a, text_vector_a in s_vectors:\n",
        "        new_vectors = s_vectors.copy()\n",
        "        current_index = new_vectors.index((student_a, text_vector_a))\n",
        "        del new_vectors[current_index]\n",
        "        for student_b, text_vector_b in new_vectors:\n",
        "            sim_score = similarity(text_vector_a, text_vector_b)[0][1]\n",
        "            student_pair = sorted((student_a, student_b))\n",
        "            score = (student_pair[0], student_pair[1], sim_score)\n",
        "            plagiarism_results.add(score)\n",
        "    return plagiarism_results"
      ]
    },
    {
      "cell_type": "code",
      "execution_count": null,
      "metadata": {
        "colab": {
          "base_uri": "https://localhost:8080/"
        },
        "id": "XuQ6T7TU8o_W",
        "outputId": "2adee16f-1c59-4086-ac14-fca404bbd683"
      },
      "outputs": [
        {
          "name": "stdout",
          "output_type": "stream",
          "text": [
            "{('text1', 'text2', 0.29156124521935806)}\n"
          ]
        }
      ],
      "source": [
        "print(cosine_sim())"
      ]
    },
    {
      "cell_type": "code",
      "execution_count": null,
      "metadata": {
        "colab": {
          "base_uri": "https://localhost:8080/",
          "height": 771
        },
        "id": "eIh7AYSY9WK1",
        "outputId": "5a22aeab-2913-4c43-afb2-fb85dcde6081"
      },
      "outputs": [
        {
          "data": {
            "text/html": [
              "<div>\n",
              "<style scoped>\n",
              "    .dataframe tbody tr th:only-of-type {\n",
              "        vertical-align: middle;\n",
              "    }\n",
              "\n",
              "    .dataframe tbody tr th {\n",
              "        vertical-align: top;\n",
              "    }\n",
              "\n",
              "    .dataframe thead th {\n",
              "        text-align: right;\n",
              "    }\n",
              "</style>\n",
              "<table border=\"1\" class=\"dataframe\">\n",
              "  <thead>\n",
              "    <tr style=\"text-align: right;\">\n",
              "      <th></th>\n",
              "      <th>File</th>\n",
              "      <th>Task</th>\n",
              "      <th>Category</th>\n",
              "      <th>Text</th>\n",
              "      <th>Type</th>\n",
              "      <th>Jaccard</th>\n",
              "      <th>Containment</th>\n",
              "      <th>LCS</th>\n",
              "      <th>Score</th>\n",
              "      <th>catjaccard</th>\n",
              "      <th>catcontainment</th>\n",
              "      <th>catlcs</th>\n",
              "      <th>catcosine</th>\n",
              "    </tr>\n",
              "  </thead>\n",
              "  <tbody>\n",
              "    <tr>\n",
              "      <th>0</th>\n",
              "      <td>g0pA_taska.txt</td>\n",
              "      <td>a</td>\n",
              "      <td>non</td>\n",
              "      <td>inheritance is a basic concept of object orien...</td>\n",
              "      <td>Task</td>\n",
              "      <td>0.00573614</td>\n",
              "      <td>0.00980392</td>\n",
              "      <td>0.136364</td>\n",
              "      <td>0.256141</td>\n",
              "      <td>non</td>\n",
              "      <td>non</td>\n",
              "      <td>non</td>\n",
              "      <td>non</td>\n",
              "    </tr>\n",
              "    <tr>\n",
              "      <th>1</th>\n",
              "      <td>g0pA_taskb.txt</td>\n",
              "      <td>b</td>\n",
              "      <td>light</td>\n",
              "      <td>pagerank is a link analysis algorithm used by ...</td>\n",
              "      <td>Task</td>\n",
              "      <td>0.279946</td>\n",
              "      <td>0.390244</td>\n",
              "      <td>0.325234</td>\n",
              "      <td>0.787296</td>\n",
              "      <td>light</td>\n",
              "      <td>light</td>\n",
              "      <td>light</td>\n",
              "      <td>light</td>\n",
              "    </tr>\n",
              "    <tr>\n",
              "      <th>2</th>\n",
              "      <td>g0pA_taskc.txt</td>\n",
              "      <td>c</td>\n",
              "      <td>light</td>\n",
              "      <td>the vector space model also called term vector...</td>\n",
              "      <td>Task</td>\n",
              "      <td>0.302575</td>\n",
              "      <td>0.5875</td>\n",
              "      <td>0.797521</td>\n",
              "      <td>0.899383</td>\n",
              "      <td>light</td>\n",
              "      <td>light</td>\n",
              "      <td>light</td>\n",
              "      <td>light</td>\n",
              "    </tr>\n",
              "    <tr>\n",
              "      <th>3</th>\n",
              "      <td>g0pA_taskd.txt</td>\n",
              "      <td>d</td>\n",
              "      <td>heavy</td>\n",
              "      <td>bayes theorem was names after rev thomas bayes...</td>\n",
              "      <td>Task</td>\n",
              "      <td>0.0686869</td>\n",
              "      <td>0.111842</td>\n",
              "      <td>0.199346</td>\n",
              "      <td>0.522801</td>\n",
              "      <td>heavy</td>\n",
              "      <td>heavy</td>\n",
              "      <td>non</td>\n",
              "      <td>heavy</td>\n",
              "    </tr>\n",
              "    <tr>\n",
              "      <th>4</th>\n",
              "      <td>g0pA_taske.txt</td>\n",
              "      <td>e</td>\n",
              "      <td>non</td>\n",
              "      <td>dynamic programming is an algorithm design tec...</td>\n",
              "      <td>Task</td>\n",
              "      <td>0.00980392</td>\n",
              "      <td>0.0136187</td>\n",
              "      <td>0.0949612</td>\n",
              "      <td>0.358783</td>\n",
              "      <td>non</td>\n",
              "      <td>non</td>\n",
              "      <td>non</td>\n",
              "      <td>non</td>\n",
              "    </tr>\n",
              "    <tr>\n",
              "      <th>...</th>\n",
              "      <td>...</td>\n",
              "      <td>...</td>\n",
              "      <td>...</td>\n",
              "      <td>...</td>\n",
              "      <td>...</td>\n",
              "      <td>...</td>\n",
              "      <td>...</td>\n",
              "      <td>...</td>\n",
              "      <td>...</td>\n",
              "      <td>...</td>\n",
              "      <td>...</td>\n",
              "      <td>...</td>\n",
              "      <td>...</td>\n",
              "    </tr>\n",
              "    <tr>\n",
              "      <th>90</th>\n",
              "      <td>g4pE_taska.txt</td>\n",
              "      <td>a</td>\n",
              "      <td>heavy</td>\n",
              "      <td>object oriented programming is a style of prog...</td>\n",
              "      <td>Task</td>\n",
              "      <td>0.0117647</td>\n",
              "      <td>0.0196078</td>\n",
              "      <td>0.162338</td>\n",
              "      <td>0.325133</td>\n",
              "      <td>non</td>\n",
              "      <td>non</td>\n",
              "      <td>non</td>\n",
              "      <td>non</td>\n",
              "    </tr>\n",
              "    <tr>\n",
              "      <th>91</th>\n",
              "      <td>g4pE_taskb.txt</td>\n",
              "      <td>b</td>\n",
              "      <td>light</td>\n",
              "      <td>pagerankalgorithm is also known as link analys...</td>\n",
              "      <td>Task</td>\n",
              "      <td>0.258398</td>\n",
              "      <td>0.375235</td>\n",
              "      <td>0.381308</td>\n",
              "      <td>0.816421</td>\n",
              "      <td>light</td>\n",
              "      <td>light</td>\n",
              "      <td>light</td>\n",
              "      <td>light</td>\n",
              "    </tr>\n",
              "    <tr>\n",
              "      <th>92</th>\n",
              "      <td>g4pE_taskc.txt</td>\n",
              "      <td>c</td>\n",
              "      <td>light</td>\n",
              "      <td>the definition of term depends on the applicat...</td>\n",
              "      <td>Task</td>\n",
              "      <td>0.144444</td>\n",
              "      <td>0.270833</td>\n",
              "      <td>0.247934</td>\n",
              "      <td>0.614684</td>\n",
              "      <td>heavy</td>\n",
              "      <td>heavy</td>\n",
              "      <td>heavy</td>\n",
              "      <td>heavy</td>\n",
              "    </tr>\n",
              "    <tr>\n",
              "      <th>93</th>\n",
              "      <td>g4pE_taskd.txt</td>\n",
              "      <td>d</td>\n",
              "      <td>non</td>\n",
              "      <td>bayes theorem or bayes rule  or something cal...</td>\n",
              "      <td>Task</td>\n",
              "      <td>0</td>\n",
              "      <td>0</td>\n",
              "      <td>0.107843</td>\n",
              "      <td>0.280435</td>\n",
              "      <td>non</td>\n",
              "      <td>non</td>\n",
              "      <td>non</td>\n",
              "      <td>non</td>\n",
              "    </tr>\n",
              "    <tr>\n",
              "      <th>94</th>\n",
              "      <td>g4pE_taske.txt</td>\n",
              "      <td>e</td>\n",
              "      <td>non</td>\n",
              "      <td>dynamic programming is a method for efficient...</td>\n",
              "      <td>Task</td>\n",
              "      <td>0.0292553</td>\n",
              "      <td>0.0428016</td>\n",
              "      <td>0.114341</td>\n",
              "      <td>0.326179</td>\n",
              "      <td>non</td>\n",
              "      <td>heavy</td>\n",
              "      <td>non</td>\n",
              "      <td>non</td>\n",
              "    </tr>\n",
              "  </tbody>\n",
              "</table>\n",
              "<p>95 rows × 13 columns</p>\n",
              "</div>"
            ],
            "text/plain": [
              "              File Task Category  ... catcontainment catlcs catcosine\n",
              "0   g0pA_taska.txt    a      non  ...            non    non       non\n",
              "1   g0pA_taskb.txt    b    light  ...          light  light     light\n",
              "2   g0pA_taskc.txt    c    light  ...          light  light     light\n",
              "3   g0pA_taskd.txt    d    heavy  ...          heavy    non     heavy\n",
              "4   g0pA_taske.txt    e      non  ...            non    non       non\n",
              "..             ...  ...      ...  ...            ...    ...       ...\n",
              "90  g4pE_taska.txt    a    heavy  ...            non    non       non\n",
              "91  g4pE_taskb.txt    b    light  ...          light  light     light\n",
              "92  g4pE_taskc.txt    c    light  ...          heavy  heavy     heavy\n",
              "93  g4pE_taskd.txt    d      non  ...            non    non       non\n",
              "94  g4pE_taske.txt    e      non  ...          heavy    non       non\n",
              "\n",
              "[95 rows x 13 columns]"
            ]
          },
          "execution_count": 128,
          "metadata": {},
          "output_type": "execute_result"
        }
      ],
      "source": [
        "final_test"
      ]
    },
    {
      "cell_type": "code",
      "execution_count": null,
      "metadata": {
        "id": "adrJVVaO-9om"
      },
      "outputs": [],
      "source": []
    }
  ],
  "metadata": {
    "colab": {
      "collapsed_sections": [],
      "name": "NLP FIX.ipynb",
      "provenance": []
    },
    "kernelspec": {
      "display_name": "Python 3",
      "name": "python3"
    },
    "language_info": {
      "name": "python"
    }
  },
  "nbformat": 4,
  "nbformat_minor": 0
}
